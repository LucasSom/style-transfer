{
 "cells": [
  {
   "cell_type": "markdown",
   "metadata": {
    "collapsed": true,
    "pycharm": {
     "name": "#%% md\n"
    },
    "id": "BOVlmL9MGNLS"
   },
   "source": [
    "# Style transfer"
   ]
  },
  {
   "cell_type": "markdown",
   "metadata": {
    "id": "E_6nP393GNLc"
   },
   "source": [
    "#### Setup"
   ]
  },
  {
   "cell_type": "code",
   "execution_count": null,
   "metadata": {
    "pycharm": {
     "name": "#%%\n",
     "is_executing": true
    },
    "id": "bprSm_piGNLZ"
   },
   "outputs": [],
   "source": [
    "import os\n",
    "\n",
    "try:\n",
    "    from google.colab import drive\n",
    "    drive.mount('/content/drive')\n",
    "\n",
    "    # Change the directory\n",
    "    os.chdir('/content/drive/MyDrive/ColabNotebooks/style-transfer')\n",
    "    is_colab = True\n",
    "    print(\"Running on Colab\")\n",
    "\n",
    "except:\n",
    "    is_colab = False\n",
    "    print(\"Running locally\")"
   ]
  },
  {
   "cell_type": "code",
   "execution_count": 2,
   "metadata": {
    "pycharm": {
     "name": "#%%\n"
    },
    "id": "7uP4gUbdGNLd"
   },
   "outputs": [],
   "source": [
    "# 35s\n",
    "if is_colab:\n",
    "    ! pip install pretty_midi\n",
    "    # ! apt-get install musescore\n",
    "    ! pip install dfply\n",
    "\n",
    "    # ! pip install pyfluidsynth\n",
    "    # ! apt install fluidsynth\n",
    "\n",
    "    # !cp /usr/share/sounds/sf2/FluidR3_GM.sf2 ./font.sf2"
   ]
  },
  {
   "cell_type": "code",
   "execution_count": null,
   "metadata": {
    "pycharm": {
     "name": "#%%\n",
     "is_executing": true
    },
    "id": "VOdmuzFuGNLg"
   },
   "outputs": [],
   "source": [
    "#3s\n",
    "import random\n",
    "random.seed(42)\n",
    "\n",
    "import glob\n",
    "import pandas as pd\n",
    "\n",
    "from utils.files_utils  import save_pickle, load_pickle, data_path\n",
    "from utils.plots_utils import plot_train\n",
    "from model.train import train_model\n",
    "from model.colab_tension_vae.params import configs\n",
    "from model.embeddings import obtain_embeddings, get_embeddings_roll_df\n",
    "from preprocessing import preprocess_data\n",
    "from tensorflow import keras"
   ]
  },
  {
   "cell_type": "markdown",
   "metadata": {
    "id": "S3VWz_ViGNLi"
   },
   "source": [
    "## Parámetros"
   ]
  },
  {
   "cell_type": "code",
   "execution_count": 4,
   "metadata": {
    "pycharm": {
     "name": "#%%\n"
    },
    "id": "UX18tHS0GNLj"
   },
   "outputs": [],
   "source": [
    "#@title Parámetros ajustables\n",
    "\n",
    "#@markdown Seleccionar directorios de los datasets\n",
    "dataset_name = \"sonata15_mapleleaf_ds\" #@param {type:\"string\"}\n",
    "model_name = \"urania-test\" #@param {type:\"string\"}\n",
    "config_name = \"8bar\" #@param [\"8bar\", \"4bar\"]\n",
    "config = configs[config_name]\n",
    "\n",
    "#@markdown ¿Entrenamos un nuevo modelo?\n",
    "if_train = True #@param {type:\"boolean\"}\n",
    "entrenar_nuevo = True #@param {type:\"boolean\"}\n",
    "\n",
    "#@markdown ¿Cuántas épocas? ¿Cada cuánto grabamos?\n",
    "epochs =  10#@param {type:\"integer\"}\n",
    "checkpt =  1#@param {type:\"integer\"}\n",
    "\n",
    "#@markdown Datasets:\n",
    "dataset1 = \"Bach/\" #@param {type:\"string\"}\n",
    "dataset2 = \"ragtime/\" #@param {type:\"string\"}\n",
    "dataset3 = \"Mozart/\" #@param {type:\"string\"}\n",
    "dataset4 = \"Frescobaldi/\" #@param {type:\"string\"}\n",
    "\n",
    "\n",
    "songs = {\n",
    "    dataset1[:-1]: [data_path+dataset1+path for path in os.listdir(data_path+dataset1)],\n",
    "    dataset2[:-1]: [data_path+dataset2+path for path in os.listdir(data_path+dataset2)],\n",
    "    dataset3[:-1]: [data_path+dataset3+path for path in os.listdir(data_path+dataset3)],\n",
    "    dataset4[:-1]: [data_path+dataset4+path for path in os.listdir(data_path+dataset4)],\n",
    "}"
   ]
  },
  {
   "cell_type": "code",
   "execution_count": null,
   "metadata": {
    "pycharm": {
     "name": "#%%\n"
    },
    "id": "_EdwiPlDGNLk"
   },
   "outputs": [],
   "source": [
    "#@title Transformar estilo\n",
    "ds_original = \"Bach\" #@param [\"Bach\", \"ragtime\", \"Mozart\", \"Frescobaldi\"]\n",
    "ds_objetivo = \"Mozart\" #@param [\"Bach\", \"ragtime\", \"Mozart\", \"Frescobaldi\"]\n",
    "\n",
    "nombre_pickle = ds_original+\"2\"+ds_objetivo"
   ]
  },
  {
   "cell_type": "markdown",
   "metadata": {
    "id": "KqcMEtA0GNLm"
   },
   "source": [
    "____\n",
    "# Preprocessing and Model"
   ]
  },
  {
   "cell_type": "markdown",
   "metadata": {
    "id": "i6ILtS0xGNLn"
   },
   "source": [
    "Se lo lleva al formato lista de:\n",
    "\n",
    "- $n$ canciones = lista de:\n",
    "- 2 voces = lista de:\n",
    "- $e$ eventos (notas, silencios, etc.)"
   ]
  },
  {
   "cell_type": "markdown",
   "metadata": {
    "id": "f3IEfUpUGNLo"
   },
   "source": [
    "\n",
    "Armamos el DataFrame con el que manejamos las canciones. Cada fila es una canción y las columnas son:\n",
    "- `Autor`\n",
    "- `Título`\n",
    "- `Id roll`: qué matriz es de la canción\n",
    "- `Roll` objeto (GuoRoll) con:\n",
    "    - `matrix`: matriz de $16*n \\times 89$ con $n=$ la cantidad de compases\n",
    "    - `bars`: cantidad de compases por matriz (es el mismo para todo el dataset, con lo cual, podría eliminarse la redundancia en un trabajo futuro)\n",
    "    - `song`: referencia al objeto `song` al que pertenece si fue obtenido de ahí. Si fue obtenido desde un embedding, es `None` (en un trabajo futuro podría cambiárselo por un singleton).\n",
    "    - `score`: partitura obtenida a partir de la matriz\n",
    "    - `midi`: Pretty MIDI obtenido a partir de la matriz\n",
    "\n",
    "Luego le agregaremos:\n",
    "- `Embedding`: el vector resultado de encodear el roll"
   ]
  },
  {
   "cell_type": "markdown",
   "metadata": {
    "pycharm": {
     "name": "#%% md\n"
    },
    "id": "RtH2EhApGNLo"
   },
   "source": [
    "## Preprocessing"
   ]
  },
  {
   "cell_type": "code",
   "execution_count": 5,
   "metadata": {
    "pycharm": {
     "name": "#%%\n"
    },
    "scrolled": true,
    "id": "1uIx8PS0GNLp"
   },
   "outputs": [],
   "source": [
    "try:\n",
    "    df_preprocessed = load_pickle(name=dataset_name, path=data_path+\"preprocessed_data/\")\n",
    "except:\n",
    "    df_preprocessed = preprocess_data(songs, config.bars)\n",
    "    save_pickle(df_preprocessed, name=dataset_name, path=data_path+\"preprocessed_data/\")"
   ]
  },
  {
   "cell_type": "markdown",
   "metadata": {
    "pycharm": {
     "name": "#%% md\n"
    },
    "id": "PqimGOhyGNLp"
   },
   "source": [
    "## Model"
   ]
  },
  {
   "cell_type": "code",
   "execution_count": null,
   "metadata": {
    "pycharm": {
     "name": "#%%\n",
     "is_executing": true
    },
    "id": "z6aMetleGNLq"
   },
   "outputs": [],
   "source": [
    "if if_train:\n",
    "    vae = train_model(\n",
    "        df=df_preprocessed,\n",
    "        model_name=model_name,\n",
    "        config=config_name,\n",
    "        new_training=entrenar_nuevo,\n",
    "        final_epoch=epochs,\n",
    "        ckpt=checkpt\n",
    "    )\n",
    "else:\n",
    "    vae = keras.models.load_model(data_path + f\"saved_models/{model_name}/\")"
   ]
  },
  {
   "cell_type": "code",
   "execution_count": null,
   "outputs": [],
   "source": [
    "glob.glob(rf\"{data_path}logs/{model_name}_*.csv\")"
   ],
   "metadata": {
    "pycharm": {
     "name": "#%%\n"
    },
    "id": "83KzT1dVIB3M"
   }
  },
  {
   "cell_type": "code",
   "execution_count": null,
   "metadata": {
    "pycharm": {
     "name": "#%%\n"
    },
    "id": "NEpu172wGNLr",
    "cellView": "form"
   },
   "outputs": [],
   "source": [
    "id_file =  790#@param {type:\"integer\"}\n",
    "\n",
    "callbacks = pd.read_csv(data_path + f\"logs/{model_name}_{id_file}.csv\")\n",
    "plot_train(callbacks, epochs)"
   ]
  },
  {
   "cell_type": "markdown",
   "source": [
    "## Reconstruction"
   ],
   "metadata": {
    "id": "SWT0obzYdEfM"
   }
  },
  {
   "cell_type": "code",
   "source": [
    "# TODO: Llevar estas 2 celdas a una única función\n",
    "try:\n",
    "    df_emb = load_pickle(name=model_name, path=data_path + \"embeddings/\")\n",
    "except:\n",
    "    df_emb = obtain_embeddings(df_preprocessed, vae)\n",
    "    save_pickle(df_emb, model_name, data_path + \"embeddings/\")\n"
   ],
   "metadata": {
    "id": "3Qdpjgz6dC0d"
   },
   "execution_count": null,
   "outputs": []
  },
  {
   "cell_type": "code",
   "execution_count": null,
   "outputs": [],
   "source": [
    "try:\n",
    "    df_reconstructed = load_pickle(model_name + \"recons\", data_path + \"embeddings/\")\n",
    "except:\n",
    "    df_reconstructed = get_embeddings_roll_df(df_emb, vae)\n",
    "    save_pickle(df_reconstructed, model_name + \"recons\", data_path + \"embeddings/\")\n",
    "\n",
    "if is_colab:\n",
    "  ! sudo apt install lilypond"
   ],
   "metadata": {
    "pycharm": {
     "name": "#%%\n"
    },
    "id": "EOKzeqFzIB3O"
   }
  },
  {
   "cell_type": "code",
   "execution_count": null,
   "outputs": [],
   "source": [
    "for i, r in df_reconstructed.head().iterrows():\n",
    "    print(r.roll.song.nombre)\n",
    "    print(\"Original:\")\n",
    "    r.roll.display_score()\n",
    "    print(\"Reconstrucción:\")\n",
    "    r.EmbeddingRoll.display_score()\n",
    "    print(\"----------------------------------------------------------------------\")"
   ],
   "metadata": {
    "pycharm": {
     "name": "#%%\n"
    },
    "id": "cHJuhFSsIB3O"
   }
  },
  {
   "cell_type": "markdown",
   "source": [
    "# Working space"
   ],
   "metadata": {
    "id": "Li2cTF9ZGxoU"
   }
  },
  {
   "cell_type": "code",
   "execution_count": null,
   "outputs": [],
   "source": [
    "df_reconstructed.head().roll[854].bars\n",
    "\n",
    "# for i, r in df_reconstructed.head().iterrows():\n",
    "#     print(r.roll.song.nombre)\n",
    "#     print(\"Original:\")\n",
    "#     r.roll.display_score()\n",
    "#     print(\"Reconstrucción:\")\n",
    "#     r.EmbeddingRoll.display_score()\n",
    "#     print(\"----------------------------------------------------------------------\")"
   ],
   "metadata": {
    "pycharm": {
     "name": "#%%\n"
    },
    "id": "xqiE78BvIB3P"
   }
  },
  {
   "cell_type": "code",
   "source": [
    "df_preprocessed.head().roll[0].matrix.shape"
   ],
   "metadata": {
    "id": "uJ5mkbhQgrlY"
   },
   "execution_count": null,
   "outputs": []
  },
  {
   "cell_type": "code",
   "execution_count": null,
   "outputs": [],
   "source": [
    "! git status"
   ],
   "metadata": {
    "pycharm": {
     "name": "#%%\n"
    },
    "id": "OQe45yjMIB3P"
   }
  },
  {
   "cell_type": "code",
   "source": [
    "!git config --global user.email \"lsomacal@gmail.com\"\n",
    "!git config --global user.name \"LucasSom\""
   ],
   "metadata": {
    "id": "Xb8qGR64RaSb"
   },
   "execution_count": null,
   "outputs": []
  },
  {
   "cell_type": "code",
   "source": [
    "! git add style-transfer.ipynb model/train.py"
   ],
   "metadata": {
    "id": "A0WgYR1zG30Q"
   },
   "execution_count": null,
   "outputs": []
  },
  {
   "cell_type": "code",
   "source": [
    "# !git commit -m \"Running on colab without reload model\"\n",
    "! git push"
   ],
   "metadata": {
    "id": "kBo9NY2oROVD"
   },
   "execution_count": null,
   "outputs": []
  },
  {
   "cell_type": "code",
   "source": [
    "from tensorflow import keras\n",
    "from model.colab_tension_vae import build_model\n",
    "\n",
    "vae = keras.models.load_model(data_path + f\"saved_models/{model_name}/\", custom_objects=dict(kl_beta=build_model.kl_beta))"
   ],
   "metadata": {
    "id": "q2zlEaqMdNue"
   },
   "execution_count": null,
   "outputs": []
  },
  {
   "cell_type": "code",
   "source": [
    "vae.summary()"
   ],
   "metadata": {
    "id": "W39RnEF5dUHh"
   },
   "execution_count": null,
   "outputs": []
  }
 ],
 "metadata": {
  "kernelspec": {
   "display_name": "Python 3 (ipykernel)",
   "language": "python",
   "name": "python3"
  },
  "language_info": {
   "codemirror_mode": {
    "name": "ipython",
    "version": 3
   },
   "file_extension": ".py",
   "mimetype": "text/x-python",
   "name": "python",
   "nbconvert_exporter": "python",
   "pygments_lexer": "ipython3",
   "version": "3.8.10"
  },
  "colab": {
   "name": "style-transfer.ipynb",
   "provenance": [],
   "collapsed_sections": []
  }
 },
 "nbformat": 4,
 "nbformat_minor": 0
}