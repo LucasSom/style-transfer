{
 "cells": [
  {
   "cell_type": "markdown",
   "metadata": {
    "collapsed": true,
    "pycharm": {
     "name": "#%% md\n"
    },
    "id": "BOVlmL9MGNLS"
   },
   "source": [
    "# Style transfer"
   ]
  },
  {
   "cell_type": "code",
   "execution_count": null,
   "metadata": {
    "pycharm": {
     "name": "#%%\n",
     "is_executing": true
    },
    "id": "bprSm_piGNLZ",
    "colab": {
     "base_uri": "https://localhost:8080/"
    },
    "executionInfo": {
     "status": "ok",
     "timestamp": 1646250189388,
     "user_tz": 180,
     "elapsed": 19478,
     "user": {
      "displayName": "Cloto Átropos",
      "photoUrl": "https://lh3.googleusercontent.com/a/default-user=s64",
      "userId": "08037435766923613747"
     }
    },
    "outputId": "8dfd3d50-355e-47b6-e236-72493b3f5527"
   },
   "outputs": [],
   "source": [
    "import os\n",
    "\n",
    "try:\n",
    "    from google.colab import drive\n",
    "    drive.mount('/content/drive')\n",
    "\n",
    "    # Change the directory\n",
    "    os.chdir('/content/drive/MyDrive/ColabNotebooks/style-transfer')\n",
    "    is_colab = True\n",
    "    print(\"Running on Colab\")\n",
    "\n",
    "except:\n",
    "    is_colab = False\n",
    "    print(\"Running locally\")\n"
   ]
  },
  {
   "cell_type": "markdown",
   "metadata": {
    "id": "E_6nP393GNLc"
   },
   "source": [
    "#### Setup"
   ]
  },
  {
   "cell_type": "code",
   "execution_count": null,
   "metadata": {
    "pycharm": {
     "name": "#%%\n"
    },
    "id": "7uP4gUbdGNLd",
    "colab": {
     "base_uri": "https://localhost:8080/"
    },
    "executionInfo": {
     "status": "ok",
     "timestamp": 1646250297742,
     "user_tz": 180,
     "elapsed": 108366,
     "user": {
      "displayName": "Cloto Átropos",
      "photoUrl": "https://lh3.googleusercontent.com/a/default-user=s64",
      "userId": "08037435766923613747"
     }
    },
    "outputId": "59ae168d-f5d0-46f6-989a-7d0321c297bc"
   },
   "outputs": [],
   "source": [
    "# 35s\n",
    "if is_colab:\n",
    "    ! pip install pretty_midi\n",
    "    ! apt-get install musescore\n",
    "    ! sudo apt install lilypond\n",
    "    ! pip install dfply\n",
    "\n",
    "    ! pip install pyfluidsynth\n",
    "    ! apt install musescore fluidsynth\n",
    "\n",
    "    !cp /usr/share/sounds/sf2/FluidR3_GM.sf2 ./font.sf2"
   ]
  },
  {
   "cell_type": "code",
   "execution_count": null,
   "metadata": {
    "pycharm": {
     "name": "#%%\n",
     "is_executing": true
    },
    "id": "VOdmuzFuGNLg",
    "executionInfo": {
     "status": "ok",
     "timestamp": 1646250307863,
     "user_tz": 180,
     "elapsed": 10140,
     "user": {
      "displayName": "Cloto Átropos",
      "photoUrl": "https://lh3.googleusercontent.com/a/default-user=s64",
      "userId": "08037435766923613747"
     }
    }
   },
   "outputs": [],
   "source": [
    "#3s\n",
    "import random\n",
    "random.seed(42)\n",
    "\n",
    "from utils.files_utils  import save_pickle, load_pickle, datasets_name, data_path\n",
    "from utils.plots_utils import plot_train, calculate_TSNEs, plot_tsne\n",
    "from utils.utils import exp_disponibles, filter_column\n",
    "from display_audio import save_audios, display_audios, display_score\n",
    "from roll.guoroll import get_scores_from_roll\n",
    "from model.train import train_model\n",
    "from preprocessing import preprocess_data"
   ]
  },
  {
   "cell_type": "markdown",
   "metadata": {
    "id": "S3VWz_ViGNLi"
   },
   "source": [
    "## Parámetros"
   ]
  },
  {
   "cell_type": "code",
   "execution_count": 3,
   "metadata": {
    "pycharm": {
     "name": "#%%\n"
    },
    "cellView": "form",
    "id": "UX18tHS0GNLj",
    "executionInfo": {
     "status": "ok",
     "timestamp": 1646250310014,
     "user_tz": 180,
     "elapsed": 2164,
     "user": {
      "displayName": "Cloto Átropos",
      "photoUrl": "https://lh3.googleusercontent.com/a/default-user=s64",
      "userId": "08037435766923613747"
     }
    }
   },
   "outputs": [],
   "source": [
    "#@title ¿Entrenamos un nuevo modelo? - Seleccionar directorios de los datasets\n",
    "if_train = \"Si\" #@param [\"Si\", \"No\"]\n",
    "\n",
    "dataset_name = \"bach_rag_moz_fres\" #@param {type:\"string\"}\n",
    "model_name = \"bach_rag_moz_fres\" #@param {type:\"string\"}\n",
    "\n",
    "epoca_inicial =  400#@param {type:\"integer\"}\n",
    "entrenar_nuevo = epoca_inicial == 0\n",
    "\n",
    "epochs =  2#@param {type:\"integer\"}\n",
    "checkpt =  1#@param {type:\"integer\"}\n",
    "\n",
    "dataset1 = \"Bach/\" #@param {type:\"string\"}\n",
    "dataset2 = \"ragtime/\" #@param {type:\"string\"}\n",
    "dataset3 = \"Mozart/\" #@param {type:\"string\"}\n",
    "dataset4 = \"Frescobaldi/\" #@param {type:\"string\"}\n",
    "\n",
    "songs = {\n",
    "    dataset1[:-1]: [data_path+dataset1+path for path in os.listdir(data_path+dataset1)],\n",
    "    dataset2[:-1]: [data_path+dataset2+path for path in os.listdir(data_path+dataset2)],\n",
    "    dataset3[:-1]: [data_path+dataset3+path for path in os.listdir(data_path+dataset3)],\n",
    "    dataset4[:-1]: [data_path+dataset4+path for path in os.listdir(data_path+dataset4)],\n",
    "}"
   ]
  },
  {
   "cell_type": "code",
   "execution_count": null,
   "metadata": {
    "pycharm": {
     "name": "#%%\n"
    },
    "cellView": "form",
    "id": "_EdwiPlDGNLk"
   },
   "outputs": [],
   "source": [
    "#@title Transformar estilo\n",
    "ds_original = \"Bach\" #@param [\"Bach\", \"ragtime\", \"Mozart\", \"Frescobaldi\"]\n",
    "ds_objetivo = \"Mozart\" #@param [\"Bach\", \"ragtime\", \"Mozart\", \"Frescobaldi\"]\n",
    "\n",
    "nombre_pickle = ds_original+\"2\"+ds_objetivo"
   ]
  },
  {
   "cell_type": "markdown",
   "metadata": {
    "id": "KqcMEtA0GNLm"
   },
   "source": [
    "____\n",
    "# Preprocessing and Model"
   ]
  },
  {
   "cell_type": "markdown",
   "metadata": {
    "id": "i6ILtS0xGNLn"
   },
   "source": [
    "Se lo lleva al formato lista de:\n",
    "\n",
    "- $n$ canciones = lista de:\n",
    "- 2 voces = lista de:\n",
    "- $e$ eventos (notas, silencios, etc.)"
   ]
  },
  {
   "cell_type": "markdown",
   "metadata": {
    "id": "f3IEfUpUGNLo"
   },
   "source": [
    "\n",
    "Armamos el DataFrame con el que manejamos las canciones. Cada fila es una canción y las columnas son:\n",
    "- `Autor`\n",
    "- `Título`\n",
    "- `Id roll`: qué matriz es de la canción\n",
    "- `Roll` objeto (GuoRoll) con:\n",
    "    - `matrix`: matriz de $16*n \\times 89$ con $n=$ la cantidad de compases\n",
    "    - `bars`: cantidad de compases por matriz (es el mismo para todo el dataset, con lo cual, podría eliminarse la redundancia en un trabajo futuro)\n",
    "    - `song`: referencia al objeto `song` al que pertenece si fue obtenido de ahí. Si fue obtenido desde un embedding, es `None` (en un trabajo futuro podría cambiárselo por un singleton).\n",
    "    - `score`: partitura obtenida a partir de la matriz\n",
    "    - `midi`: Pretty MIDI obtenido a partir de la matriz\n",
    "\n",
    "Luego le agregaremos:\n",
    "- `Embedding`: el vector resultado de encodear el roll"
   ]
  },
  {
   "cell_type": "markdown",
   "metadata": {
    "pycharm": {
     "name": "#%% md\n"
    },
    "id": "RtH2EhApGNLo"
   },
   "source": [
    "## Preprocessing"
   ]
  },
  {
   "cell_type": "code",
   "execution_count": 4,
   "metadata": {
    "pycharm": {
     "name": "#%%\n"
    },
    "scrolled": true,
    "id": "1uIx8PS0GNLp",
    "executionInfo": {
     "status": "ok",
     "timestamp": 1646250337453,
     "user_tz": 180,
     "elapsed": 27453,
     "user": {
      "displayName": "Cloto Átropos",
      "photoUrl": "https://lh3.googleusercontent.com/a/default-user=s64",
      "userId": "08037435766923613747"
     }
    }
   },
   "outputs": [],
   "source": [
    "try:\n",
    "    df_preprocessed = load_pickle(name=dataset_name, path=data_path+\"preprocessed_data/\")\n",
    "except:\n",
    "    df_preprocessed = preprocess_data(songs)\n",
    "    save_pickle(df_preprocessed, name=dataset_name, path=data_path+\"preprocessed_data/\")"
   ]
  },
  {
   "cell_type": "markdown",
   "metadata": {
    "pycharm": {
     "name": "#%% md\n"
    },
    "id": "PqimGOhyGNLp"
   },
   "source": [
    "## Model"
   ]
  },
  {
   "cell_type": "code",
   "execution_count": null,
   "metadata": {
    "pycharm": {
     "name": "#%%\n",
     "is_executing": true
    },
    "id": "z6aMetleGNLq",
    "executionInfo": {
     "status": "ok",
     "timestamp": 1646250381799,
     "user_tz": 180,
     "elapsed": 44355,
     "user": {
      "displayName": "Cloto Átropos",
      "photoUrl": "https://lh3.googleusercontent.com/a/default-user=s64",
      "userId": "08037435766923613747"
     }
    }
   },
   "outputs": [],
   "source": [
    "model, callbacks = train_model(\n",
    "    df=df_preprocessed,\n",
    "    model_name=model_name,\n",
    "    new_training=entrenar_nuevo,\n",
    "    final_epoch=epochs,\n",
    "    ckpt=checkpt\n",
    ")"
   ]
  },
  {
   "cell_type": "code",
   "execution_count": null,
   "metadata": {
    "pycharm": {
     "name": "#%%\n",
     "is_executing": true
    },
    "id": "NEpu172wGNLr",
    "colab": {
     "base_uri": "https://localhost:8080/",
     "height": 612
    },
    "executionInfo": {
     "status": "ok",
     "timestamp": 1646250382426,
     "user_tz": 180,
     "elapsed": 641,
     "user": {
      "displayName": "Cloto Átropos",
      "photoUrl": "https://lh3.googleusercontent.com/a/default-user=s64",
      "userId": "08037435766923613747"
     }
    },
    "outputId": "2a63454b-9be9-4995-8773-e9034bc2af1c"
   },
   "outputs": [],
   "source": [
    "plot_train(callbacks, epochs)"
   ]
  },
  {
   "cell_type": "markdown",
   "source": [
    "# Working space"
   ],
   "metadata": {
    "id": "Li2cTF9ZGxoU"
   }
  },
  {
   "cell_type": "code",
   "source": [
    "! git status"
   ],
   "metadata": {
    "id": "VHwLiuvDGzr-"
   },
   "execution_count": null,
   "outputs": []
  },
  {
   "cell_type": "code",
   "source": [
    "! git add style-transfer.ipynb model/train.py"
   ],
   "metadata": {
    "id": "A0WgYR1zG30Q"
   },
   "execution_count": null,
   "outputs": []
  },
  {
   "cell_type": "code",
   "source": [
    "# !git commit -m \"Running on colab without reload model\"\n",
    "!git push"
   ],
   "metadata": {
    "colab": {
     "base_uri": "https://localhost:8080/"
    },
    "id": "kBo9NY2oROVD",
    "executionInfo": {
     "status": "ok",
     "timestamp": 1646185033813,
     "user_tz": 180,
     "elapsed": 724,
     "user": {
      "displayName": "Cloto Átropos",
      "photoUrl": "https://lh3.googleusercontent.com/a/default-user=s64",
      "userId": "08037435766923613747"
     }
    },
    "outputId": "1a130077-83f8-4807-be6c-4d86cd905673",
    "pycharm": {
     "is_executing": true
    }
   },
   "execution_count": null,
   "outputs": []
  },
  {
   "cell_type": "code",
   "source": [
    "!git config --global user.email \"lsomacal@gmail.com\"\n",
    "!git config --global user.name \"LucasSom\""
   ],
   "metadata": {
    "id": "Xb8qGR64RaSb"
   },
   "execution_count": null,
   "outputs": []
  }
 ],
 "metadata": {
  "kernelspec": {
   "display_name": "Python 3 (ipykernel)",
   "language": "python",
   "name": "python3"
  },
  "language_info": {
   "codemirror_mode": {
    "name": "ipython",
    "version": 3
   },
   "file_extension": ".py",
   "mimetype": "text/x-python",
   "name": "python",
   "nbconvert_exporter": "python",
   "pygments_lexer": "ipython3",
   "version": "3.8.10"
  },
  "colab": {
   "name": "style-transfer.ipynb",
   "provenance": [],
   "collapsed_sections": []
  }
 },
 "nbformat": 4,
 "nbformat_minor": 0
}