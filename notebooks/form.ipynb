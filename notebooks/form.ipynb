{
 "cells": [
  {
   "cell_type": "code",
   "execution_count": null,
   "metadata": {
    "collapsed": true,
    "pycharm": {
     "name": "#%%\n"
    }
   },
   "outputs": [],
   "source": [
    "import os\n",
    "\n",
    "try:\n",
    "    from google.colab import drive\n",
    "    drive.mount('/content/drive')\n",
    "\n",
    "    # Change the directory\n",
    "    os.chdir('/content/drive/MyDrive/ColabNotebooks/style-transfer')\n",
    "    is_colab = True\n",
    "    print(\"Running on Colab\")\n",
    "\n",
    "except:\n",
    "    is_colab = False\n",
    "    print(\"Running locally\")"
   ]
  },
  {
   "cell_type": "code",
   "execution_count": null,
   "outputs": [],
   "source": [
    "# 35s\n",
    "if is_colab:\n",
    "    ! pip install pretty_midi\n",
    "    # ! apt-get install musescore\n",
    "    # ! pip install dfply\n",
    "\n",
    "    # ! pip install pyfluidsynth\n",
    "    # ! apt install fluidsynth\n",
    "\n",
    "    # !cp /usr/share/sounds/sf2/FluidR3_GM.sf2 ./font.sf2"
   ],
   "metadata": {
    "collapsed": false,
    "pycharm": {
     "name": "#%%\n"
    }
   }
  },
  {
   "cell_type": "code",
   "execution_count": null,
   "outputs": [],
   "source": [
    "from utils.files_utils import audios_path\n",
    "from utils.display_audio import display_results\n",
    "from evaluation.evaluation import save_opinion"
   ],
   "metadata": {
    "collapsed": false,
    "pycharm": {
     "name": "#%%\n"
    }
   }
  },
  {
   "cell_type": "code",
   "execution_count": null,
   "outputs": [],
   "source": [
    "model_name = \"brmf_4b\" #@param [\"brmf_4b\"]"
   ],
   "metadata": {
    "collapsed": false,
    "pycharm": {
     "name": "#%%\n"
    }
   }
  },
  {
   "cell_type": "code",
   "execution_count": null,
   "outputs": [],
   "source": [
    "style = \"ragtime\" #@param [\"Bach\", \"Frescobaldi\", \"Mozart\", \"ragtime\"]\n",
    "\n",
    "style_path = os.path.join(audios_path, style)\n",
    "songs_list = [os.path.splitext(s)[0] for s in os.listdir(style_path)]\n",
    "\n",
    "print(\"------ Canciones disponibles: ------\")\n",
    "for s in songs_list:\n",
    "    print(s)"
   ],
   "metadata": {
    "collapsed": false,
    "pycharm": {
     "name": "#%%\n"
    }
   }
  },
  {
   "cell_type": "code",
   "execution_count": null,
   "outputs": [],
   "source": [
    "song_name = \"\" #@param {type:\"string\"}\n",
    "target = \"ragtime\" #@param [\"Bach\", \"Frescobaldi\", \"Mozart\", \"ragtime\"]\n",
    "\n",
    "if target == style:\n",
    "    print(\"target must be different of original style\")\n",
    "else:\n",
    "    display_results(song_name, model_name, style, target, fmt='mp3')"
   ],
   "metadata": {
    "collapsed": false,
    "pycharm": {
     "name": "#%%\n"
    }
   }
  },
  {
   "cell_type": "code",
   "execution_count": null,
   "outputs": [],
   "source": [
    "opinion = \"\" #@param {type:\"string\"}\n",
    "musicalidad = 0 #@param {type:\"slider\", min:0, max:100, step:1}\n",
    "nuevo_estilo = 0 #@param {type:\"slider\", min:0, max:100, step:1}\n",
    "respeto_del_original = 0 #@param {type:\"slider\", min:0, max:100, step:1}\n",
    "\n",
    "\n",
    "save_opinion(song_name, target, opinion, musicalidad, nuevo_estilo, respeto_del_original)"
   ],
   "metadata": {
    "collapsed": false,
    "pycharm": {
     "name": "#%%\n"
    }
   }
  }
 ],
 "metadata": {
  "kernelspec": {
   "display_name": "Python 3",
   "language": "python",
   "name": "python3"
  },
  "language_info": {
   "codemirror_mode": {
    "name": "ipython",
    "version": 2
   },
   "file_extension": ".py",
   "mimetype": "text/x-python",
   "name": "python",
   "nbconvert_exporter": "python",
   "pygments_lexer": "ipython2",
   "version": "2.7.6"
  }
 },
 "nbformat": 4,
 "nbformat_minor": 0
}