{
  "nbformat": 4,
  "nbformat_minor": 0,
  "metadata": {
    "colab": {
      "name": "plots.ipynb",
      "provenance": []
    },
    "kernelspec": {
      "name": "python3",
      "display_name": "Python 3"
    },
    "language_info": {
      "name": "python"
    }
  },
  "cells": [
    {
      "cell_type": "code",
      "execution_count": null,
      "metadata": {
        "id": "dsE9cjUnqoz_"
      },
      "outputs": [],
      "source": [
        "import os\n",
        "\n",
        "import pandas as pd\n",
        "\n",
        "from google.colab import drive\n",
        "drive.mount('/content/drive')\n",
        "\n",
        "# Change the directory\n",
        "os.chdir('/content/drive/MyDrive/ColabNotebooks/style-transfer')"
      ]
    },
    {
      "cell_type": "code",
      "source": [
        "import pandas as pd\n",
        "import glob\n",
        "\n",
        "from utils.files_utils  import datasets_name, data_path\n",
        "from utils.plots_utils import plot_train\n",
        "import model.colab_tension_vae.params as params\n",
        "\n",
        "config_name = \"4bar\" #@param [\"8bar\", \"4bar\"]\n",
        "params.init(config_name)\n",
        "\n",
        "model_name = \"bach-rag-moz-fres-4\" #@param {type:\"string\"}\n",
        "\n",
        "glob.glob(rf\"{data_path}logs/{model_name}_*.csv\")"
      ],
      "metadata": {
        "id": "Bos3xl8krFEf"
      },
      "execution_count": null,
      "outputs": []
    },
    {
      "cell_type": "code",
      "source": [
        "id_file = 0 #@param {type:\"integer\"}\n",
        "\n",
        "with open(data_path + f\"logs/{model_name}/initial_epoch\", 'rt') as f:\n",
        "  epochs = int(f.read())\n",
        "print(f\"epochs: {epochs}\")"
      ],
      "metadata": {
        "id": "3X1IBwZxFzA6",
        "cellView": "form"
      },
      "execution_count": null,
      "outputs": []
    },
    {
      "cell_type": "code",
      "source": [
        "callbacks = pd.read_csv(data_path + f\"logs/{model_name}_{id_file}.csv\")\n",
        "plot_train(callbacks, epochs)"
      ],
      "metadata": {
        "id": "IVnPuCESDX9J"
      },
      "execution_count": null,
      "outputs": []
    },
    {
      "cell_type": "markdown",
      "source": [
        "___"
      ],
      "metadata": {
        "id": "9zUiKun9IOD-"
      }
    }
  ]
}