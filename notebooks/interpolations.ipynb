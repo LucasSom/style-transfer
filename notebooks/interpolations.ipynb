{
 "cells": [
  {
   "cell_type": "markdown",
   "source": [
    "# Interpolations between songs\n",
    "To mesure robustness of latent space."
   ],
   "metadata": {
    "collapsed": false
   },
   "id": "d31162fdb99ac33e"
  },
  {
   "cell_type": "code",
   "execution_count": 6,
   "outputs": [
    {
     "name": "stderr",
     "output_type": "stream",
     "text": [
      "2023-08-18 12:02:53.532976: I tensorflow/core/platform/cpu_feature_guard.cc:193] This TensorFlow binary is optimized with oneAPI Deep Neural Network Library (oneDNN) to use the following CPU instructions in performance-critical operations:  AVX2 FMA\n",
      "To enable them in other operations, rebuild TensorFlow with the appropriate compiler flags.\n",
      "2023-08-18 12:02:53.907949: W tensorflow/compiler/xla/stream_executor/platform/default/dso_loader.cc:64] Could not load dynamic library 'libcudart.so.11.0'; dlerror: libcudart.so.11.0: cannot open shared object file: No such file or directory\n",
      "2023-08-18 12:02:53.907981: I tensorflow/compiler/xla/stream_executor/cuda/cudart_stub.cc:29] Ignore above cudart dlerror if you do not have a GPU set up on your machine.\n",
      "2023-08-18 12:02:54.917445: W tensorflow/compiler/xla/stream_executor/platform/default/dso_loader.cc:64] Could not load dynamic library 'libnvinfer.so.7'; dlerror: libnvinfer.so.7: cannot open shared object file: No such file or directory\n",
      "2023-08-18 12:02:54.917787: W tensorflow/compiler/xla/stream_executor/platform/default/dso_loader.cc:64] Could not load dynamic library 'libnvinfer_plugin.so.7'; dlerror: libnvinfer_plugin.so.7: cannot open shared object file: No such file or directory\n",
      "2023-08-18 12:02:54.917797: W tensorflow/compiler/tf2tensorrt/utils/py_utils.cc:38] TF-TRT Warning: Cannot dlopen some TensorRT libraries. If you would like to use Nvidia GPU with TensorRT, please make sure the missing libraries mentioned above are installed properly.\n"
     ]
    }
   ],
   "source": [
    "import os\n",
    "from keras.models import load_model\n",
    "\n",
    "from model.embeddings.embeddings import embeddings_to_rolls\n",
    "from utils.files_utils import get_emb_path, load_pickle, get_model_paths, get_audios_path"
   ],
   "metadata": {
    "collapsed": false,
    "ExecuteTime": {
     "end_time": "2023-08-18T15:02:55.782850770Z",
     "start_time": "2023-08-18T15:02:53.516103258Z"
    }
   },
   "id": "e29aaf86f27457eb"
  },
  {
   "cell_type": "code",
   "execution_count": 32,
   "outputs": [],
   "source": [
    "from model.colab_tension_vae.params import init\n",
    "\n",
    "b, z = 4, 96\n",
    "init(b, z)\n",
    "model_name = 'brmf_4b_beta-96'\n",
    "emb_path = get_emb_path(model_name)\n",
    "\n",
    "df_emb = load_pickle(emb_path)"
   ],
   "metadata": {
    "collapsed": false,
    "ExecuteTime": {
     "end_time": "2023-08-18T15:36:35.241723166Z",
     "start_time": "2023-08-18T15:36:21.002325339Z"
    }
   },
   "id": "470d34e306d1d66"
  },
  {
   "cell_type": "code",
   "execution_count": 4,
   "outputs": [
    {
     "data": {
      "text/plain": "     index Style    Title  roll_id  \\\n232    232  Bach  bwv0415        2   \n231    231  Bach  bwv0415        1   \n233    233  Bach  bwv0415        3   \n230    230  Bach  bwv0415        0   \n\n                                                roll  \\\n232  <roll.guoroll.GuoRoll object at 0x7f1b6c1af700>   \n231  <roll.guoroll.GuoRoll object at 0x7f1b3f5e0550>   \n233  <roll.guoroll.GuoRoll object at 0x7f1b3f584430>   \n230  <roll.guoroll.GuoRoll object at 0x7f1b3f5c7670>   \n\n                                             Embedding  \n232  [-0.45050272, 0.93562704, 2.0702503, -0.349569...  \n231  [-0.09109626, 1.1337503, -0.07333951, 2.02099,...  \n233  [0.35600132, 1.1052758, 0.9871259, -0.6432949,...  \n230  [-0.05794812, 1.2383715, 0.044437602, 1.993123...  ",
      "text/html": "<div>\n<style scoped>\n    .dataframe tbody tr th:only-of-type {\n        vertical-align: middle;\n    }\n\n    .dataframe tbody tr th {\n        vertical-align: top;\n    }\n\n    .dataframe thead th {\n        text-align: right;\n    }\n</style>\n<table border=\"1\" class=\"dataframe\">\n  <thead>\n    <tr style=\"text-align: right;\">\n      <th></th>\n      <th>index</th>\n      <th>Style</th>\n      <th>Title</th>\n      <th>roll_id</th>\n      <th>roll</th>\n      <th>Embedding</th>\n    </tr>\n  </thead>\n  <tbody>\n    <tr>\n      <th>232</th>\n      <td>232</td>\n      <td>Bach</td>\n      <td>bwv0415</td>\n      <td>2</td>\n      <td>&lt;roll.guoroll.GuoRoll object at 0x7f1b6c1af700&gt;</td>\n      <td>[-0.45050272, 0.93562704, 2.0702503, -0.349569...</td>\n    </tr>\n    <tr>\n      <th>231</th>\n      <td>231</td>\n      <td>Bach</td>\n      <td>bwv0415</td>\n      <td>1</td>\n      <td>&lt;roll.guoroll.GuoRoll object at 0x7f1b3f5e0550&gt;</td>\n      <td>[-0.09109626, 1.1337503, -0.07333951, 2.02099,...</td>\n    </tr>\n    <tr>\n      <th>233</th>\n      <td>233</td>\n      <td>Bach</td>\n      <td>bwv0415</td>\n      <td>3</td>\n      <td>&lt;roll.guoroll.GuoRoll object at 0x7f1b3f584430&gt;</td>\n      <td>[0.35600132, 1.1052758, 0.9871259, -0.6432949,...</td>\n    </tr>\n    <tr>\n      <th>230</th>\n      <td>230</td>\n      <td>Bach</td>\n      <td>bwv0415</td>\n      <td>0</td>\n      <td>&lt;roll.guoroll.GuoRoll object at 0x7f1b3f5c7670&gt;</td>\n      <td>[-0.05794812, 1.2383715, 0.044437602, 1.993123...</td>\n    </tr>\n  </tbody>\n</table>\n</div>"
     },
     "execution_count": 4,
     "metadata": {},
     "output_type": "execute_result"
    }
   ],
   "source": [
    "df_emb[df_emb['Title'] == 'bwv0415']"
   ],
   "metadata": {
    "collapsed": false,
    "ExecuteTime": {
     "end_time": "2023-08-18T14:44:25.008325425Z",
     "start_time": "2023-08-18T14:44:24.965997646Z"
    }
   },
   "id": "5aede2cb05c69dfd"
  },
  {
   "cell_type": "code",
   "execution_count": 38,
   "outputs": [],
   "source": [
    "def interpolate(model, song1, song2, audios_path, alpha=0.5):\n",
    "    e1, e2 = song1.Embedding, song2.Embedding\n",
    "    subtitle = f\"{song1.Title}_{song2.Title}_\"\n",
    "    \n",
    "    interpolation = alpha * e1 + (1 - alpha) * e2\n",
    "    \n",
    "    return embeddings_to_rolls([e1, interpolation, e2], [subtitle + '0', subtitle + alpha, subtitle + '100'], \"\", model, False, audios_path + 'song_interpolations/', True)"
   ],
   "metadata": {
    "collapsed": false,
    "ExecuteTime": {
     "end_time": "2023-08-18T15:53:41.671530918Z",
     "start_time": "2023-08-18T15:53:41.628511628Z"
    }
   },
   "id": "99cd0be6d609d86e"
  },
  {
   "cell_type": "code",
   "execution_count": 9,
   "outputs": [
    {
     "name": "stderr",
     "output_type": "stream",
     "text": [
      "2023-08-18 12:09:51.342331: W tensorflow/compiler/xla/stream_executor/platform/default/dso_loader.cc:64] Could not load dynamic library 'libcuda.so.1'; dlerror: libcuda.so.1: cannot open shared object file: No such file or directory\n",
      "2023-08-18 12:09:51.343077: W tensorflow/compiler/xla/stream_executor/cuda/cuda_driver.cc:265] failed call to cuInit: UNKNOWN ERROR (303)\n",
      "2023-08-18 12:09:51.343107: I tensorflow/compiler/xla/stream_executor/cuda/cuda_diagnostics.cc:156] kernel driver does not appear to be running on this host (Helicon): /proc/driver/nvidia/version does not exist\n",
      "2023-08-18 12:09:51.343724: I tensorflow/core/platform/cpu_feature_guard.cc:193] This TensorFlow binary is optimized with oneAPI Deep Neural Network Library (oneDNN) to use the following CPU instructions in performance-critical operations:  AVX2 FMA\n",
      "To enable them in other operations, rebuild TensorFlow with the appropriate compiler flags.\n",
      "/home/urania/Documentos/Tesis/venv/lib/python3.8/site-packages/keras/layers/core/lambda_layer.py:324: UserWarning: model.colab_tension_vae.build_model is not loaded, but a Lambda layer uses it. It may cause errors.\n",
      "  function = cls._parse_function_from_config(\n"
     ]
    }
   ],
   "source": [
    "vae_path = get_model_paths(model_name)[1]\n",
    "vae = load_model(os.path.abspath(vae_path))\n",
    "\n",
    "audios_path = get_audios_path(model_name)"
   ],
   "metadata": {
    "collapsed": false,
    "ExecuteTime": {
     "end_time": "2023-08-18T15:10:07.024702156Z",
     "start_time": "2023-08-18T15:09:51.081074181Z"
    }
   },
   "id": "1752eafab44e2753"
  },
  {
   "cell_type": "code",
   "execution_count": 33,
   "outputs": [],
   "source": [
    "bachs = df_emb[df_emb['Style'] == 'Bach'].reset_index(drop=True)\n",
    "mozarts = df_emb[df_emb['Style'] == 'Mozart'].reset_index(drop=True)\n",
    "ragtimes = df_emb[df_emb['Style'] == 'ragtime'].reset_index(drop=True)\n",
    "frescos = df_emb[df_emb['Style'] == 'Frescobaldi'].reset_index(drop=True)"
   ],
   "metadata": {
    "collapsed": false,
    "ExecuteTime": {
     "end_time": "2023-08-18T15:36:48.439484248Z",
     "start_time": "2023-08-18T15:36:48.436224497Z"
    }
   },
   "id": "b22ff864544ea7b3"
  },
  {
   "cell_type": "code",
   "execution_count": 39,
   "outputs": [
    {
     "data": {
      "text/plain": "{'Bach_to_Mozart': [<roll.guoroll.GuoRoll at 0x7f1adf548cd0>,\n  <roll.guoroll.GuoRoll at 0x7f1adf548fa0>,\n  <roll.guoroll.GuoRoll at 0x7f1ae4597490>,\n  <roll.guoroll.GuoRoll at 0x7f1adfe2dca0>,\n  <roll.guoroll.GuoRoll at 0x7f1adfe689d0>,\n  <roll.guoroll.GuoRoll at 0x7f1adfe57820>,\n  <roll.guoroll.GuoRoll at 0x7f1adfe572e0>],\n 'Bach_to_ragtime': [<roll.guoroll.GuoRoll at 0x7f1adfe2dfd0>,\n  <roll.guoroll.GuoRoll at 0x7f1adfe2d220>,\n  <roll.guoroll.GuoRoll at 0x7f1adfe2d250>,\n  <roll.guoroll.GuoRoll at 0x7f1adfe2d190>,\n  <roll.guoroll.GuoRoll at 0x7f1adfe2dd90>,\n  <roll.guoroll.GuoRoll at 0x7f1adfe2d790>,\n  <roll.guoroll.GuoRoll at 0x7f1adfe2d550>],\n 'Bach_to_Frescobaldi': [<roll.guoroll.GuoRoll at 0x7f1adfe2d8e0>,\n  <roll.guoroll.GuoRoll at 0x7f1adfe30ee0>,\n  <roll.guoroll.GuoRoll at 0x7f1adfe30550>,\n  <roll.guoroll.GuoRoll at 0x7f1adfe30160>,\n  <roll.guoroll.GuoRoll at 0x7f1adfe300d0>,\n  <roll.guoroll.GuoRoll at 0x7f1adf5adbe0>,\n  <roll.guoroll.GuoRoll at 0x7f1adf5adb50>],\n 'Mozart_to_ragtime': [<roll.guoroll.GuoRoll at 0x7f1adfe2d520>,\n  <roll.guoroll.GuoRoll at 0x7f1adfe2da60>,\n  <roll.guoroll.GuoRoll at 0x7f1adfe228e0>,\n  <roll.guoroll.GuoRoll at 0x7f1adfe22220>,\n  <roll.guoroll.GuoRoll at 0x7f1adfe22e20>,\n  <roll.guoroll.GuoRoll at 0x7f1adfe223d0>,\n  <roll.guoroll.GuoRoll at 0x7f1adfe22490>],\n 'Mozart_to_Frescobaldi': [<roll.guoroll.GuoRoll at 0x7f1adf5ad220>,\n  <roll.guoroll.GuoRoll at 0x7f1ae0a63160>,\n  <roll.guoroll.GuoRoll at 0x7f1ae0a635b0>,\n  <roll.guoroll.GuoRoll at 0x7f1ae0a63ca0>,\n  <roll.guoroll.GuoRoll at 0x7f1ae0a63130>,\n  <roll.guoroll.GuoRoll at 0x7f1ae0a63ee0>,\n  <roll.guoroll.GuoRoll at 0x7f1ae0a632e0>],\n 'ragtime_to_Frescobaldi': [<roll.guoroll.GuoRoll at 0x7f1ae0a638b0>,\n  <roll.guoroll.GuoRoll at 0x7f1ae0a63a30>,\n  <roll.guoroll.GuoRoll at 0x7f1ae0a63370>,\n  <roll.guoroll.GuoRoll at 0x7f1ae0a632b0>,\n  <roll.guoroll.GuoRoll at 0x7f1ae0a63820>,\n  <roll.guoroll.GuoRoll at 0x7f1adf5b3520>,\n  <roll.guoroll.GuoRoll at 0x7f1adf5b3ca0>]}"
     },
     "execution_count": 39,
     "metadata": {},
     "output_type": "execute_result"
    }
   ],
   "source": [
    "from model.embeddings.embeddings import interpolate\n",
    "\n",
    "\n",
    "songs = [bachs.iloc[0], mozarts.iloc[0], ragtimes.iloc[0], frescos.iloc[0]]\n",
    "\n",
    "rolls = {}\n",
    "for i, s1 in enumerate(songs):\n",
    "    for s2 in songs[i:]:\n",
    "        if s1['index'] != s2['index']:\n",
    "            rolls[f\"{s1.Style}_to_{s2.Style}\"] = interpolate(vae, s1.Embedding, s2.Embedding, s1.Title, s2.Title, audios_path)\n",
    "rolls"
   ],
   "metadata": {
    "collapsed": false,
    "ExecuteTime": {
     "end_time": "2023-08-18T15:53:57.004519765Z",
     "start_time": "2023-08-18T15:53:50.280345697Z"
    }
   },
   "id": "664d4f05a6637bc4"
  },
  {
   "cell_type": "code",
   "execution_count": 35,
   "outputs": [
    {
     "data": {
      "text/plain": "     index    Style        Title  roll_id  \\\n0     3255  ragtime     original       25   \n1     2793  ragtime        elite       15   \n2     2714  ragtime  countryclub       21   \n3     3480  ragtime     roseleaf       19   \n4     2823  ragtime  entertainer        9   \n..     ...      ...          ...      ...   \n401   2966  ragtime    harlemrag        4   \n402   3087  ragtime    lilyqueen       10   \n403   2540  ragtime       breeze       30   \n404   2769  ragtime        crush       40   \n405   3484  ragtime     roseleaf       23   \n\n                                                roll  \\\n0    <roll.guoroll.GuoRoll object at 0x7f1a281c0b80>   \n1    <roll.guoroll.GuoRoll object at 0x7f1a2758f7f0>   \n2    <roll.guoroll.GuoRoll object at 0x7f1a26b5d8b0>   \n3    <roll.guoroll.GuoRoll object at 0x7f1a262533a0>   \n4    <roll.guoroll.GuoRoll object at 0x7f1a3532c0d0>   \n..                                               ...   \n401  <roll.guoroll.GuoRoll object at 0x7f1a164fa100>   \n402  <roll.guoroll.GuoRoll object at 0x7f1a146261f0>   \n403  <roll.guoroll.GuoRoll object at 0x7f1a16951130>   \n404  <roll.guoroll.GuoRoll object at 0x7f1a20eac250>   \n405  <roll.guoroll.GuoRoll object at 0x7f1a35640880>   \n\n                                             Embedding  \n0    [0.6090737, 1.8612064, 0.6157619, -0.369207, 0...  \n1    [0.12866259, -0.53642553, 0.59958607, 1.07605,...  \n2    [-0.23225582, -0.23756057, 0.8842415, -0.41430...  \n3    [-0.6969494, -1.0329671, -0.56372416, 1.447108...  \n4    [0.28102282, -0.1178565, -0.29302725, 0.678586...  \n..                                                 ...  \n401  [0.005767579, 0.0054889694, -0.04340487, -0.39...  \n402  [-1.2947371, 0.7714095, -1.018264, 0.43782687,...  \n403  [0.12902223, 0.004088793, 0.3047232, -0.114078...  \n404  [0.40098506, 2.259939, -0.12402016, -0.3816617...  \n405  [-0.68569666, 0.32694, 1.196235, 0.98212516, -...  \n\n[406 rows x 6 columns]",
      "text/html": "<div>\n<style scoped>\n    .dataframe tbody tr th:only-of-type {\n        vertical-align: middle;\n    }\n\n    .dataframe tbody tr th {\n        vertical-align: top;\n    }\n\n    .dataframe thead th {\n        text-align: right;\n    }\n</style>\n<table border=\"1\" class=\"dataframe\">\n  <thead>\n    <tr style=\"text-align: right;\">\n      <th></th>\n      <th>index</th>\n      <th>Style</th>\n      <th>Title</th>\n      <th>roll_id</th>\n      <th>roll</th>\n      <th>Embedding</th>\n    </tr>\n  </thead>\n  <tbody>\n    <tr>\n      <th>0</th>\n      <td>3255</td>\n      <td>ragtime</td>\n      <td>original</td>\n      <td>25</td>\n      <td>&lt;roll.guoroll.GuoRoll object at 0x7f1a281c0b80&gt;</td>\n      <td>[0.6090737, 1.8612064, 0.6157619, -0.369207, 0...</td>\n    </tr>\n    <tr>\n      <th>1</th>\n      <td>2793</td>\n      <td>ragtime</td>\n      <td>elite</td>\n      <td>15</td>\n      <td>&lt;roll.guoroll.GuoRoll object at 0x7f1a2758f7f0&gt;</td>\n      <td>[0.12866259, -0.53642553, 0.59958607, 1.07605,...</td>\n    </tr>\n    <tr>\n      <th>2</th>\n      <td>2714</td>\n      <td>ragtime</td>\n      <td>countryclub</td>\n      <td>21</td>\n      <td>&lt;roll.guoroll.GuoRoll object at 0x7f1a26b5d8b0&gt;</td>\n      <td>[-0.23225582, -0.23756057, 0.8842415, -0.41430...</td>\n    </tr>\n    <tr>\n      <th>3</th>\n      <td>3480</td>\n      <td>ragtime</td>\n      <td>roseleaf</td>\n      <td>19</td>\n      <td>&lt;roll.guoroll.GuoRoll object at 0x7f1a262533a0&gt;</td>\n      <td>[-0.6969494, -1.0329671, -0.56372416, 1.447108...</td>\n    </tr>\n    <tr>\n      <th>4</th>\n      <td>2823</td>\n      <td>ragtime</td>\n      <td>entertainer</td>\n      <td>9</td>\n      <td>&lt;roll.guoroll.GuoRoll object at 0x7f1a3532c0d0&gt;</td>\n      <td>[0.28102282, -0.1178565, -0.29302725, 0.678586...</td>\n    </tr>\n    <tr>\n      <th>...</th>\n      <td>...</td>\n      <td>...</td>\n      <td>...</td>\n      <td>...</td>\n      <td>...</td>\n      <td>...</td>\n    </tr>\n    <tr>\n      <th>401</th>\n      <td>2966</td>\n      <td>ragtime</td>\n      <td>harlemrag</td>\n      <td>4</td>\n      <td>&lt;roll.guoroll.GuoRoll object at 0x7f1a164fa100&gt;</td>\n      <td>[0.005767579, 0.0054889694, -0.04340487, -0.39...</td>\n    </tr>\n    <tr>\n      <th>402</th>\n      <td>3087</td>\n      <td>ragtime</td>\n      <td>lilyqueen</td>\n      <td>10</td>\n      <td>&lt;roll.guoroll.GuoRoll object at 0x7f1a146261f0&gt;</td>\n      <td>[-1.2947371, 0.7714095, -1.018264, 0.43782687,...</td>\n    </tr>\n    <tr>\n      <th>403</th>\n      <td>2540</td>\n      <td>ragtime</td>\n      <td>breeze</td>\n      <td>30</td>\n      <td>&lt;roll.guoroll.GuoRoll object at 0x7f1a16951130&gt;</td>\n      <td>[0.12902223, 0.004088793, 0.3047232, -0.114078...</td>\n    </tr>\n    <tr>\n      <th>404</th>\n      <td>2769</td>\n      <td>ragtime</td>\n      <td>crush</td>\n      <td>40</td>\n      <td>&lt;roll.guoroll.GuoRoll object at 0x7f1a20eac250&gt;</td>\n      <td>[0.40098506, 2.259939, -0.12402016, -0.3816617...</td>\n    </tr>\n    <tr>\n      <th>405</th>\n      <td>3484</td>\n      <td>ragtime</td>\n      <td>roseleaf</td>\n      <td>23</td>\n      <td>&lt;roll.guoroll.GuoRoll object at 0x7f1a35640880&gt;</td>\n      <td>[-0.68569666, 0.32694, 1.196235, 0.98212516, -...</td>\n    </tr>\n  </tbody>\n</table>\n<p>406 rows × 6 columns</p>\n</div>"
     },
     "execution_count": 35,
     "metadata": {},
     "output_type": "execute_result"
    }
   ],
   "source": [
    "ragtimes"
   ],
   "metadata": {
    "collapsed": false,
    "ExecuteTime": {
     "end_time": "2023-08-18T15:37:56.973022144Z",
     "start_time": "2023-08-18T15:37:56.966010541Z"
    }
   },
   "id": "dbfd5e73ad9d31e7"
  }
 ],
 "metadata": {
  "kernelspec": {
   "display_name": "Python 3",
   "language": "python",
   "name": "python3"
  },
  "language_info": {
   "codemirror_mode": {
    "name": "ipython",
    "version": 2
   },
   "file_extension": ".py",
   "mimetype": "text/x-python",
   "name": "python",
   "nbconvert_exporter": "python",
   "pygments_lexer": "ipython2",
   "version": "2.7.6"
  }
 },
 "nbformat": 4,
 "nbformat_minor": 5
}
