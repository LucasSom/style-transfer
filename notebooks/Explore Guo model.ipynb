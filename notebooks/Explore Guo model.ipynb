{
 "cells": [
  {
   "cell_type": "code",
   "execution_count": 1,
   "id": "9c5078a0",
   "metadata": {
    "ExecuteTime": {
     "end_time": "2023-07-17T15:46:40.245517638Z",
     "start_time": "2023-07-17T15:46:39.820079064Z"
    }
   },
   "outputs": [],
   "source": [
    "import h5py\n",
    "import os\n",
    "\n",
    "from utils.files_utils import project_path"
   ]
  },
  {
   "cell_type": "code",
   "execution_count": 2,
   "id": "c4a3d36f",
   "metadata": {
    "ExecuteTime": {
     "end_time": "2023-07-17T15:46:44.558630142Z",
     "start_time": "2023-07-17T15:46:44.537939089Z"
    }
   },
   "outputs": [
    {
     "name": "stdout",
     "output_type": "stream",
     "text": [
      "Keys: <KeysViewHDF5 ['add_loss', 'add_metric', 'decoder', 'encoder', 'encoder_input', 'kl_beta', 'rnn1', 'rnn2', 'tf_op_layer_AddV2', 'tf_op_layer_Exp', 'tf_op_layer_Mean', 'tf_op_layer_Mul', 'tf_op_layer_Square', 'tf_op_layer_Sub', 'tf_op_layer_Sub_1', 'tf_op_layer_Sum', 'z_log_var', 'z_mean']>\n"
     ]
    }
   ],
   "source": [
    "vae_path = os.path.join(project_path, \"model/colab_tension_vae/model/vae.h5\")\n",
    "\n",
    "with h5py.File(vae_path, \"r\") as f:\n",
    "    print(f\"Keys: {f.keys()}\")\n"
   ]
  },
  {
   "cell_type": "code",
   "execution_count": 4,
   "outputs": [
    {
     "name": "stdout",
     "output_type": "stream",
     "text": [
      "<KeysViewHDF5 ['bass_pitch_dense1', 'bass_pitch_dense2', 'bass_start_dense1', 'bass_start_dense2', 'decoder_rnn1', 'decoder_rnn2', 'diameter_strain_dense1', 'diameter_strain_dense2', 'melody_pitch_dense1', 'melody_pitch_dense2', 'melody_start_dense1', 'melody_start_dense2', 'tensile_strain_dense1', 'tensile_strain_dense2']>\n"
     ]
    }
   ],
   "source": [
    "with h5py.File(vae_path, \"r\") as f:\n",
    "    print(f['decoder'].keys())"
   ],
   "metadata": {
    "collapsed": false,
    "ExecuteTime": {
     "end_time": "2023-07-17T15:47:48.467672506Z",
     "start_time": "2023-07-17T15:47:48.463754939Z"
    }
   }
  },
  {
   "cell_type": "code",
   "execution_count": 9,
   "outputs": [
    {
     "name": "stdout",
     "output_type": "stream",
     "text": [
      "<HDF5 dataset \"bias:0\": shape (128,), type \"<f4\">\n",
      "<HDF5 dataset \"kernel:0\": shape (256, 128), type \"<f4\">\n"
     ]
    }
   ],
   "source": [
    "with h5py.File(vae_path, \"r\") as f:\n",
    "    print(f['decoder']['tensile_strain_dense1']['bias:0'])\n",
    "    print(f['decoder']['tensile_strain_dense1']['kernel:0'])\n"
   ],
   "metadata": {
    "collapsed": false,
    "ExecuteTime": {
     "end_time": "2023-07-17T15:51:09.915505964Z",
     "start_time": "2023-07-17T15:51:09.875380939Z"
    }
   }
  },
  {
   "cell_type": "markdown",
   "source": [
    "___"
   ],
   "metadata": {
    "collapsed": false
   }
  },
  {
   "cell_type": "code",
   "execution_count": 1,
   "outputs": [],
   "source": [
    "from utils.files_utils import preprocessed_data_dir, load_pickle\n",
    "import pandas as pd"
   ],
   "metadata": {
    "collapsed": false,
    "ExecuteTime": {
     "end_time": "2023-07-23T19:43:01.301547163Z",
     "start_time": "2023-07-23T19:43:00.891675528Z"
    }
   }
  },
  {
   "cell_type": "code",
   "execution_count": 2,
   "outputs": [
    {
     "data": {
      "text/plain": "(218785, 5)"
     },
     "execution_count": 2,
     "metadata": {},
     "output_type": "execute_result"
    }
   ],
   "source": [
    "df_balanced = load_pickle(preprocessed_data_dir + \"4-CPFRAa-96-balanced.pkl\")\n",
    "df_balanced.shape"
   ],
   "metadata": {
    "collapsed": false,
    "ExecuteTime": {
     "end_time": "2023-07-23T19:43:18.367738858Z",
     "start_time": "2023-07-23T19:43:13.985500368Z"
    }
   }
  },
  {
   "cell_type": "code",
   "execution_count": 3,
   "outputs": [
    {
     "data": {
      "text/plain": "(155037, 4)"
     },
     "execution_count": 3,
     "metadata": {},
     "output_type": "execute_result"
    }
   ],
   "source": [
    "df_lmd = load_pickle(preprocessed_data_dir + \"lmd_True-4.pkl\")\n",
    "df_lmd.shape"
   ],
   "metadata": {
    "collapsed": false,
    "ExecuteTime": {
     "end_time": "2023-07-23T19:43:27.363849408Z",
     "start_time": "2023-07-23T19:43:23.480461416Z"
    }
   }
  },
  {
   "cell_type": "code",
   "execution_count": 4,
   "outputs": [
    {
     "data": {
      "text/plain": "(43757, 5)"
     },
     "execution_count": 4,
     "metadata": {},
     "output_type": "execute_result"
    }
   ],
   "source": [
    "df_balanced[df_balanced[\"Style\"] == \"sub_lmd/classical\"].shape"
   ],
   "metadata": {
    "collapsed": false,
    "ExecuteTime": {
     "end_time": "2023-07-23T19:43:51.857358677Z",
     "start_time": "2023-07-23T19:43:51.800253648Z"
    }
   }
  },
  {
   "cell_type": "code",
   "execution_count": 5,
   "outputs": [
    {
     "data": {
      "text/plain": "(14210, 4)"
     },
     "execution_count": 5,
     "metadata": {},
     "output_type": "execute_result"
    }
   ],
   "source": [
    "df_lmd[df_lmd[\"Style\"] == \"sub_lmd/classical\"].shape"
   ],
   "metadata": {
    "collapsed": false,
    "ExecuteTime": {
     "end_time": "2023-07-23T19:43:54.421042376Z",
     "start_time": "2023-07-23T19:43:54.410554632Z"
    }
   }
  },
  {
   "cell_type": "code",
   "execution_count": 6,
   "outputs": [
    {
     "data": {
      "text/plain": "(4392, 5)"
     },
     "execution_count": 6,
     "metadata": {},
     "output_type": "execute_result"
    }
   ],
   "source": [
    "df_brmf = load_pickle(preprocessed_data_dir + \"brmf_4b_beta-96-balanced.pkl\")\n",
    "df_brmf.shape"
   ],
   "metadata": {
    "collapsed": false,
    "ExecuteTime": {
     "end_time": "2023-07-23T19:44:20.044976859Z",
     "start_time": "2023-07-23T19:44:08.289824355Z"
    }
   }
  }
 ],
 "metadata": {
  "kernelspec": {
   "display_name": "Python 3 (ipykernel)",
   "language": "python",
   "name": "python3"
  },
  "language_info": {
   "codemirror_mode": {
    "name": "ipython",
    "version": 3
   },
   "file_extension": ".py",
   "mimetype": "text/x-python",
   "name": "python",
   "nbconvert_exporter": "python",
   "pygments_lexer": "ipython3",
   "version": "3.8.10"
  }
 },
 "nbformat": 4,
 "nbformat_minor": 5
}
