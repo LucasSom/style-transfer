{
 "cells": [
  {
   "cell_type": "code",
   "execution_count": 25,
   "id": "a99c8fc0-9ebc-4430-98d6-791ce8b875b7",
   "metadata": {},
   "outputs": [],
   "source": [
    "import pandas as pd\n",
    "import glob\n",
    "import ipywidgets as wid\n",
    "import sys\n",
    "import itertools\n",
    "sys.path.append('../')\n",
    "import utils.files_utils"
   ]
  },
  {
   "cell_type": "code",
   "execution_count": 40,
   "id": "4ab81600-2a74-4617-b288-9a547da0053a",
   "metadata": {},
   "outputs": [],
   "source": [
    "AUDIO_DIR = utils.files_utils.get_audios_path('brmf_4b')\n",
    "EVALUATIONS_PATH = 'evaluations.csv'"
   ]
  },
  {
   "cell_type": "code",
   "execution_count": 43,
   "id": "f92ff468-757d-4016-85ae-6483ac6c35ec",
   "metadata": {},
   "outputs": [],
   "source": [
    "audios = glob.glob(os.path.join(utils.files_utils.get_audios_path('brmf_4b'), '*_to_*'))\n",
    "\n",
    "def group_to_records(p):\n",
    "    basename = os.path.splitext(os.path.basename(p))[0]\n",
    "    s = basename.split('_')\n",
    "    return {\n",
    "        'titulo': s[0],\n",
    "        'autor': s[1],\n",
    "        'target': s[3],\n",
    "        'id': s[4],\n",
    "        'audio': p\n",
    "    }\n",
    "\n",
    "data = pd.DataFrame.from_records([\n",
    "   group_to_records(p) for p in audios \n",
    "])"
   ]
  },
  {
   "cell_type": "code",
   "execution_count": 92,
   "id": "7a3b4797-650b-4eb9-8e60-de67cbab5308",
   "metadata": {},
   "outputs": [],
   "source": [
    "def transfered_to_original(titulo):\n",
    "    p = glob.glob(os.path.join(AUDIO_DIR, titulo + '_orig*.mp3'))\n",
    "    assert(len(p) == 1)\n",
    "    return p[0]"
   ]
  },
  {
   "cell_type": "code",
   "execution_count": 149,
   "id": "f11525d6-993a-4a40-936d-04d23a728f05",
   "metadata": {},
   "outputs": [],
   "source": [
    "def display(d):\n",
    "    autor = d['autor']\n",
    "    dest = d['target']\n",
    "    titulo = d['titulo']\n",
    "    audios = wid.HBox([\n",
    "        wid.VBox([wid.Label(f'Original ({autor}):'), wid.Audio.from_file(transfered_to_original(titulo), autoplay=False, loop=False)]),\n",
    "        wid.VBox([wid.Label(f'Transfered ({dest}):'), wid.Audio.from_file(data.iloc[0]['audio'], autoplay=False, loop=False)])\n",
    "    ])\n",
    "    sheets = wid.HBox([\n",
    "       wid.Image(value=transfered_to_iriginal \n",
    "    ])\n",
    "    ratings = wid.VBox([\n",
    "        wid.IntSlider(description='Musicalidad?:', min=1, max=5, value=3, style={'description_width': '120px'}),\n",
    "        wid.IntSlider(description='Nuevo estilo?:', min=1, max=5, value=3, style={'description_width': '120px'}),\n",
    "        wid.IntSlider(description='Respeta original?:', min=1, max=5, value=3, style={'description_width': '120px'}),\n",
    "    ])\n",
    "    return wid.VBox([audios, ratings])"
   ]
  },
  {
   "cell_type": "code",
   "execution_count": 150,
   "id": "ba9f6217-9962-4093-ad3b-afb93782d002",
   "metadata": {},
   "outputs": [
    {
     "data": {
      "application/vnd.jupyter.widget-view+json": {
       "model_id": "d4bb2a68f454434991f0efd7f42ec3cf",
       "version_major": 2,
       "version_minor": 0
      },
      "text/plain": [
       "VBox(children=(HBox(children=(VBox(children=(Label(value='Original (Frescobaldi):'), Audio(value=b'ID3\\x04\\x00…"
      ]
     },
     "metadata": {},
     "output_type": "display_data"
    }
   ],
   "source": [
    "display(data.iloc[0])"
   ]
  },
  {
   "cell_type": "code",
   "execution_count": null,
   "id": "97199a04-1d90-4c7d-9691-7c1a45d9938d",
   "metadata": {},
   "outputs": [],
   "source": []
  }
 ],
 "metadata": {
  "kernelspec": {
   "display_name": "Python 3 (ipykernel)",
   "language": "python",
   "name": "python3"
  },
  "language_info": {
   "codemirror_mode": {
    "name": "ipython",
    "version": 3
   },
   "file_extension": ".py",
   "mimetype": "text/x-python",
   "name": "python",
   "nbconvert_exporter": "python",
   "pygments_lexer": "ipython3",
   "version": "3.9.7"
  }
 },
 "nbformat": 4,
 "nbformat_minor": 5
}
