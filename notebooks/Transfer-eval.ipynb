{
 "cells": [
  {
   "cell_type": "code",
   "execution_count": 1,
   "id": "a99c8fc0-9ebc-4430-98d6-791ce8b875b7",
   "metadata": {
    "scrolled": true
   },
   "outputs": [],
   "source": [
    "import pandas as pd\n",
    "import glob\n",
    "import ipywidgets as wid\n",
    "import sys\n",
    "import itertools\n",
    "sys.path.append('../')\n",
    "import utils.files_utils\n",
    "import os"
   ]
  },
  {
   "cell_type": "code",
   "execution_count": 2,
   "id": "4ab81600-2a74-4617-b288-9a547da0053a",
   "metadata": {},
   "outputs": [],
   "source": [
    "AUDIO_DIR = utils.files_utils.get_audios_path('brmf_4b')\n",
    "EVALUATIONS_PATH = 'evaluations.csv'"
   ]
  },
  {
   "cell_type": "code",
   "execution_count": 3,
   "id": "f92ff468-757d-4016-85ae-6483ac6c35ec",
   "metadata": {
    "scrolled": true
   },
   "outputs": [],
   "source": [
    "audios = glob.glob(os.path.join(utils.files_utils.get_audios_path('brmf_4b'), '*_to_*.mp3'))\n",
    "\n",
    "def group_to_records(p):\n",
    "    basename = os.path.splitext(os.path.basename(p))[0]\n",
    "    s = basename.split('_')\n",
    "    return {\n",
    "        'titulo': s[0],\n",
    "        'autor': s[1],\n",
    "        'target': s[3],\n",
    "        'audio': p\n",
    "    }\n",
    "\n",
    "data = pd.DataFrame.from_records([\n",
    "   group_to_records(p) for p in audios \n",
    "])"
   ]
  },
  {
   "cell_type": "code",
   "execution_count": 12,
   "id": "7a3b4797-650b-4eb9-8e60-de67cbab5308",
   "metadata": {},
   "outputs": [],
   "source": [
    "def transfered_to_original(titulo):\n",
    "    p = glob.glob(os.path.join(AUDIO_DIR, titulo + '_orig*.mp3'))\n",
    "    assert(len(p) == 1)\n",
    "    return p[0]\n",
    "\n",
    "# /home/mmiguel/style-transfer/data/transferred/brmf_4b/Audios/bwv0371_orig.mp3\n",
    "def original_to_image(f: str):\n",
    "    print(f)\n",
    "    base = os.path.dirname(os.path.dirname(f))\n",
    "    file = os.path.basename(f)\n",
    "    song_name, category = file.split('_', maxsplit=1)\n",
    "    category = os.path.splitext(category)[0]\n",
    "    return f'{base}/sheets/{category}/{song_name}_{category}.png'"
   ]
  },
  {
   "cell_type": "code",
   "execution_count": 13,
   "id": "f11525d6-993a-4a40-936d-04d23a728f05",
   "metadata": {},
   "outputs": [],
   "source": [
    "def setup(ds):\n",
    "    skip_answered = wid.Checkbox(description=\"Skip answered:\", value=True)\n",
    "    start_btn = wid.Button(description=\"Start\", disabled=False)\n",
    "    evaluator = wid.Text(description=\"Evaluator\")\n",
    "    \n",
    "    start_buttons = wid.HBox([skip_answered, evaluator, start_btn])\n",
    "\n",
    "    song_name = wid.Label('--')\n",
    "    orig_label = wid.Label(f'Original (--):')\n",
    "    orig_audio = wid.Audio(autoplay=False, loop=False)\n",
    "    orig_image = wid.Image()\n",
    "    trans_label = wid.Label(f'Transfered (--):')\n",
    "    trans_audio = wid.Audio(autoplay=False, loop=False)    \n",
    "    trans_image = wid.Image()\n",
    "    \n",
    "    audios = wid.HBox([\n",
    "        wid.VBox([orig_label, orig_audio, orig_image]),\n",
    "        wid.VBox([trans_label, trans_audio, trans_image])\n",
    "    ])\n",
    "    #sheets = wid.HBox([\n",
    "    #   wid.Image(value=transfered_to_original(titulo).replace('mp3', 'png')) \n",
    "    #])\n",
    "    mus_slider = wid.IntSlider(description='Musicalidad?:', min=1, max=5, value=3, style={'description_width': '120px'}, disabled=True)\n",
    "    new_slider = wid.IntSlider(description='Nuevo estilo?:', min=1, max=5, value=3, style={'description_width': '120px'}, disabled=True)\n",
    "    old_slider = wid.IntSlider(description='Respeta original?:', min=1, max=5, value=3, style={'description_width': '120px'}, disabled=True)\n",
    "       \n",
    "    ratings = wid.VBox([mus_slider, new_slider, old_slider])\n",
    "    \n",
    "    save_btn = wid.Button(description=\"Save\", disabled=True)\n",
    "    next_btn = wid.Button(description=\"Next\", disabled=True)\n",
    "    save_btns = wid.HBox([next_btn, save_btn])\n",
    "    \n",
    "    i = -1\n",
    "    resps = []\n",
    "    \n",
    "    def start(evt):\n",
    "        nonlocal ds\n",
    "        skip_answered.disabled = True\n",
    "        start_btn.disabled = True\n",
    "        evaluator.disabled = True\n",
    "        \n",
    "        mus_slider.disabled = False\n",
    "        new_slider.disabled = False\n",
    "        old_slider.disabled = False\n",
    "        \n",
    "        save_btn.disabled = False\n",
    "        next_btn.disabled = False\n",
    "        \n",
    "        if skip_answered.value and os.path.isfile(EVALUATIONS_PATH):\n",
    "            answered = pd.read_csv(EVALUATIONS_PATH)['path']\n",
    "            ds = [x for x in ds if x['audio'] not in answered]\n",
    "        \n",
    "        cont(evt)\n",
    "        \n",
    "    def cont(evt):\n",
    "        nonlocal i, resps\n",
    "        i += 1\n",
    "        resps.append(dict(\n",
    "            path=ds[i]['audio'],\n",
    "            evaluator=evaluator.value,\n",
    "            mus=mus_slider.value,\n",
    "            new=new_slider.value,\n",
    "            old=old_slider.value\n",
    "        ))\n",
    "        \n",
    "        orig_audio_fn = transfered_to_original(ds[i]['titulo'])\n",
    "        orig_image_fn = original_to_image(orig_audio_fn)\n",
    "        trans_audio_fn = ds[i]['audio']\n",
    "        trans_image_fn = original_to_image(trans_audio_fn)\n",
    "        \n",
    "        for x in [orig_audio_fn, trans_audio_fn, orig_image_fn, trans_image_fn]:\n",
    "            if not os.path.isfile(x):\n",
    "                print(f'Could not find {x}')\n",
    "        \n",
    "        autor = ds[i]['autor']\n",
    "        dest = ds[i]['target']\n",
    "        titulo = ds[i]['titulo']\n",
    "        \n",
    "        song_name.value = titulo\n",
    "        orig_label.value = f'Original ({autor}):'\n",
    "        trans_label.value = f'Transfered ({dest}):'\n",
    "        \n",
    "        orig_audio.set_value_from_file(orig_audio_fn)\n",
    "        trans_audio.set_value_from_file(trans_audio_fn)\n",
    "        \n",
    "        orig_image.set_value_from_file(orig_image_fn)\n",
    "        trans_image.set_value_from_file(trans_image_fn)\n",
    "        \n",
    "        \n",
    "        mus_slider.value = 3\n",
    "        new_slider.value = 3\n",
    "        old_slider.value = 3\n",
    "        \n",
    "    def save(evt):\n",
    "        if os.path.isfile(EVALUATIONS_PATH):\n",
    "            resps_df = pd.read_csv(EVALUATIONS_PATH)\n",
    "        else:\n",
    "            resps_df = pd.DataFrame()\n",
    "        pd.concat([resps_df, pd.DataFrame.from_records(resps)]).to_csv(EVALUATIONS_PATH)\n",
    "        next_btn.disabled = True\n",
    "        save_btn.disabled = True\n",
    "        \n",
    "    start_btn.on_click(start)\n",
    "    next_btn.on_click(cont)\n",
    "    save_btn.on_click(save)\n",
    "    \n",
    "    display(wid.VBox([start_buttons, song_name, audios, ratings, save_btns]))"
   ]
  },
  {
   "cell_type": "code",
   "execution_count": 14,
   "id": "a3dd49eb",
   "metadata": {},
   "outputs": [],
   "source": [
    "shuffled_data = data.sample(frac=1)\n",
    "\n",
    "g = [(k, v.iterrows()) for k, v in list(shuffled_data.groupby(['autor', 'target']))]\n",
    "\n",
    "mixed_data = []\n",
    "cycle = itertools.cycle(g)\n",
    "while len(mixed_data) < shuffled_data.shape[0]:\n",
    "    try:\n",
    "        n = next(cycle)\n",
    "        mixed_data.append(next(n[1]))\n",
    "    except StopIteration:\n",
    "        pass"
   ]
  },
  {
   "cell_type": "code",
   "execution_count": 16,
   "id": "433ac88e",
   "metadata": {},
   "outputs": [
    {
     "data": {
      "application/vnd.jupyter.widget-view+json": {
       "model_id": "72a73ba178894e4c8fa598ffb8ec47c1",
       "version_major": 2,
       "version_minor": 0
      },
      "text/plain": [
       "VBox(children=(HBox(children=(Checkbox(value=True, description='Skip answered:'), Text(value='', description='…"
      ]
     },
     "metadata": {},
     "output_type": "display_data"
    },
    {
     "name": "stdout",
     "output_type": "stream",
     "text": [
      "/home/mmiguel/style-transfer/data/transferred/brmf_4b/Audios/bwv0376_orig.mp3\n",
      "/home/mmiguel/style-transfer/data/transferred/brmf_4b/Audios/bwv0376_Bach_to_Frescobaldi.mp3\n",
      "/home/mmiguel/style-transfer/data/transferred/brmf_4b/Audios/bwv0383_orig.mp3\n",
      "/home/mmiguel/style-transfer/data/transferred/brmf_4b/Audios/bwv0383_Bach_to_Mozart.mp3\n",
      "/home/mmiguel/style-transfer/data/transferred/brmf_4b/Audios/bwv0398_orig.mp3\n",
      "/home/mmiguel/style-transfer/data/transferred/brmf_4b/Audios/bwv0398_Bach_to_ragtime.mp3\n"
     ]
    }
   ],
   "source": [
    "setup([x[1] for x in mixed_data])"
   ]
  },
  {
   "cell_type": "code",
   "execution_count": 196,
   "id": "97199a04-1d90-4c7d-9691-7c1a45d9938d",
   "metadata": {},
   "outputs": [
    {
     "data": {
      "application/vnd.jupyter.widget-view+json": {
       "model_id": "3feeb4f17ee842709ff9305d1bb0aeb2",
       "version_major": 2,
       "version_minor": 0
      },
      "text/plain": [
       "Audio(value=b'ID3\\x04\\x00\\x00\\x00\\x00\\x00#TSSE\\x00\\x00\\x00\\x0f\\x00\\x00\\x03Lavf58.29.100\\x00\\x00\\x00\\x00\\x00\\x0…"
      ]
     },
     "metadata": {},
     "output_type": "display_data"
    }
   ],
   "source": [
    "audio = wid.Audio(autoplay=False)\n",
    "audio.set_value_from_file(data.iloc[0]['audio'])\n",
    "audio"
   ]
  },
  {
   "cell_type": "code",
   "execution_count": 30,
   "id": "9611dcf7-6a05-4208-8e3c-678a03c448c6",
   "metadata": {},
   "outputs": [
    {
     "name": "stdout",
     "output_type": "stream",
     "text": [
      ",mus,new,old\r\n",
      "0,2,4,2\r\n",
      "1,2,5,4\r\n"
     ]
    }
   ],
   "source": [
    "cat resps.csv"
   ]
  },
  {
   "cell_type": "code",
   "execution_count": null,
   "id": "fa73c5ae",
   "metadata": {},
   "outputs": [],
   "source": []
  }
 ],
 "metadata": {
  "kernelspec": {
   "display_name": "Python 3 (ipykernel)",
   "language": "python",
   "name": "python3"
  },
  "language_info": {
   "codemirror_mode": {
    "name": "ipython",
    "version": 3
   },
   "file_extension": ".py",
   "mimetype": "text/x-python",
   "name": "python",
   "nbconvert_exporter": "python",
   "pygments_lexer": "ipython3",
   "version": "3.9.7"
  }
 },
 "nbformat": 4,
 "nbformat_minor": 5
}
