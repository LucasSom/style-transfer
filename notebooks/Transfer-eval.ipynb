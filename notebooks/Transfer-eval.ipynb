{
 "cells": [
  {
   "cell_type": "code",
   "execution_count": null,
   "outputs": [],
   "source": [
    "import pandas as pd\n",
    "import glob\n",
    "import ipywidgets as wid\n",
    "import sys\n",
    "import itertools\n",
    "sys.path.append('../')\n",
    "from utils.files_utils import get_audios_path, root_file_name\n",
    "import os"
   ],
   "metadata": {
    "collapsed": false,
    "pycharm": {
     "name": "#%%\n"
    }
   }
  },
  {
   "cell_type": "code",
   "execution_count": null,
   "outputs": [],
   "source": [
    "SHEETS_DIR"
   ],
   "metadata": {
    "collapsed": false,
    "pycharm": {
     "name": "#%%\n"
    }
   }
  },
  {
   "cell_type": "code",
   "execution_count": null,
   "outputs": [],
   "source": [
    "AUDIO_DIR = get_audios_path('brmf_4b')\n",
    "# SHEETS_DIR = get_sheets_path('brmf_4b')\n",
    "SHEETS_DIR = os.path.join(os.path.dirname(os.path.dirname(AUDIO_DIR)), 'sheets/')\n",
    "\n",
    "EVALUATIONS_PATH = 'evaluations.csv'"
   ],
   "metadata": {
    "collapsed": false,
    "pycharm": {
     "name": "#%%\n"
    }
   }
  },
  {
   "cell_type": "code",
   "execution_count": null,
   "outputs": [],
   "source": [
    "folders = glob.glob(os.path.join(AUDIO_DIR, '*_to_*'))\n",
    "\n",
    "def group_to_records(p, f):\n",
    "    basename = os.path.basename(p).split('.mid')[0]\n",
    "    s = root_file_name(os.path.basename(f)).split('_')\n",
    "    return {\n",
    "        'titulo': basename,\n",
    "        'autor': s[0],\n",
    "        'target': s[2],\n",
    "        'audio': p\n",
    "    }\n",
    "\n",
    "data = pd.DataFrame.from_records([\n",
    "   group_to_records(p, f) for f in folders for p in glob.glob(os.path.join(f, '*.mp3'))\n",
    "])"
   ],
   "metadata": {
    "collapsed": false,
    "pycharm": {
     "name": "#%%\n"
    }
   }
  },
  {
   "cell_type": "code",
   "execution_count": null,
   "outputs": [],
   "source": [
    "def transferred_to_original(titulo):\n",
    "    print(\"----------- TITULO:\", titulo, \"-----------\")\n",
    "    p = glob.glob(os.path.join(AUDIO_DIR, titulo + '*_orig.mp3'))\n",
    "    assert(len(p) == 1)\n",
    "    return p[0]\n",
    "\n",
    "# /home/mmiguel/style-transfer/data/transferred/brmf_4b/Audios/bwv0371_orig.mp3\n",
    "def original_to_image(f: str):\n",
    "    print(f)\n",
    "    base = os.path.dirname(os.path.dirname(f))\n",
    "    file = os.path.basename(f)\n",
    "    song_name, category = file.split('_', maxsplit=1)\n",
    "    category = os.path.splitext(category)[0]\n",
    "    return f'{base}/sheets/{category}/{song_name}_{category}.png'\n",
    "\n",
    "\n",
    "#quiero llegar a:\n",
    "# data/brmf_4b/sheets/Bach_to_Frescobaldi/bwv0336_Bach_to_Frescobaldi.png\n",
    "def trans_to_image(f: str):\n",
    "    print(f)                                   # f = data/brmf_4b/audios/Bach_to_Frescobaldi/bwv0336.mid_64.mp3\n",
    "    file = os.path.basename(f)                 # file = bwv0336.mid_64.mp3\n",
    "    song_name = root_file_name(file.split('_', maxsplit=1)[0]) # song_name = bwv0336\n",
    "    \n",
    "    category = os.path.basename(os.path.dirname(f)) # category = Bach_to_Frescobaldi\n",
    "    \n",
    "    category = os.path.splitext(category)[0]\n",
    "    return f'{SHEETS_DIR}/{category}/{song_name}_{category}.png'"
   ],
   "metadata": {
    "collapsed": false,
    "pycharm": {
     "name": "#%%\n"
    }
   }
  },
  {
   "cell_type": "code",
   "execution_count": null,
   "id": "91f8e08c",
   "metadata": {
    "pycharm": {
     "name": "#%%\n"
    }
   },
   "outputs": [],
   "source": [
    "def transferred_to_original(titulo):\n",
    "    print(\"----------- TITULO:\", titulo, \"-----------\")\n",
    "    p = glob.glob(os.path.join(AUDIO_DIR, titulo + '*_orig.mp3'))\n",
    "    assert(len(p) == 1)\n",
    "    return p[0]\n",
    "\n",
    "# /home/mmiguel/style-transfer/data/transferred/brmf_4b/Audios/bwv0371_orig.mp3\n",
    "def original_to_image(f: str):\n",
    "    print(f)\n",
    "    base = os.path.dirname(os.path.dirname(f))\n",
    "    file = os.path.basename(f)\n",
    "    song_name, category = file.split('_', maxsplit=1)\n",
    "    category = os.path.splitext(category)[0]\n",
    "    return f'{base}/sheets/{category}/{song_name}_{category}.png'\n",
    "\n",
    "\n",
    "#quiero llegar a:\n",
    "# data/brmf_4b/sheets/Bach_to_Frescobaldi/bwv0336_Bach_to_Frescobaldi.png\n",
    "def trans_to_image(f: str):\n",
    "    print(f)                                   # f = data/brmf_4b/audios/Bach_to_Frescobaldi/bwv0336.mid_64.mp3\n",
    "    file = os.path.basename(f)                 # file = bwv0336.mid_64.mp3\n",
    "    song_name = root_file_name(file.split('_', maxsplit=1)[0]) # song_name = bwv0336\n",
    "    \n",
    "    category = os.path.basename(os.path.dirname(f)) # category = Bach_to_Frescobaldi\n",
    "    \n",
    "    category = os.path.splitext(category)[0]\n",
    "    return f'{SHEETS_DIR}/{category}/{song_name}_{category}.png'"
   ]
  },
  {
   "cell_type": "code",
   "execution_count": null,
   "id": "d3699d1c",
   "metadata": {
    "pycharm": {
     "name": "#%%\n"
    }
   },
   "outputs": [],
   "source": [
    "def setup(ds):\n",
    "    skip_answered = wid.Checkbox(description=\"Skip answered:\", value=True)\n",
    "    start_btn = wid.Button(description=\"Start\", disabled=False)\n",
    "    evaluator = wid.Text(description=\"Evaluator\")\n",
    "    \n",
    "    start_buttons = wid.HBox([skip_answered, evaluator, start_btn])\n",
    "\n",
    "    song_name = wid.Label('--')\n",
    "    orig_label = wid.Label(f'Original (--):')\n",
    "    orig_audio = wid.Audio(autoplay=False, loop=False)\n",
    "    orig_image = wid.Image()\n",
    "    trans_label = wid.Label(f'Transfered (--):')\n",
    "    trans_audio = wid.Audio(autoplay=False, loop=False)    \n",
    "    trans_image = wid.Image()\n",
    "    \n",
    "    audios = wid.HBox([\n",
    "        wid.VBox([orig_label, orig_audio, orig_image]),\n",
    "        wid.VBox([trans_label, trans_audio, trans_image])\n",
    "    ])\n",
    "    #sheets = wid.HBox([\n",
    "    #   wid.Image(value=transfered_to_original(titulo).replace('mp3', 'png')) \n",
    "    #])\n",
    "    mus_slider = wid.IntSlider(description='Musicalidad?:', min=1, max=5, value=3, style={'description_width': '120px'}, disabled=True)\n",
    "    new_slider = wid.IntSlider(description='Nuevo estilo?:', min=1, max=5, value=3, style={'description_width': '120px'}, disabled=True)\n",
    "    old_slider = wid.IntSlider(description='Respeta original?:', min=1, max=5, value=3, style={'description_width': '120px'}, disabled=True)\n",
    "       \n",
    "    ratings = wid.VBox([mus_slider, new_slider, old_slider])\n",
    "    \n",
    "    save_btn = wid.Button(description=\"Save\", disabled=True)\n",
    "    next_btn = wid.Button(description=\"Next\", disabled=True)\n",
    "    save_btns = wid.HBox([next_btn, save_btn])\n",
    "    \n",
    "    i = -1\n",
    "    resps = []\n",
    "    \n",
    "    def start(evt):\n",
    "        nonlocal ds\n",
    "        skip_answered.disabled = True\n",
    "        start_btn.disabled = True\n",
    "        evaluator.disabled = True\n",
    "        \n",
    "        mus_slider.disabled = False\n",
    "        new_slider.disabled = False\n",
    "        old_slider.disabled = False\n",
    "        \n",
    "        save_btn.disabled = False\n",
    "        next_btn.disabled = False\n",
    "        \n",
    "        if skip_answered.value and os.path.isfile(EVALUATIONS_PATH):\n",
    "            answered = pd.read_csv(EVALUATIONS_PATH)['path']\n",
    "            ds = [x for x in ds if x['audio'] not in answered]\n",
    "        \n",
    "        cont(evt)\n",
    "        \n",
    "    def cont(evt):\n",
    "        nonlocal i, resps\n",
    "        i += 1\n",
    "        resps.append(dict(\n",
    "            path=ds[i]['audio'],\n",
    "            evaluator=evaluator.value,\n",
    "            mus=mus_slider.value,\n",
    "            new=new_slider.value,\n",
    "            old=old_slider.value\n",
    "        ))\n",
    "        \n",
    "        orig_audio_fn = transferred_to_original(ds[i]['titulo'])\n",
    "        orig_image_fn = original_to_image(orig_audio_fn)\n",
    "        trans_audio_fn = ds[i]['audio']\n",
    "        trans_image_fn = trans_to_image(trans_audio_fn)\n",
    "        \n",
    "        for x in [orig_audio_fn, trans_audio_fn, orig_image_fn, trans_image_fn]:\n",
    "            if not os.path.isfile(x):\n",
    "                print(f'Could not find {x}')\n",
    "        \n",
    "        autor = ds[i]['autor']\n",
    "        dest = ds[i]['target']\n",
    "        titulo = ds[i]['titulo']\n",
    "        \n",
    "        song_name.value = titulo\n",
    "        orig_label.value = f'Original ({autor}):'\n",
    "        trans_label.value = f'Transfered ({dest}):'\n",
    "        \n",
    "        orig_audio.set_value_from_file(orig_audio_fn)\n",
    "        trans_audio.set_value_from_file(trans_audio_fn)\n",
    "        \n",
    "        orig_image.set_value_from_file(orig_image_fn)\n",
    "        trans_image.set_value_from_file(trans_image_fn)\n",
    "        \n",
    "        \n",
    "        mus_slider.value = 3\n",
    "        new_slider.value = 3\n",
    "        old_slider.value = 3\n",
    "        \n",
    "    def save(evt):\n",
    "        if os.path.isfile(EVALUATIONS_PATH):\n",
    "            resps_df = pd.read_csv(EVALUATIONS_PATH)\n",
    "        else:\n",
    "            resps_df = pd.DataFrame()\n",
    "        pd.concat([resps_df, pd.DataFrame.from_records(resps)]).to_csv(EVALUATIONS_PATH)\n",
    "        next_btn.disabled = True\n",
    "        save_btn.disabled = True\n",
    "        \n",
    "    start_btn.on_click(start)\n",
    "    next_btn.on_click(cont)\n",
    "    save_btn.on_click(save)\n",
    "    \n",
    "    display(wid.VBox([start_buttons, song_name, audios, ratings, save_btns]))"
   ]
  },
  {
   "cell_type": "code",
   "execution_count": null,
   "id": "235d01f7",
   "metadata": {
    "pycharm": {
     "name": "#%%\n"
    }
   },
   "outputs": [],
   "source": [
    "shuffled_data = data.sample(frac=1)\n",
    "\n",
    "g = [(k, v.iterrows()) for k, v in list(shuffled_data.groupby(['autor', 'target']))]\n",
    "\n",
    "mixed_data = []\n",
    "cycle = itertools.cycle(g)\n",
    "while len(mixed_data) < shuffled_data.shape[0]:\n",
    "    try:\n",
    "        n = next(cycle)\n",
    "        mixed_data.append(next(n[1]))\n",
    "    except StopIteration:\n",
    "        pass"
   ]
  },
  {
   "cell_type": "code",
   "execution_count": null,
   "id": "678c6a33",
   "metadata": {
    "pycharm": {
     "name": "#%%\n"
    }
   },
   "outputs": [],
   "source": [
    "[x[1] for x in mixed_data][0]"
   ]
  },
  {
   "cell_type": "code",
   "execution_count": null,
   "id": "5f14e242",
   "metadata": {
    "pycharm": {
     "name": "#%%\n"
    }
   },
   "outputs": [],
   "source": [
    "setup([x[1] for x in mixed_data])"
   ]
  },
  {
   "cell_type": "code",
   "execution_count": null,
   "id": "d15e92f7",
   "metadata": {
    "pycharm": {
     "name": "#%%\n"
    }
   },
   "outputs": [],
   "source": [
    "# os.path.join(AUDIO_DIR, titulo)\n",
    "glob.glob(os.path.join(AUDIO_DIR, '*_orig.mp3'))"
   ]
  },
  {
   "cell_type": "code",
   "execution_count": null,
   "id": "402c3578",
   "metadata": {
    "pycharm": {
     "name": "#%%\n"
    }
   },
   "outputs": [],
   "source": [
    "audio = wid.Audio(autoplay=False)\n",
    "audio.set_value_from_file(data.iloc[0]['audio'])\n",
    "audio"
   ]
  },
  {
   "cell_type": "code",
   "execution_count": null,
   "id": "786bb7a4",
   "metadata": {
    "pycharm": {
     "name": "#%%\n"
    }
   },
   "outputs": [],
   "source": [
    "cat resps.csv"
   ]
  }
 ],
 "metadata": {
  "kernelspec": {
   "display_name": "Python 3 (ipykernel)",
   "language": "python",
   "name": "python3"
  },
  "language_info": {
   "codemirror_mode": {
    "name": "ipython",
    "version": 3
   },
   "file_extension": ".py",
   "mimetype": "text/x-python",
   "name": "python",
   "nbconvert_exporter": "python",
   "pygments_lexer": "ipython3",
   "version": "3.8.10"
  }
 },
 "nbformat": 4,
 "nbformat_minor": 5
}