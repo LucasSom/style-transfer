{
 "cells": [
  {
   "cell_type": "code",
   "execution_count": 2,
   "id": "a99c8fc0-9ebc-4430-98d6-791ce8b875b7",
   "metadata": {
    "pycharm": {
     "name": "#%%\n"
    }
   },
   "outputs": [],
   "source": [
    "import pandas as pd\n",
    "import glob\n",
    "import ipywidgets as wid\n",
    "import sys\n",
    "import os\n",
    "\n",
    "sys.path.append('../')\n",
    "import utils.files_utils"
   ]
  },
  {
   "cell_type": "code",
   "execution_count": 3,
   "id": "4ab81600-2a74-4617-b288-9a547da0053a",
   "metadata": {
    "pycharm": {
     "name": "#%%\n"
    }
   },
   "outputs": [],
   "source": [
    "AUDIO_DIR = utils.files_utils.get_audios_path('brmf_4b')\n",
    "EVALUATIONS_PATH = 'evaluations.csv'"
   ]
  },
  {
   "cell_type": "code",
   "execution_count": 4,
   "id": "f92ff468-757d-4016-85ae-6483ac6c35ec",
   "metadata": {
    "pycharm": {
     "name": "#%%\n"
    }
   },
   "outputs": [],
   "source": [
    "audios = glob.glob(os.path.join(utils.files_utils.get_audios_path('brmf_4b'), '*_to_*'))\n",
    "\n",
    "def group_to_records(p):\n",
    "    basename = os.path.splitext(os.path.basename(p))[0]\n",
    "    s = basename.split('_')\n",
    "    return {\n",
    "        'titulo': s[0],\n",
    "        'autor': s[1],\n",
    "        'target': s[3],\n",
    "        'id': s[4],\n",
    "        'audio': p\n",
    "    }\n",
    "\n",
    "data = pd.DataFrame.from_records([\n",
    "   group_to_records(p) for p in audios \n",
    "])"
   ]
  },
  {
   "cell_type": "code",
   "execution_count": 5,
   "id": "7a3b4797-650b-4eb9-8e60-de67cbab5308",
   "metadata": {
    "pycharm": {
     "name": "#%%\n"
    }
   },
   "outputs": [],
   "source": [
    "def transfered_to_original(titulo):\n",
    "    p = glob.glob(os.path.join(AUDIO_DIR, titulo + '_orig*.mp3'))\n",
    "    assert(len(p) == 1)\n",
    "    return p[0]"
   ]
  },
  {
   "cell_type": "code",
   "execution_count": 7,
   "id": "f11525d6-993a-4a40-936d-04d23a728f05",
   "metadata": {
    "pycharm": {
     "name": "#%%\n"
    }
   },
   "outputs": [],
   "source": [
    "def display(d):\n",
    "    autor = d['autor']\n",
    "    dest = d['target']\n",
    "    titulo = d['titulo']\n",
    "    audios = wid.HBox([\n",
    "        wid.VBox([wid.Label(f'Original ({autor}):'), wid.Audio.from_file(transfered_to_original(titulo), autoplay=False, loop=False)]),\n",
    "        wid.VBox([wid.Label(f'Transfered ({dest}):'), wid.Audio.from_file(data.iloc[0]['audio'], autoplay=False, loop=False)])\n",
    "    ])\n",
    "    sheets = wid.HBox([\n",
    "       wid.Image(value=transfered_to_original)\n",
    "    ])\n",
    "    ratings = wid.VBox([\n",
    "        wid.IntSlider(description='Musicalidad?:', min=1, max=5, value=3, style={'description_width': '120px'}),\n",
    "        wid.IntSlider(description='Nuevo estilo?:', min=1, max=5, value=3, style={'description_width': '120px'}),\n",
    "        wid.IntSlider(description='Respeta original?:', min=1, max=5, value=3, style={'description_width': '120px'}),\n",
    "    ])\n",
    "    return wid.VBox([audios, ratings])"
   ]
  },
  {
   "cell_type": "code",
   "execution_count": 8,
   "id": "ba9f6217-9962-4093-ad3b-afb93782d002",
   "metadata": {
    "pycharm": {
     "name": "#%%\n"
    }
   },
   "outputs": [
    {
     "ename": "TraitError",
     "evalue": "The 'value' trait of an Image instance expected a bytes object, not the function 'transfered_to_original'.",
     "output_type": "error",
     "traceback": [
      "\u001B[0;31m---------------------------------------------------------------------------\u001B[0m",
      "\u001B[0;31mTraitError\u001B[0m                                Traceback (most recent call last)",
      "Input \u001B[0;32mIn [8]\u001B[0m, in \u001B[0;36m<cell line: 1>\u001B[0;34m()\u001B[0m\n\u001B[0;32m----> 1\u001B[0m \u001B[43mdisplay\u001B[49m\u001B[43m(\u001B[49m\u001B[43mdata\u001B[49m\u001B[38;5;241;43m.\u001B[39;49m\u001B[43miloc\u001B[49m\u001B[43m[\u001B[49m\u001B[38;5;241;43m0\u001B[39;49m\u001B[43m]\u001B[49m\u001B[43m)\u001B[49m\n",
      "Input \u001B[0;32mIn [7]\u001B[0m, in \u001B[0;36mdisplay\u001B[0;34m(d)\u001B[0m\n\u001B[1;32m      4\u001B[0m titulo \u001B[38;5;241m=\u001B[39m d[\u001B[38;5;124m'\u001B[39m\u001B[38;5;124mtitulo\u001B[39m\u001B[38;5;124m'\u001B[39m]\n\u001B[1;32m      5\u001B[0m audios \u001B[38;5;241m=\u001B[39m wid\u001B[38;5;241m.\u001B[39mHBox([\n\u001B[1;32m      6\u001B[0m     wid\u001B[38;5;241m.\u001B[39mVBox([wid\u001B[38;5;241m.\u001B[39mLabel(\u001B[38;5;124mf\u001B[39m\u001B[38;5;124m'\u001B[39m\u001B[38;5;124mOriginal (\u001B[39m\u001B[38;5;132;01m{\u001B[39;00mautor\u001B[38;5;132;01m}\u001B[39;00m\u001B[38;5;124m):\u001B[39m\u001B[38;5;124m'\u001B[39m), wid\u001B[38;5;241m.\u001B[39mAudio\u001B[38;5;241m.\u001B[39mfrom_file(transfered_to_original(titulo), autoplay\u001B[38;5;241m=\u001B[39m\u001B[38;5;28;01mFalse\u001B[39;00m, loop\u001B[38;5;241m=\u001B[39m\u001B[38;5;28;01mFalse\u001B[39;00m)]),\n\u001B[1;32m      7\u001B[0m     wid\u001B[38;5;241m.\u001B[39mVBox([wid\u001B[38;5;241m.\u001B[39mLabel(\u001B[38;5;124mf\u001B[39m\u001B[38;5;124m'\u001B[39m\u001B[38;5;124mTransfered (\u001B[39m\u001B[38;5;132;01m{\u001B[39;00mdest\u001B[38;5;132;01m}\u001B[39;00m\u001B[38;5;124m):\u001B[39m\u001B[38;5;124m'\u001B[39m), wid\u001B[38;5;241m.\u001B[39mAudio\u001B[38;5;241m.\u001B[39mfrom_file(data\u001B[38;5;241m.\u001B[39miloc[\u001B[38;5;241m0\u001B[39m][\u001B[38;5;124m'\u001B[39m\u001B[38;5;124maudio\u001B[39m\u001B[38;5;124m'\u001B[39m], autoplay\u001B[38;5;241m=\u001B[39m\u001B[38;5;28;01mFalse\u001B[39;00m, loop\u001B[38;5;241m=\u001B[39m\u001B[38;5;28;01mFalse\u001B[39;00m)])\n\u001B[1;32m      8\u001B[0m ])\n\u001B[1;32m      9\u001B[0m sheets \u001B[38;5;241m=\u001B[39m wid\u001B[38;5;241m.\u001B[39mHBox([\n\u001B[0;32m---> 10\u001B[0m    \u001B[43mwid\u001B[49m\u001B[38;5;241;43m.\u001B[39;49m\u001B[43mImage\u001B[49m\u001B[43m(\u001B[49m\u001B[43mvalue\u001B[49m\u001B[38;5;241;43m=\u001B[39;49m\u001B[43mtransfered_to_original\u001B[49m\u001B[43m)\u001B[49m\n\u001B[1;32m     11\u001B[0m ])\n\u001B[1;32m     12\u001B[0m ratings \u001B[38;5;241m=\u001B[39m wid\u001B[38;5;241m.\u001B[39mVBox([\n\u001B[1;32m     13\u001B[0m     wid\u001B[38;5;241m.\u001B[39mIntSlider(description\u001B[38;5;241m=\u001B[39m\u001B[38;5;124m'\u001B[39m\u001B[38;5;124mMusicalidad?:\u001B[39m\u001B[38;5;124m'\u001B[39m, \u001B[38;5;28mmin\u001B[39m\u001B[38;5;241m=\u001B[39m\u001B[38;5;241m1\u001B[39m, \u001B[38;5;28mmax\u001B[39m\u001B[38;5;241m=\u001B[39m\u001B[38;5;241m5\u001B[39m, value\u001B[38;5;241m=\u001B[39m\u001B[38;5;241m3\u001B[39m, style\u001B[38;5;241m=\u001B[39m{\u001B[38;5;124m'\u001B[39m\u001B[38;5;124mdescription_width\u001B[39m\u001B[38;5;124m'\u001B[39m: \u001B[38;5;124m'\u001B[39m\u001B[38;5;124m120px\u001B[39m\u001B[38;5;124m'\u001B[39m}),\n\u001B[1;32m     14\u001B[0m     wid\u001B[38;5;241m.\u001B[39mIntSlider(description\u001B[38;5;241m=\u001B[39m\u001B[38;5;124m'\u001B[39m\u001B[38;5;124mNuevo estilo?:\u001B[39m\u001B[38;5;124m'\u001B[39m, \u001B[38;5;28mmin\u001B[39m\u001B[38;5;241m=\u001B[39m\u001B[38;5;241m1\u001B[39m, \u001B[38;5;28mmax\u001B[39m\u001B[38;5;241m=\u001B[39m\u001B[38;5;241m5\u001B[39m, value\u001B[38;5;241m=\u001B[39m\u001B[38;5;241m3\u001B[39m, style\u001B[38;5;241m=\u001B[39m{\u001B[38;5;124m'\u001B[39m\u001B[38;5;124mdescription_width\u001B[39m\u001B[38;5;124m'\u001B[39m: \u001B[38;5;124m'\u001B[39m\u001B[38;5;124m120px\u001B[39m\u001B[38;5;124m'\u001B[39m}),\n\u001B[1;32m     15\u001B[0m     wid\u001B[38;5;241m.\u001B[39mIntSlider(description\u001B[38;5;241m=\u001B[39m\u001B[38;5;124m'\u001B[39m\u001B[38;5;124mRespeta original?:\u001B[39m\u001B[38;5;124m'\u001B[39m, \u001B[38;5;28mmin\u001B[39m\u001B[38;5;241m=\u001B[39m\u001B[38;5;241m1\u001B[39m, \u001B[38;5;28mmax\u001B[39m\u001B[38;5;241m=\u001B[39m\u001B[38;5;241m5\u001B[39m, value\u001B[38;5;241m=\u001B[39m\u001B[38;5;241m3\u001B[39m, style\u001B[38;5;241m=\u001B[39m{\u001B[38;5;124m'\u001B[39m\u001B[38;5;124mdescription_width\u001B[39m\u001B[38;5;124m'\u001B[39m: \u001B[38;5;124m'\u001B[39m\u001B[38;5;124m120px\u001B[39m\u001B[38;5;124m'\u001B[39m}),\n\u001B[1;32m     16\u001B[0m ])\n\u001B[1;32m     17\u001B[0m \u001B[38;5;28;01mreturn\u001B[39;00m wid\u001B[38;5;241m.\u001B[39mVBox([audios, ratings])\n",
      "File \u001B[0;32m~/Documentos/Tesis/venv/lib/python3.8/site-packages/ipywidgets/widgets/widget_media.py:159\u001B[0m, in \u001B[0;36mImage.__init__\u001B[0;34m(self, *args, **kwargs)\u001B[0m\n\u001B[1;32m    158\u001B[0m \u001B[38;5;28;01mdef\u001B[39;00m \u001B[38;5;21m__init__\u001B[39m(\u001B[38;5;28mself\u001B[39m, \u001B[38;5;241m*\u001B[39margs, \u001B[38;5;241m*\u001B[39m\u001B[38;5;241m*\u001B[39mkwargs):\n\u001B[0;32m--> 159\u001B[0m     \u001B[38;5;28;43msuper\u001B[39;49m\u001B[43m(\u001B[49m\u001B[43mImage\u001B[49m\u001B[43m,\u001B[49m\u001B[43m \u001B[49m\u001B[38;5;28;43mself\u001B[39;49m\u001B[43m)\u001B[49m\u001B[38;5;241;43m.\u001B[39;49m\u001B[38;5;21;43m__init__\u001B[39;49m\u001B[43m(\u001B[49m\u001B[38;5;241;43m*\u001B[39;49m\u001B[43margs\u001B[49m\u001B[43m,\u001B[49m\u001B[43m \u001B[49m\u001B[38;5;241;43m*\u001B[39;49m\u001B[38;5;241;43m*\u001B[39;49m\u001B[43mkwargs\u001B[49m\u001B[43m)\u001B[49m\n",
      "File \u001B[0;32m~/Documentos/Tesis/venv/lib/python3.8/site-packages/ipywidgets/widgets/widget.py:412\u001B[0m, in \u001B[0;36mWidget.__init__\u001B[0;34m(self, **kwargs)\u001B[0m\n\u001B[1;32m    410\u001B[0m \u001B[38;5;124;03m\"\"\"Public constructor\"\"\"\u001B[39;00m\n\u001B[1;32m    411\u001B[0m \u001B[38;5;28mself\u001B[39m\u001B[38;5;241m.\u001B[39m_model_id \u001B[38;5;241m=\u001B[39m kwargs\u001B[38;5;241m.\u001B[39mpop(\u001B[38;5;124m'\u001B[39m\u001B[38;5;124mmodel_id\u001B[39m\u001B[38;5;124m'\u001B[39m, \u001B[38;5;28;01mNone\u001B[39;00m)\n\u001B[0;32m--> 412\u001B[0m \u001B[38;5;28;43msuper\u001B[39;49m\u001B[43m(\u001B[49m\u001B[43mWidget\u001B[49m\u001B[43m,\u001B[49m\u001B[43m \u001B[49m\u001B[38;5;28;43mself\u001B[39;49m\u001B[43m)\u001B[49m\u001B[38;5;241;43m.\u001B[39;49m\u001B[38;5;21;43m__init__\u001B[39;49m\u001B[43m(\u001B[49m\u001B[38;5;241;43m*\u001B[39;49m\u001B[38;5;241;43m*\u001B[39;49m\u001B[43mkwargs\u001B[49m\u001B[43m)\u001B[49m\n\u001B[1;32m    414\u001B[0m Widget\u001B[38;5;241m.\u001B[39m_call_widget_constructed(\u001B[38;5;28mself\u001B[39m)\n\u001B[1;32m    415\u001B[0m \u001B[38;5;28mself\u001B[39m\u001B[38;5;241m.\u001B[39mopen()\n",
      "File \u001B[0;32m~/Documentos/Tesis/venv/lib/python3.8/site-packages/traitlets/traitlets.py:1079\u001B[0m, in \u001B[0;36mHasTraits.__init__\u001B[0;34m(self, *args, **kwargs)\u001B[0m\n\u001B[1;32m   1077\u001B[0m \u001B[38;5;28;01mfor\u001B[39;00m key, value \u001B[38;5;129;01min\u001B[39;00m kwargs\u001B[38;5;241m.\u001B[39mitems():\n\u001B[1;32m   1078\u001B[0m     \u001B[38;5;28;01mif\u001B[39;00m \u001B[38;5;28mself\u001B[39m\u001B[38;5;241m.\u001B[39mhas_trait(key):\n\u001B[0;32m-> 1079\u001B[0m         \u001B[38;5;28;43msetattr\u001B[39;49m\u001B[43m(\u001B[49m\u001B[38;5;28;43mself\u001B[39;49m\u001B[43m,\u001B[49m\u001B[43m \u001B[49m\u001B[43mkey\u001B[49m\u001B[43m,\u001B[49m\u001B[43m \u001B[49m\u001B[43mvalue\u001B[49m\u001B[43m)\u001B[49m\n\u001B[1;32m   1080\u001B[0m     \u001B[38;5;28;01melse\u001B[39;00m:\n\u001B[1;32m   1081\u001B[0m         \u001B[38;5;66;03m# passthrough args that don't set traits to super\u001B[39;00m\n\u001B[1;32m   1082\u001B[0m         super_kwargs[key] \u001B[38;5;241m=\u001B[39m value\n",
      "File \u001B[0;32m~/Documentos/Tesis/venv/lib/python3.8/site-packages/traitlets/traitlets.py:606\u001B[0m, in \u001B[0;36mTraitType.__set__\u001B[0;34m(self, obj, value)\u001B[0m\n\u001B[1;32m    604\u001B[0m     \u001B[38;5;28;01mraise\u001B[39;00m TraitError(\u001B[38;5;124m'\u001B[39m\u001B[38;5;124mThe \u001B[39m\u001B[38;5;124m\"\u001B[39m\u001B[38;5;132;01m%s\u001B[39;00m\u001B[38;5;124m\"\u001B[39m\u001B[38;5;124m trait is read-only.\u001B[39m\u001B[38;5;124m'\u001B[39m \u001B[38;5;241m%\u001B[39m \u001B[38;5;28mself\u001B[39m\u001B[38;5;241m.\u001B[39mname)\n\u001B[1;32m    605\u001B[0m \u001B[38;5;28;01melse\u001B[39;00m:\n\u001B[0;32m--> 606\u001B[0m     \u001B[38;5;28;43mself\u001B[39;49m\u001B[38;5;241;43m.\u001B[39;49m\u001B[43mset\u001B[49m\u001B[43m(\u001B[49m\u001B[43mobj\u001B[49m\u001B[43m,\u001B[49m\u001B[43m \u001B[49m\u001B[43mvalue\u001B[49m\u001B[43m)\u001B[49m\n",
      "File \u001B[0;32m~/Documentos/Tesis/venv/lib/python3.8/site-packages/traitlets/traitlets.py:580\u001B[0m, in \u001B[0;36mTraitType.set\u001B[0;34m(self, obj, value)\u001B[0m\n\u001B[1;32m    579\u001B[0m \u001B[38;5;28;01mdef\u001B[39;00m \u001B[38;5;21mset\u001B[39m(\u001B[38;5;28mself\u001B[39m, obj, value):\n\u001B[0;32m--> 580\u001B[0m     new_value \u001B[38;5;241m=\u001B[39m \u001B[38;5;28;43mself\u001B[39;49m\u001B[38;5;241;43m.\u001B[39;49m\u001B[43m_validate\u001B[49m\u001B[43m(\u001B[49m\u001B[43mobj\u001B[49m\u001B[43m,\u001B[49m\u001B[43m \u001B[49m\u001B[43mvalue\u001B[49m\u001B[43m)\u001B[49m\n\u001B[1;32m    581\u001B[0m     \u001B[38;5;28;01mtry\u001B[39;00m:\n\u001B[1;32m    582\u001B[0m         old_value \u001B[38;5;241m=\u001B[39m obj\u001B[38;5;241m.\u001B[39m_trait_values[\u001B[38;5;28mself\u001B[39m\u001B[38;5;241m.\u001B[39mname]\n",
      "File \u001B[0;32m~/Documentos/Tesis/venv/lib/python3.8/site-packages/traitlets/traitlets.py:612\u001B[0m, in \u001B[0;36mTraitType._validate\u001B[0;34m(self, obj, value)\u001B[0m\n\u001B[1;32m    610\u001B[0m     \u001B[38;5;28;01mreturn\u001B[39;00m value\n\u001B[1;32m    611\u001B[0m \u001B[38;5;28;01mif\u001B[39;00m \u001B[38;5;28mhasattr\u001B[39m(\u001B[38;5;28mself\u001B[39m, \u001B[38;5;124m'\u001B[39m\u001B[38;5;124mvalidate\u001B[39m\u001B[38;5;124m'\u001B[39m):\n\u001B[0;32m--> 612\u001B[0m     value \u001B[38;5;241m=\u001B[39m \u001B[38;5;28;43mself\u001B[39;49m\u001B[38;5;241;43m.\u001B[39;49m\u001B[43mvalidate\u001B[49m\u001B[43m(\u001B[49m\u001B[43mobj\u001B[49m\u001B[43m,\u001B[49m\u001B[43m \u001B[49m\u001B[43mvalue\u001B[49m\u001B[43m)\u001B[49m\n\u001B[1;32m    613\u001B[0m \u001B[38;5;28;01mif\u001B[39;00m obj\u001B[38;5;241m.\u001B[39m_cross_validation_lock \u001B[38;5;129;01mis\u001B[39;00m \u001B[38;5;28;01mFalse\u001B[39;00m:\n\u001B[1;32m    614\u001B[0m     value \u001B[38;5;241m=\u001B[39m \u001B[38;5;28mself\u001B[39m\u001B[38;5;241m.\u001B[39m_cross_validate(obj, value)\n",
      "File \u001B[0;32m~/Documentos/Tesis/venv/lib/python3.8/site-packages/traitlets/traitlets.py:2146\u001B[0m, in \u001B[0;36mBytes.validate\u001B[0;34m(self, obj, value)\u001B[0m\n\u001B[1;32m   2144\u001B[0m \u001B[38;5;28;01mif\u001B[39;00m \u001B[38;5;28misinstance\u001B[39m(value, \u001B[38;5;28mbytes\u001B[39m):\n\u001B[1;32m   2145\u001B[0m     \u001B[38;5;28;01mreturn\u001B[39;00m value\n\u001B[0;32m-> 2146\u001B[0m \u001B[38;5;28;43mself\u001B[39;49m\u001B[38;5;241;43m.\u001B[39;49m\u001B[43merror\u001B[49m\u001B[43m(\u001B[49m\u001B[43mobj\u001B[49m\u001B[43m,\u001B[49m\u001B[43m \u001B[49m\u001B[43mvalue\u001B[49m\u001B[43m)\u001B[49m\n",
      "File \u001B[0;32m~/Documentos/Tesis/venv/lib/python3.8/site-packages/traitlets/traitlets.py:692\u001B[0m, in \u001B[0;36mTraitType.error\u001B[0;34m(self, obj, value, error, info)\u001B[0m\n\u001B[1;32m    689\u001B[0m \u001B[38;5;28;01melse\u001B[39;00m:\n\u001B[1;32m    690\u001B[0m     e \u001B[38;5;241m=\u001B[39m \u001B[38;5;124m\"\u001B[39m\u001B[38;5;124mThe \u001B[39m\u001B[38;5;124m'\u001B[39m\u001B[38;5;132;01m%s\u001B[39;00m\u001B[38;5;124m'\u001B[39m\u001B[38;5;124m trait expected \u001B[39m\u001B[38;5;132;01m%s\u001B[39;00m\u001B[38;5;124m, not \u001B[39m\u001B[38;5;132;01m%s\u001B[39;00m\u001B[38;5;124m.\u001B[39m\u001B[38;5;124m\"\u001B[39m \u001B[38;5;241m%\u001B[39m (\n\u001B[1;32m    691\u001B[0m         \u001B[38;5;28mself\u001B[39m\u001B[38;5;241m.\u001B[39mname, \u001B[38;5;28mself\u001B[39m\u001B[38;5;241m.\u001B[39minfo(), describe(\u001B[38;5;124m\"\u001B[39m\u001B[38;5;124mthe\u001B[39m\u001B[38;5;124m\"\u001B[39m, value))\n\u001B[0;32m--> 692\u001B[0m \u001B[38;5;28;01mraise\u001B[39;00m TraitError(e)\n",
      "\u001B[0;31mTraitError\u001B[0m: The 'value' trait of an Image instance expected a bytes object, not the function 'transfered_to_original'."
     ]
    }
   ],
   "source": [
    "display(data.iloc[0])"
   ]
  },
  {
   "cell_type": "code",
   "execution_count": null,
   "id": "97199a04-1d90-4c7d-9691-7c1a45d9938d",
   "metadata": {
    "pycharm": {
     "name": "#%%\n"
    }
   },
   "outputs": [],
   "source": []
  }
 ],
 "metadata": {
  "kernelspec": {
   "display_name": "Python 3 (ipykernel)",
   "language": "python",
   "name": "python3"
  },
  "language_info": {
   "codemirror_mode": {
    "name": "ipython",
    "version": 3
   },
   "file_extension": ".py",
   "mimetype": "text/x-python",
   "name": "python",
   "nbconvert_exporter": "python",
   "pygments_lexer": "ipython3",
   "version": "3.9.7"
  }
 },
 "nbformat": 4,
 "nbformat_minor": 5
}