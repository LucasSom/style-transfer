{
 "cells": [
  {
   "cell_type": "markdown",
   "metadata": {
    "collapsed": true,
    "id": "BOVlmL9MGNLS"
   },
   "source": [
    "# Style transfer"
   ]
  },
  {
   "cell_type": "markdown",
   "metadata": {
    "id": "E_6nP393GNLc"
   },
   "source": [
    "#### Setup"
   ]
  },
  {
   "cell_type": "code",
   "execution_count": 1,
   "metadata": {
    "id": "bprSm_piGNLZ"
   },
   "outputs": [
    {
     "name": "stdout",
     "output_type": "stream",
     "text": [
      "Running locally\n"
     ]
    }
   ],
   "source": [
    "import os\n",
    "\n",
    "try:\n",
    "    from google.colab import drive\n",
    "    drive.mount('/content/drive')\n",
    "\n",
    "    # Change the directory\n",
    "    os.chdir('/content/drive/MyDrive/ColabNotebooks/style-transfer')\n",
    "    is_colab = True\n",
    "    print(\"Running on Colab\")\n",
    "\n",
    "except:\n",
    "    is_colab = False\n",
    "    print(\"Running locally\")"
   ]
  },
  {
   "cell_type": "code",
   "execution_count": 5,
   "metadata": {
    "id": "7uP4gUbdGNLd"
   },
   "outputs": [],
   "source": [
    "# 35s\n",
    "if is_colab:\n",
    "    ! pip install pretty_midi\n",
    "    # ! apt-get install musescore\n",
    "    ! pip install dfply\n",
    "\n",
    "    # ! pip install pyfluidsynth\n",
    "    # ! apt install fluidsynth\n",
    "\n",
    "    # !cp /usr/share/sounds/sf2/FluidR3_GM.sf2 ./font.sf2"
   ]
  },
  {
   "cell_type": "code",
   "execution_count": 1,
   "metadata": {
    "id": "VOdmuzFuGNLg"
   },
   "outputs": [
    {
     "name": "stderr",
     "output_type": "stream",
     "text": [
      "2022-12-05 18:31:54.242129: W tensorflow/stream_executor/platform/default/dso_loader.cc:64] Could not load dynamic library 'libcudart.so.11.0'; dlerror: libcudart.so.11.0: cannot open shared object file: No such file or directory\n",
      "2022-12-05 18:31:54.242150: I tensorflow/stream_executor/cuda/cudart_stub.cc:29] Ignore above cudart dlerror if you do not have a GPU set up on your machine.\n"
     ]
    }
   ],
   "source": [
    "#3s\n",
    "import random\n",
    "random.seed(42)\n",
    "\n",
    "import glob\n",
    "import pandas as pd\n",
    "from utils.files_utils import save_pickle, load_pickle, data_path, preprocessed_data_path, datasets_path\n",
    "from utils.plots_utils import plot_train\n",
    "from utils.audio_management import save_audios\n",
    "from model.train import train_model\n",
    "from model.colab_tension_vae.params import init\n",
    "from pipeline_tests.test_training import test_reconstruction\n",
    "from preprocessing import preprocess_data\n",
    "from tensorflow import keras"
   ]
  },
  {
   "cell_type": "markdown",
   "metadata": {
    "id": "S3VWz_ViGNLi"
   },
   "source": [
    "## Parámetros"
   ]
  },
  {
   "cell_type": "code",
   "execution_count": 12,
   "metadata": {
    "id": "UX18tHS0GNLj"
   },
   "outputs": [],
   "source": [
    "#@title Parámetros ajustables\n",
    "\n",
    "#@markdown Seleccionar directorios de los datasets\n",
    "dataset_name = \"bach-rag-moz-fres-4\" #@param {type:\"string\"}\n",
    "model_name = \"brmf_4b\" #@param {type:\"string\"}\n",
    "config_name = \"4bar\" #@param [\"8bar\", \"4bar\"]\n",
    "init(config_name)\n",
    "\n",
    "#@markdown ¿Entrenamos un nuevo modelo?\n",
    "if_train = False #@param {type:\"boolean\"}\n",
    "verbose = True #@param {type:\"boolean\"}\n",
    "\n",
    "#@markdown ¿Cuántas épocas? ¿Cada cuánto grabamos?\n",
    "epochs =  10#@param {type:\"integer\"}\n",
    "checkpt =  1#@param {type:\"integer\"}\n",
    "\n",
    "#@markdown Datasets:\n",
    "dataset1 = \"Bach/\" #@param {type:\"string\"}\n",
    "dataset2 = \"ragtime/\" #@param {type:\"string\"}\n",
    "dataset3 = \"Mozart/\" #@param {type:\"string\"}\n",
    "dataset4 = \"Frescobaldi/\" #@param {type:\"string\"}\n",
    "\n",
    "ds1_path = os.path.join(datasets_path, dataset1)\n",
    "ds2_path = os.path.join(datasets_path, dataset2)\n",
    "ds3_path = os.path.join(datasets_path, dataset3)\n",
    "ds4_path = os.path.join(datasets_path, dataset4)\n",
    "\n",
    "songs = {\n",
    "    dataset1[:-1]: [os.path.join(ds1_path, path) for path in os.listdir(ds1_path)],\n",
    "    dataset2[:-1]: [os.path.join(ds2_path, path) for path in os.listdir(ds2_path)],\n",
    "    dataset3[:-1]: [os.path.join(ds3_path, path) for path in os.listdir(ds3_path)],\n",
    "    dataset4[:-1]: [os.path.join(ds4_path, path) for path in os.listdir(ds4_path)],\n",
    "}"
   ]
  },
  {
   "cell_type": "code",
   "execution_count": null,
   "metadata": {
    "id": "_EdwiPlDGNLk"
   },
   "outputs": [],
   "source": [
    "#@title Transformar estilo\n",
    "ds_original = \"Bach\" #@param [\"Bach\", \"ragtime\", \"Mozart\", \"Frescobaldi\"]\n",
    "ds_objetivo = \"Mozart\" #@param [\"Bach\", \"ragtime\", \"Mozart\", \"Frescobaldi\"]\n",
    "\n",
    "nombre_pickle = ds_original+\"2\"+ds_objetivo"
   ]
  },
  {
   "cell_type": "markdown",
   "metadata": {
    "id": "KqcMEtA0GNLm"
   },
   "source": [
    "____\n",
    "# Preprocessing and Model"
   ]
  },
  {
   "cell_type": "markdown",
   "metadata": {
    "id": "i6ILtS0xGNLn"
   },
   "source": [
    "Se lo lleva al formato lista de:\n",
    "\n",
    "- $n$ canciones = lista de:\n",
    "- 2 voces = lista de:\n",
    "- $e$ eventos (notas, silencios, etc.)"
   ]
  },
  {
   "cell_type": "markdown",
   "metadata": {
    "id": "f3IEfUpUGNLo"
   },
   "source": [
    "\n",
    "Armamos el DataFrame con el que manejamos las canciones. Cada fila es una canción y las columnas son:\n",
    "- `Style`\n",
    "- `Título`\n",
    "- `Id roll`: qué matriz es de la canción\n",
    "- `Roll` objeto (GuoRoll) con:\n",
    "    - `matrix`: matriz de $16*n \\times 89$ con $n=$ la cantidad de compases\n",
    "    - `bars`: cantidad de compases por matriz (es el mismo para todo el dataset, con lo cual, podría eliminarse la redundancia en un trabajo futuro)\n",
    "    - `song`: referencia al objeto `song` al que pertenece si fue obtenido de ahí. Si fue obtenido desde un embedding, es `None` (en un trabajo futuro podría cambiárselo por un singleton).\n",
    "    - `score`: partitura obtenida a partir de la matriz\n",
    "    - `midi`: Pretty MIDI obtenido a partir de la matriz\n",
    "\n",
    "Luego le agregaremos:\n",
    "- `Embedding`: el vector resultado de encodear el roll"
   ]
  },
  {
   "cell_type": "markdown",
   "metadata": {
    "id": "RtH2EhApGNLo"
   },
   "source": [
    "## Preprocessing"
   ]
  },
  {
   "cell_type": "code",
   "execution_count": 13,
   "metadata": {
    "id": "1uIx8PS0GNLp",
    "scrolled": true
   },
   "outputs": [
    {
     "name": "stdout",
     "output_type": "stream",
     "text": [
      "Loaded file: <_io.BufferedReader name='/home/urania/Documentos/Tesis/src/style-transfer/data/preprocessed_data_path/bach-rag-moz-fres-4.pkl'>\n"
     ]
    }
   ],
   "source": [
    "try:\n",
    "    df_preprocessed = load_pickle(file_name=preprocessed_data_path+dataset_name, verbose=verbose)\n",
    "except:\n",
    "    print(\"Processing dataset\")\n",
    "    df_preprocessed = preprocess_data(songs)\n",
    "    save_pickle(df_preprocessed, file_name=preprocessed_data_path+dataset_name, verbose=verbose)"
   ]
  },
  {
   "cell_type": "markdown",
   "metadata": {
    "id": "PqimGOhyGNLp"
   },
   "source": [
    "## Model"
   ]
  },
  {
   "cell_type": "code",
   "execution_count": null,
   "metadata": {
    "id": "z6aMetleGNLq"
   },
   "outputs": [],
   "source": [
    "if if_train:\n",
    "    vae = train_model(\n",
    "        df=df_preprocessed,\n",
    "        model_name=model_name,\n",
    "        final_epoch=epochs,\n",
    "        ckpt=checkpt,\n",
    "        verbose=verbose\n",
    "    )\n",
    "else:\n",
    "    vae = keras.models.load_model(data_path + f\"saved_models/{model_name}/\")"
   ]
  },
  {
   "cell_type": "code",
   "execution_count": null,
   "metadata": {
    "id": "83KzT1dVIB3M"
   },
   "outputs": [],
   "source": [
    "glob.glob(rf\"{data_path}logs/{model_name}_*.csv\")"
   ]
  },
  {
   "cell_type": "code",
   "execution_count": null,
   "metadata": {
    "cellView": "form",
    "id": "NEpu172wGNLr"
   },
   "outputs": [],
   "source": [
    "id_file =  790#@param {type:\"integer\"}\n",
    "\n",
    "callbacks = pd.read_csv(data_path + f\"logs/{model_name}_{id_file}.csv\")\n",
    "plot_train(callbacks, epochs)"
   ]
  },
  {
   "cell_type": "markdown",
   "metadata": {
    "id": "SWT0obzYdEfM"
   },
   "source": [
    "## Test reconstruction"
   ]
  },
  {
   "cell_type": "code",
   "execution_count": null,
   "metadata": {
    "id": "3Qdpjgz6dC0d"
   },
   "outputs": [],
   "source": [
    "if is_colab:\n",
    "  ! sudo apt install lilypond\n",
    "\n",
    "test_reconstruction(df_preprocessed, vae, model_name, samples=5, inplace=False, verbose=verbose)"
   ]
  },
  {
   "cell_type": "markdown",
   "metadata": {
    "id": "Li2cTF9ZGxoU"
   },
   "source": [
    "# Working space"
   ]
  },
  {
   "cell_type": "code",
   "execution_count": 10,
   "metadata": {},
   "outputs": [
    {
     "data": {
      "text/html": [
       "<div>\n",
       "<style scoped>\n",
       "    .dataframe tbody tr th:only-of-type {\n",
       "        vertical-align: middle;\n",
       "    }\n",
       "\n",
       "    .dataframe tbody tr th {\n",
       "        vertical-align: top;\n",
       "    }\n",
       "\n",
       "    .dataframe thead th {\n",
       "        text-align: right;\n",
       "    }\n",
       "</style>\n",
       "<table border=\"1\" class=\"dataframe\">\n",
       "  <thead>\n",
       "    <tr style=\"text-align: right;\">\n",
       "      <th></th>\n",
       "      <th>Transference</th>\n",
       "      <th>Improvement ratio</th>\n",
       "    </tr>\n",
       "  </thead>\n",
       "  <tbody>\n",
       "    <tr>\n",
       "      <th>0</th>\n",
       "      <td>ragtime to Bach got away</td>\n",
       "      <td>0.366120</td>\n",
       "    </tr>\n",
       "    <tr>\n",
       "      <th>1</th>\n",
       "      <td>ragtime to Bach got closer</td>\n",
       "      <td>0.185792</td>\n",
       "    </tr>\n",
       "    <tr>\n",
       "      <th>2</th>\n",
       "      <td>Bach to ragtime got away</td>\n",
       "      <td>0.754098</td>\n",
       "    </tr>\n",
       "    <tr>\n",
       "      <th>3</th>\n",
       "      <td>Bach to ragtime got closer</td>\n",
       "      <td>0.814208</td>\n",
       "    </tr>\n",
       "    <tr>\n",
       "      <th>4</th>\n",
       "      <td>Frescobaldi to Bach got away</td>\n",
       "      <td>0.270718</td>\n",
       "    </tr>\n",
       "    <tr>\n",
       "      <th>5</th>\n",
       "      <td>Frescobaldi to Bach got closer</td>\n",
       "      <td>0.071823</td>\n",
       "    </tr>\n",
       "    <tr>\n",
       "      <th>6</th>\n",
       "      <td>Bach to Frescobaldi got away</td>\n",
       "      <td>0.397790</td>\n",
       "    </tr>\n",
       "    <tr>\n",
       "      <th>7</th>\n",
       "      <td>Bach to Frescobaldi got closer</td>\n",
       "      <td>0.928177</td>\n",
       "    </tr>\n",
       "    <tr>\n",
       "      <th>8</th>\n",
       "      <td>Mozart to Bach got away</td>\n",
       "      <td>0.314286</td>\n",
       "    </tr>\n",
       "    <tr>\n",
       "      <th>9</th>\n",
       "      <td>Mozart to Bach got closer</td>\n",
       "      <td>0.057143</td>\n",
       "    </tr>\n",
       "    <tr>\n",
       "      <th>10</th>\n",
       "      <td>Bach to Mozart got away</td>\n",
       "      <td>0.554286</td>\n",
       "    </tr>\n",
       "    <tr>\n",
       "      <th>11</th>\n",
       "      <td>Bach to Mozart got closer</td>\n",
       "      <td>0.942857</td>\n",
       "    </tr>\n",
       "    <tr>\n",
       "      <th>12</th>\n",
       "      <td>ragtime to Frescobaldi got away</td>\n",
       "      <td>0.666667</td>\n",
       "    </tr>\n",
       "    <tr>\n",
       "      <th>13</th>\n",
       "      <td>ragtime to Frescobaldi got closer</td>\n",
       "      <td>0.597222</td>\n",
       "    </tr>\n",
       "    <tr>\n",
       "      <th>14</th>\n",
       "      <td>Frescobaldi to ragtime got away</td>\n",
       "      <td>0.861111</td>\n",
       "    </tr>\n",
       "    <tr>\n",
       "      <th>15</th>\n",
       "      <td>Frescobaldi to ragtime got closer</td>\n",
       "      <td>0.402778</td>\n",
       "    </tr>\n",
       "    <tr>\n",
       "      <th>16</th>\n",
       "      <td>Frescobaldi to Mozart got away</td>\n",
       "      <td>0.718750</td>\n",
       "    </tr>\n",
       "    <tr>\n",
       "      <th>17</th>\n",
       "      <td>Frescobaldi to Mozart got closer</td>\n",
       "      <td>0.718750</td>\n",
       "    </tr>\n",
       "    <tr>\n",
       "      <th>18</th>\n",
       "      <td>Mozart to Frescobaldi got away</td>\n",
       "      <td>0.546875</td>\n",
       "    </tr>\n",
       "    <tr>\n",
       "      <th>19</th>\n",
       "      <td>Mozart to Frescobaldi got closer</td>\n",
       "      <td>0.281250</td>\n",
       "    </tr>\n",
       "    <tr>\n",
       "      <th>20</th>\n",
       "      <td>ragtime to Mozart got away</td>\n",
       "      <td>0.878788</td>\n",
       "    </tr>\n",
       "    <tr>\n",
       "      <th>21</th>\n",
       "      <td>ragtime to Mozart got closer</td>\n",
       "      <td>0.772727</td>\n",
       "    </tr>\n",
       "    <tr>\n",
       "      <th>22</th>\n",
       "      <td>Mozart to ragtime got away</td>\n",
       "      <td>0.939394</td>\n",
       "    </tr>\n",
       "    <tr>\n",
       "      <th>23</th>\n",
       "      <td>Mozart to ragtime got closer</td>\n",
       "      <td>0.227273</td>\n",
       "    </tr>\n",
       "  </tbody>\n",
       "</table>\n",
       "</div>"
      ],
      "text/plain": [
       "                         Transference  Improvement ratio\n",
       "0            ragtime to Bach got away           0.366120\n",
       "1          ragtime to Bach got closer           0.185792\n",
       "2            Bach to ragtime got away           0.754098\n",
       "3          Bach to ragtime got closer           0.814208\n",
       "4        Frescobaldi to Bach got away           0.270718\n",
       "5      Frescobaldi to Bach got closer           0.071823\n",
       "6        Bach to Frescobaldi got away           0.397790\n",
       "7      Bach to Frescobaldi got closer           0.928177\n",
       "8             Mozart to Bach got away           0.314286\n",
       "9           Mozart to Bach got closer           0.057143\n",
       "10            Bach to Mozart got away           0.554286\n",
       "11          Bach to Mozart got closer           0.942857\n",
       "12    ragtime to Frescobaldi got away           0.666667\n",
       "13  ragtime to Frescobaldi got closer           0.597222\n",
       "14    Frescobaldi to ragtime got away           0.861111\n",
       "15  Frescobaldi to ragtime got closer           0.402778\n",
       "16     Frescobaldi to Mozart got away           0.718750\n",
       "17   Frescobaldi to Mozart got closer           0.718750\n",
       "18     Mozart to Frescobaldi got away           0.546875\n",
       "19   Mozart to Frescobaldi got closer           0.281250\n",
       "20         ragtime to Mozart got away           0.878788\n",
       "21       ragtime to Mozart got closer           0.772727\n",
       "22         Mozart to ragtime got away           0.939394\n",
       "23       Mozart to ragtime got closer           0.227273"
      ]
     },
     "execution_count": 10,
     "metadata": {},
     "output_type": "execute_result"
    }
   ],
   "source": [
    "df = pd.read_csv(f\"{data_path}/debug_outputs/table_intervals-all_single.csv\", index_col=0)\n",
    "df"
   ]
  },
  {
   "cell_type": "code",
   "execution_count": 15,
   "metadata": {},
   "outputs": [
    {
     "data": {
      "text/html": [
       "<div>\n",
       "<style scoped>\n",
       "    .dataframe tbody tr th:only-of-type {\n",
       "        vertical-align: middle;\n",
       "    }\n",
       "\n",
       "    .dataframe tbody tr th {\n",
       "        vertical-align: top;\n",
       "    }\n",
       "\n",
       "    .dataframe thead th {\n",
       "        text-align: right;\n",
       "    }\n",
       "</style>\n",
       "<table border=\"1\" class=\"dataframe\">\n",
       "  <thead>\n",
       "    <tr style=\"text-align: right;\">\n",
       "      <th></th>\n",
       "      <th>Transference</th>\n",
       "      <th>Improvement ratio</th>\n",
       "    </tr>\n",
       "  </thead>\n",
       "  <tbody>\n",
       "    <tr>\n",
       "      <th>11</th>\n",
       "      <td>Bach to Mozart got closer</td>\n",
       "      <td>0.942857</td>\n",
       "    </tr>\n",
       "    <tr>\n",
       "      <th>22</th>\n",
       "      <td>Mozart to ragtime got away</td>\n",
       "      <td>0.939394</td>\n",
       "    </tr>\n",
       "    <tr>\n",
       "      <th>7</th>\n",
       "      <td>Bach to Frescobaldi got closer</td>\n",
       "      <td>0.928177</td>\n",
       "    </tr>\n",
       "    <tr>\n",
       "      <th>20</th>\n",
       "      <td>ragtime to Mozart got away</td>\n",
       "      <td>0.878788</td>\n",
       "    </tr>\n",
       "    <tr>\n",
       "      <th>14</th>\n",
       "      <td>Frescobaldi to ragtime got away</td>\n",
       "      <td>0.861111</td>\n",
       "    </tr>\n",
       "    <tr>\n",
       "      <th>3</th>\n",
       "      <td>Bach to ragtime got closer</td>\n",
       "      <td>0.814208</td>\n",
       "    </tr>\n",
       "    <tr>\n",
       "      <th>21</th>\n",
       "      <td>ragtime to Mozart got closer</td>\n",
       "      <td>0.772727</td>\n",
       "    </tr>\n",
       "    <tr>\n",
       "      <th>2</th>\n",
       "      <td>Bach to ragtime got away</td>\n",
       "      <td>0.754098</td>\n",
       "    </tr>\n",
       "    <tr>\n",
       "      <th>16</th>\n",
       "      <td>Frescobaldi to Mozart got away</td>\n",
       "      <td>0.718750</td>\n",
       "    </tr>\n",
       "    <tr>\n",
       "      <th>17</th>\n",
       "      <td>Frescobaldi to Mozart got closer</td>\n",
       "      <td>0.718750</td>\n",
       "    </tr>\n",
       "    <tr>\n",
       "      <th>12</th>\n",
       "      <td>ragtime to Frescobaldi got away</td>\n",
       "      <td>0.666667</td>\n",
       "    </tr>\n",
       "    <tr>\n",
       "      <th>13</th>\n",
       "      <td>ragtime to Frescobaldi got closer</td>\n",
       "      <td>0.597222</td>\n",
       "    </tr>\n",
       "    <tr>\n",
       "      <th>10</th>\n",
       "      <td>Bach to Mozart got away</td>\n",
       "      <td>0.554286</td>\n",
       "    </tr>\n",
       "    <tr>\n",
       "      <th>18</th>\n",
       "      <td>Mozart to Frescobaldi got away</td>\n",
       "      <td>0.546875</td>\n",
       "    </tr>\n",
       "    <tr>\n",
       "      <th>15</th>\n",
       "      <td>Frescobaldi to ragtime got closer</td>\n",
       "      <td>0.402778</td>\n",
       "    </tr>\n",
       "    <tr>\n",
       "      <th>6</th>\n",
       "      <td>Bach to Frescobaldi got away</td>\n",
       "      <td>0.397790</td>\n",
       "    </tr>\n",
       "    <tr>\n",
       "      <th>0</th>\n",
       "      <td>ragtime to Bach got away</td>\n",
       "      <td>0.366120</td>\n",
       "    </tr>\n",
       "    <tr>\n",
       "      <th>8</th>\n",
       "      <td>Mozart to Bach got away</td>\n",
       "      <td>0.314286</td>\n",
       "    </tr>\n",
       "    <tr>\n",
       "      <th>19</th>\n",
       "      <td>Mozart to Frescobaldi got closer</td>\n",
       "      <td>0.281250</td>\n",
       "    </tr>\n",
       "    <tr>\n",
       "      <th>4</th>\n",
       "      <td>Frescobaldi to Bach got away</td>\n",
       "      <td>0.270718</td>\n",
       "    </tr>\n",
       "    <tr>\n",
       "      <th>23</th>\n",
       "      <td>Mozart to ragtime got closer</td>\n",
       "      <td>0.227273</td>\n",
       "    </tr>\n",
       "    <tr>\n",
       "      <th>1</th>\n",
       "      <td>ragtime to Bach got closer</td>\n",
       "      <td>0.185792</td>\n",
       "    </tr>\n",
       "    <tr>\n",
       "      <th>5</th>\n",
       "      <td>Frescobaldi to Bach got closer</td>\n",
       "      <td>0.071823</td>\n",
       "    </tr>\n",
       "    <tr>\n",
       "      <th>9</th>\n",
       "      <td>Mozart to Bach got closer</td>\n",
       "      <td>0.057143</td>\n",
       "    </tr>\n",
       "  </tbody>\n",
       "</table>\n",
       "</div>"
      ],
      "text/plain": [
       "                         Transference  Improvement ratio\n",
       "11          Bach to Mozart got closer           0.942857\n",
       "22         Mozart to ragtime got away           0.939394\n",
       "7      Bach to Frescobaldi got closer           0.928177\n",
       "20         ragtime to Mozart got away           0.878788\n",
       "14    Frescobaldi to ragtime got away           0.861111\n",
       "3          Bach to ragtime got closer           0.814208\n",
       "21       ragtime to Mozart got closer           0.772727\n",
       "2            Bach to ragtime got away           0.754098\n",
       "16     Frescobaldi to Mozart got away           0.718750\n",
       "17   Frescobaldi to Mozart got closer           0.718750\n",
       "12    ragtime to Frescobaldi got away           0.666667\n",
       "13  ragtime to Frescobaldi got closer           0.597222\n",
       "10            Bach to Mozart got away           0.554286\n",
       "18     Mozart to Frescobaldi got away           0.546875\n",
       "15  Frescobaldi to ragtime got closer           0.402778\n",
       "6        Bach to Frescobaldi got away           0.397790\n",
       "0            ragtime to Bach got away           0.366120\n",
       "8             Mozart to Bach got away           0.314286\n",
       "19   Mozart to Frescobaldi got closer           0.281250\n",
       "4        Frescobaldi to Bach got away           0.270718\n",
       "23       Mozart to ragtime got closer           0.227273\n",
       "1          ragtime to Bach got closer           0.185792\n",
       "5      Frescobaldi to Bach got closer           0.071823\n",
       "9           Mozart to Bach got closer           0.057143"
      ]
     },
     "execution_count": 15,
     "metadata": {},
     "output_type": "execute_result"
    }
   ],
   "source": [
    "df.sort_values(by=\"Improvement ratio\", ascending=False)"
   ]
  },
  {
   "cell_type": "code",
   "execution_count": 7,
   "metadata": {},
   "outputs": [
    {
     "data": {
      "text/plain": [
       "{'debug': 2,\n",
       " 'ragtime': 37,\n",
       " 'Bach': 166,\n",
       " 'debug-2': 1,\n",
       " 'Frescobaldi': 39,\n",
       " 'Mozart': 52}"
      ]
     },
     "execution_count": 7,
     "metadata": {},
     "output_type": "execute_result"
    }
   ],
   "source": [
    "d = {os.path.basename(style_path): len(os.listdir(f\"{datasets_path}/{style_path}\")) for style_path in os.listdir(datasets_path)}\n",
    "d"
   ]
  },
  {
   "cell_type": "code",
   "execution_count": 8,
   "metadata": {},
   "outputs": [
    {
     "data": {
      "text/html": [
       "<div>\n",
       "<style scoped>\n",
       "    .dataframe tbody tr th:only-of-type {\n",
       "        vertical-align: middle;\n",
       "    }\n",
       "\n",
       "    .dataframe tbody tr th {\n",
       "        vertical-align: top;\n",
       "    }\n",
       "\n",
       "    .dataframe thead th {\n",
       "        text-align: right;\n",
       "    }\n",
       "</style>\n",
       "<table border=\"1\" class=\"dataframe\">\n",
       "  <thead>\n",
       "    <tr style=\"text-align: right;\">\n",
       "      <th></th>\n",
       "      <th>Autor</th>\n",
       "      <th>Titulo</th>\n",
       "      <th>roll</th>\n",
       "    </tr>\n",
       "  </thead>\n",
       "  <tbody>\n",
       "    <tr>\n",
       "      <th>0</th>\n",
       "      <td>Bach</td>\n",
       "      <td>bwv0401</td>\n",
       "      <td>&lt;roll.guoroll.GuoRoll object at 0x7f6814f0f1c0&gt;</td>\n",
       "    </tr>\n",
       "    <tr>\n",
       "      <th>1</th>\n",
       "      <td>Bach</td>\n",
       "      <td>bwv0401</td>\n",
       "      <td>&lt;roll.guoroll.GuoRoll object at 0x7f6799b7f220&gt;</td>\n",
       "    </tr>\n",
       "    <tr>\n",
       "      <th>2</th>\n",
       "      <td>Bach</td>\n",
       "      <td>bwv0401</td>\n",
       "      <td>&lt;roll.guoroll.GuoRoll object at 0x7f6799b7fe20&gt;</td>\n",
       "    </tr>\n",
       "    <tr>\n",
       "      <th>3</th>\n",
       "      <td>Bach</td>\n",
       "      <td>bwv0381</td>\n",
       "      <td>&lt;roll.guoroll.GuoRoll object at 0x7f6799bb98b0&gt;</td>\n",
       "    </tr>\n",
       "    <tr>\n",
       "      <th>4</th>\n",
       "      <td>Bach</td>\n",
       "      <td>bwv0381</td>\n",
       "      <td>&lt;roll.guoroll.GuoRoll object at 0x7f6799b5d4c0&gt;</td>\n",
       "    </tr>\n",
       "    <tr>\n",
       "      <th>...</th>\n",
       "      <td>...</td>\n",
       "      <td>...</td>\n",
       "      <td>...</td>\n",
       "    </tr>\n",
       "    <tr>\n",
       "      <th>3845</th>\n",
       "      <td>ragtime</td>\n",
       "      <td>stoptime</td>\n",
       "      <td>&lt;roll.guoroll.GuoRoll object at 0x7f6760d2df10&gt;</td>\n",
       "    </tr>\n",
       "    <tr>\n",
       "      <th>3846</th>\n",
       "      <td>ragtime</td>\n",
       "      <td>stoptime</td>\n",
       "      <td>&lt;roll.guoroll.GuoRoll object at 0x7f6760cf5190&gt;</td>\n",
       "    </tr>\n",
       "    <tr>\n",
       "      <th>3847</th>\n",
       "      <td>ragtime</td>\n",
       "      <td>stoptime</td>\n",
       "      <td>&lt;roll.guoroll.GuoRoll object at 0x7f6760c98640&gt;</td>\n",
       "    </tr>\n",
       "    <tr>\n",
       "      <th>3848</th>\n",
       "      <td>ragtime</td>\n",
       "      <td>stoptime</td>\n",
       "      <td>&lt;roll.guoroll.GuoRoll object at 0x7f6760c3cc70&gt;</td>\n",
       "    </tr>\n",
       "    <tr>\n",
       "      <th>3849</th>\n",
       "      <td>ragtime</td>\n",
       "      <td>stoptime</td>\n",
       "      <td>&lt;roll.guoroll.GuoRoll object at 0x7f6760c032e0&gt;</td>\n",
       "    </tr>\n",
       "  </tbody>\n",
       "</table>\n",
       "<p>3850 rows × 3 columns</p>\n",
       "</div>"
      ],
      "text/plain": [
       "        Autor    Titulo                                             roll\n",
       "0        Bach   bwv0401  <roll.guoroll.GuoRoll object at 0x7f6814f0f1c0>\n",
       "1        Bach   bwv0401  <roll.guoroll.GuoRoll object at 0x7f6799b7f220>\n",
       "2        Bach   bwv0401  <roll.guoroll.GuoRoll object at 0x7f6799b7fe20>\n",
       "3        Bach   bwv0381  <roll.guoroll.GuoRoll object at 0x7f6799bb98b0>\n",
       "4        Bach   bwv0381  <roll.guoroll.GuoRoll object at 0x7f6799b5d4c0>\n",
       "...       ...       ...                                              ...\n",
       "3845  ragtime  stoptime  <roll.guoroll.GuoRoll object at 0x7f6760d2df10>\n",
       "3846  ragtime  stoptime  <roll.guoroll.GuoRoll object at 0x7f6760cf5190>\n",
       "3847  ragtime  stoptime  <roll.guoroll.GuoRoll object at 0x7f6760c98640>\n",
       "3848  ragtime  stoptime  <roll.guoroll.GuoRoll object at 0x7f6760c3cc70>\n",
       "3849  ragtime  stoptime  <roll.guoroll.GuoRoll object at 0x7f6760c032e0>\n",
       "\n",
       "[3850 rows x 3 columns]"
      ]
     },
     "execution_count": 8,
     "metadata": {},
     "output_type": "execute_result"
    }
   ],
   "source": [
    "df_preprocessed = load_pickle(os.path.join(preprocessed_data_path, \"bach-rag-moz-fres-4.pkl\"))\n",
    "df_preprocessed"
   ]
  },
  {
   "cell_type": "code",
   "execution_count": 14,
   "metadata": {},
   "outputs": [
    {
     "data": {
      "text/plain": [
       "{'Frescobaldi': 661, 'Bach': 508, 'Mozart': 1309, 'ragtime': 1372}"
      ]
     },
     "execution_count": 14,
     "metadata": {},
     "output_type": "execute_result"
    }
   ],
   "source": [
    "d = {\"Frescobaldi\": (df_preprocessed[df_preprocessed[\"Autor\"] == \"Frescobaldi\"]).shape[0],\n",
    "     \"Bach\": (df_preprocessed[df_preprocessed[\"Autor\"] == \"Bach\"]).shape[0],\n",
    "     \"Mozart\":(df_preprocessed[df_preprocessed[\"Autor\"] == \"Mozart\"]).shape[0],\n",
    "     \"ragtime\":(df_preprocessed[df_preprocessed[\"Autor\"] == \"ragtime\"]).shape[0]\n",
    "     }\n",
    "d"
   ]
  },
  {
   "cell_type": "code",
   "execution_count": 13,
   "metadata": {},
   "outputs": [],
   "source": [
    "def save_midis(df, verbose=False):\n",
    "    rolls_generated = df[df.columns[-1]]\n",
    "    midis = [r.midi for r in rolls_generated]\n",
    "    save_audios(df['Title'], midis, verbose=verbose)\n"
   ]
  },
  {
   "cell_type": "code",
   "execution_count": 14,
   "metadata": {},
   "outputs": [
    {
     "data": {
      "text/html": [
       "<div>\n",
       "<style scoped>\n",
       "    .dataframe tbody tr th:only-of-type {\n",
       "        vertical-align: middle;\n",
       "    }\n",
       "\n",
       "    .dataframe tbody tr th {\n",
       "        vertical-align: top;\n",
       "    }\n",
       "\n",
       "    .dataframe thead th {\n",
       "        text-align: right;\n",
       "    }\n",
       "</style>\n",
       "<table border=\"1\" class=\"dataframe\">\n",
       "  <thead>\n",
       "    <tr style=\"text-align: right;\">\n",
       "      <th></th>\n",
       "      <th>Autor</th>\n",
       "      <th>Titulo</th>\n",
       "      <th>roll</th>\n",
       "    </tr>\n",
       "  </thead>\n",
       "  <tbody>\n",
       "    <tr>\n",
       "      <th>0</th>\n",
       "      <td>Bach</td>\n",
       "      <td>bwv0401</td>\n",
       "      <td>&lt;roll.guoroll.GuoRoll object at 0x7f1b20e39340&gt;</td>\n",
       "    </tr>\n",
       "    <tr>\n",
       "      <th>1</th>\n",
       "      <td>Bach</td>\n",
       "      <td>bwv0401</td>\n",
       "      <td>&lt;roll.guoroll.GuoRoll object at 0x7f1b208fab50&gt;</td>\n",
       "    </tr>\n",
       "    <tr>\n",
       "      <th>2</th>\n",
       "      <td>Bach</td>\n",
       "      <td>bwv0401</td>\n",
       "      <td>&lt;roll.guoroll.GuoRoll object at 0x7f1b20b54970&gt;</td>\n",
       "    </tr>\n",
       "    <tr>\n",
       "      <th>3</th>\n",
       "      <td>Bach</td>\n",
       "      <td>bwv0381</td>\n",
       "      <td>&lt;roll.guoroll.GuoRoll object at 0x7f1b20b50b20&gt;</td>\n",
       "    </tr>\n",
       "    <tr>\n",
       "      <th>4</th>\n",
       "      <td>Bach</td>\n",
       "      <td>bwv0381</td>\n",
       "      <td>&lt;roll.guoroll.GuoRoll object at 0x7f1b20a344f0&gt;</td>\n",
       "    </tr>\n",
       "  </tbody>\n",
       "</table>\n",
       "</div>"
      ],
      "text/plain": [
       "  Autor   Titulo                                             roll\n",
       "0  Bach  bwv0401  <roll.guoroll.GuoRoll object at 0x7f1b20e39340>\n",
       "1  Bach  bwv0401  <roll.guoroll.GuoRoll object at 0x7f1b208fab50>\n",
       "2  Bach  bwv0401  <roll.guoroll.GuoRoll object at 0x7f1b20b54970>\n",
       "3  Bach  bwv0381  <roll.guoroll.GuoRoll object at 0x7f1b20b50b20>\n",
       "4  Bach  bwv0381  <roll.guoroll.GuoRoll object at 0x7f1b20a344f0>"
      ]
     },
     "execution_count": 14,
     "metadata": {},
     "output_type": "execute_result"
    }
   ],
   "source": [
    "df_preprocessed.head()"
   ]
  },
  {
   "cell_type": "code",
   "execution_count": 4,
   "metadata": {},
   "outputs": [
    {
     "data": {
      "text/html": [
       "<div>\n",
       "<style scoped>\n",
       "    .dataframe tbody tr th:only-of-type {\n",
       "        vertical-align: middle;\n",
       "    }\n",
       "\n",
       "    .dataframe tbody tr th {\n",
       "        vertical-align: top;\n",
       "    }\n",
       "\n",
       "    .dataframe thead th {\n",
       "        text-align: right;\n",
       "    }\n",
       "</style>\n",
       "<table border=\"1\" class=\"dataframe\">\n",
       "  <thead>\n",
       "    <tr style=\"text-align: right;\">\n",
       "      <th></th>\n",
       "      <th>Autor</th>\n",
       "      <th>Titulo</th>\n",
       "      <th>roll</th>\n",
       "      <th>Embedding</th>\n",
       "      <th>Embedding-NewRoll</th>\n",
       "    </tr>\n",
       "  </thead>\n",
       "  <tbody>\n",
       "    <tr>\n",
       "      <th>1866</th>\n",
       "      <td>ragtime</td>\n",
       "      <td>antoinette.mid</td>\n",
       "      <td>&lt;roll.guoroll.GuoRollSmall object at 0x7f0cd97...</td>\n",
       "      <td>[-0.0043747313, 1.41698, -1.5279223, -0.020506...</td>\n",
       "      <td>&lt;roll.guoroll.GuoRoll object at 0x7f0cd8b51190&gt;</td>\n",
       "    </tr>\n",
       "    <tr>\n",
       "      <th>758</th>\n",
       "      <td>ragtime</td>\n",
       "      <td>breeze.mid</td>\n",
       "      <td>&lt;roll.guoroll.GuoRollSmall object at 0x7f0cd93...</td>\n",
       "      <td>[-0.051136367, 0.73456746, -0.91220284, -2.043...</td>\n",
       "      <td>&lt;roll.guoroll.GuoRoll object at 0x7f0cd8b80220&gt;</td>\n",
       "    </tr>\n",
       "    <tr>\n",
       "      <th>70</th>\n",
       "      <td>Bach</td>\n",
       "      <td>bwv0253.mid</td>\n",
       "      <td>&lt;roll.guoroll.GuoRollSmall object at 0x7f0cd93...</td>\n",
       "      <td>[-0.6771048, -0.15007068, -0.12760165, 0.50512...</td>\n",
       "      <td>&lt;roll.guoroll.GuoRoll object at 0x7f0cd8b39190&gt;</td>\n",
       "    </tr>\n",
       "    <tr>\n",
       "      <th>29</th>\n",
       "      <td>Bach</td>\n",
       "      <td>bwv0254.mid</td>\n",
       "      <td>&lt;roll.guoroll.GuoRollSmall object at 0x7f0cd93...</td>\n",
       "      <td>[-2.185468, 1.9231098, 1.0495294, 5.617977, 2....</td>\n",
       "      <td>&lt;roll.guoroll.GuoRoll object at 0x7f0cd8add670&gt;</td>\n",
       "    </tr>\n",
       "    <tr>\n",
       "      <th>91</th>\n",
       "      <td>Bach</td>\n",
       "      <td>bwv0255.mid</td>\n",
       "      <td>&lt;roll.guoroll.GuoRollSmall object at 0x7f0cd93...</td>\n",
       "      <td>[-0.8813409, -0.5599785, -1.5920982, 3.2512496...</td>\n",
       "      <td>&lt;roll.guoroll.GuoRoll object at 0x7f0cd8aff6a0&gt;</td>\n",
       "    </tr>\n",
       "  </tbody>\n",
       "</table>\n",
       "</div>"
      ],
      "text/plain": [
       "        Autor          Titulo  \\\n",
       "1866  ragtime  antoinette.mid   \n",
       "758   ragtime      breeze.mid   \n",
       "70       Bach     bwv0253.mid   \n",
       "29       Bach     bwv0254.mid   \n",
       "91       Bach     bwv0255.mid   \n",
       "\n",
       "                                                   roll  \\\n",
       "1866  <roll.guoroll.GuoRollSmall object at 0x7f0cd97...   \n",
       "758   <roll.guoroll.GuoRollSmall object at 0x7f0cd93...   \n",
       "70    <roll.guoroll.GuoRollSmall object at 0x7f0cd93...   \n",
       "29    <roll.guoroll.GuoRollSmall object at 0x7f0cd93...   \n",
       "91    <roll.guoroll.GuoRollSmall object at 0x7f0cd93...   \n",
       "\n",
       "                                              Embedding  \\\n",
       "1866  [-0.0043747313, 1.41698, -1.5279223, -0.020506...   \n",
       "758   [-0.051136367, 0.73456746, -0.91220284, -2.043...   \n",
       "70    [-0.6771048, -0.15007068, -0.12760165, 0.50512...   \n",
       "29    [-2.185468, 1.9231098, 1.0495294, 5.617977, 2....   \n",
       "91    [-0.8813409, -0.5599785, -1.5920982, 3.2512496...   \n",
       "\n",
       "                                    Embedding-NewRoll  \n",
       "1866  <roll.guoroll.GuoRoll object at 0x7f0cd8b51190>  \n",
       "758   <roll.guoroll.GuoRoll object at 0x7f0cd8b80220>  \n",
       "70    <roll.guoroll.GuoRoll object at 0x7f0cd8b39190>  \n",
       "29    <roll.guoroll.GuoRoll object at 0x7f0cd8add670>  \n",
       "91    <roll.guoroll.GuoRoll object at 0x7f0cd8aff6a0>  "
      ]
     },
     "execution_count": 4,
     "metadata": {},
     "output_type": "execute_result"
    }
   ],
   "source": [
    "from utils.files_utils import get_transferred_path\n",
    "\n",
    "df_reconstructed = load_pickle(get_transferred_path('Bach', 'ragtime', \"brmf_4b\"))\n",
    "df_reconstructed.head()"
   ]
  },
  {
   "cell_type": "code",
   "execution_count": 4,
   "metadata": {},
   "outputs": [
    {
     "data": {
      "text/html": [
       "<div>\n",
       "<style scoped>\n",
       "    .dataframe tbody tr th:only-of-type {\n",
       "        vertical-align: middle;\n",
       "    }\n",
       "\n",
       "    .dataframe tbody tr th {\n",
       "        vertical-align: top;\n",
       "    }\n",
       "\n",
       "    .dataframe thead th {\n",
       "        text-align: right;\n",
       "    }\n",
       "</style>\n",
       "<table border=\"1\" class=\"dataframe\">\n",
       "  <thead>\n",
       "    <tr style=\"text-align: right;\">\n",
       "      <th></th>\n",
       "      <th>Autor</th>\n",
       "      <th>Titulo</th>\n",
       "      <th>roll</th>\n",
       "      <th>Embedding</th>\n",
       "      <th>Mutacion_add</th>\n",
       "      <th>Mutacion_add_sub</th>\n",
       "      <th>Mutacion_add_sub-Bach2Frescobaldi</th>\n",
       "    </tr>\n",
       "  </thead>\n",
       "  <tbody>\n",
       "    <tr>\n",
       "      <th>70</th>\n",
       "      <td>Bach</td>\n",
       "      <td>bwv0253.mid</td>\n",
       "      <td>&lt;roll.guoroll.GuoRoll object at 0x7f14725dca60&gt;</td>\n",
       "      <td>[-0.6771048, -0.15007068, -0.12760165, 0.50512...</td>\n",
       "      <td>[-0.9170938, -0.69383276, -1.194445, 1.6231658...</td>\n",
       "      <td>[-0.70293194, -0.3269844, -0.22040199, -1.6397...</td>\n",
       "      <td>&lt;roll.guoroll.GuoRoll object at 0x7f146b9d1910&gt;</td>\n",
       "    </tr>\n",
       "    <tr>\n",
       "      <th>29</th>\n",
       "      <td>Bach</td>\n",
       "      <td>bwv0254.mid</td>\n",
       "      <td>&lt;roll.guoroll.GuoRoll object at 0x7f1471ab8070&gt;</td>\n",
       "      <td>[-2.185468, 1.9231098, 1.0495294, 5.617977, 2....</td>\n",
       "      <td>[-2.425457, 1.3793477, -0.017313957, 6.736017,...</td>\n",
       "      <td>[-2.2112951, 1.746196, 0.9567291, 3.4731061, 1...</td>\n",
       "      <td>&lt;roll.guoroll.GuoRoll object at 0x7f146b9e9610&gt;</td>\n",
       "    </tr>\n",
       "    <tr>\n",
       "      <th>91</th>\n",
       "      <td>Bach</td>\n",
       "      <td>bwv0255.mid</td>\n",
       "      <td>&lt;roll.guoroll.GuoRoll object at 0x7f1471a8de80&gt;</td>\n",
       "      <td>[-0.8813409, -0.5599785, -1.5920982, 3.2512496...</td>\n",
       "      <td>[-1.12133, -1.1037406, -2.6589417, 4.36929, 1....</td>\n",
       "      <td>[-0.9071681, -0.7368922, -1.6848986, 1.1063786...</td>\n",
       "      <td>&lt;roll.guoroll.GuoRoll object at 0x7f146b978c40&gt;</td>\n",
       "    </tr>\n",
       "    <tr>\n",
       "      <th>98</th>\n",
       "      <td>Bach</td>\n",
       "      <td>bwv0256.mid</td>\n",
       "      <td>&lt;roll.guoroll.GuoRoll object at 0x7f1471a6ba00&gt;</td>\n",
       "      <td>[0.45691258, -0.8111836, -1.684641, 0.9001678,...</td>\n",
       "      <td>[0.21692352, -1.3549457, -2.7514844, 2.018208,...</td>\n",
       "      <td>[0.43108544, -0.9880973, -1.7774414, -1.244703...</td>\n",
       "      <td>&lt;roll.guoroll.GuoRoll object at 0x7f146b996070&gt;</td>\n",
       "    </tr>\n",
       "    <tr>\n",
       "      <th>47</th>\n",
       "      <td>Bach</td>\n",
       "      <td>bwv0258.mid</td>\n",
       "      <td>&lt;roll.guoroll.GuoRoll object at 0x7f1471988ee0&gt;</td>\n",
       "      <td>[-0.6578047, 2.4769223, 1.2892462, -1.7592773,...</td>\n",
       "      <td>[-0.89779377, 1.9331602, 0.22240281, -0.641237...</td>\n",
       "      <td>[-0.6836319, 2.3000085, 1.1964458, -3.9041483,...</td>\n",
       "      <td>&lt;roll.guoroll.GuoRoll object at 0x7f146b936ac0&gt;</td>\n",
       "    </tr>\n",
       "  </tbody>\n",
       "</table>\n",
       "</div>"
      ],
      "text/plain": [
       "   Autor       Titulo                                             roll  \\\n",
       "70  Bach  bwv0253.mid  <roll.guoroll.GuoRoll object at 0x7f14725dca60>   \n",
       "29  Bach  bwv0254.mid  <roll.guoroll.GuoRoll object at 0x7f1471ab8070>   \n",
       "91  Bach  bwv0255.mid  <roll.guoroll.GuoRoll object at 0x7f1471a8de80>   \n",
       "98  Bach  bwv0256.mid  <roll.guoroll.GuoRoll object at 0x7f1471a6ba00>   \n",
       "47  Bach  bwv0258.mid  <roll.guoroll.GuoRoll object at 0x7f1471988ee0>   \n",
       "\n",
       "                                            Embedding  \\\n",
       "70  [-0.6771048, -0.15007068, -0.12760165, 0.50512...   \n",
       "29  [-2.185468, 1.9231098, 1.0495294, 5.617977, 2....   \n",
       "91  [-0.8813409, -0.5599785, -1.5920982, 3.2512496...   \n",
       "98  [0.45691258, -0.8111836, -1.684641, 0.9001678,...   \n",
       "47  [-0.6578047, 2.4769223, 1.2892462, -1.7592773,...   \n",
       "\n",
       "                                         Mutacion_add  \\\n",
       "70  [-0.9170938, -0.69383276, -1.194445, 1.6231658...   \n",
       "29  [-2.425457, 1.3793477, -0.017313957, 6.736017,...   \n",
       "91  [-1.12133, -1.1037406, -2.6589417, 4.36929, 1....   \n",
       "98  [0.21692352, -1.3549457, -2.7514844, 2.018208,...   \n",
       "47  [-0.89779377, 1.9331602, 0.22240281, -0.641237...   \n",
       "\n",
       "                                     Mutacion_add_sub  \\\n",
       "70  [-0.70293194, -0.3269844, -0.22040199, -1.6397...   \n",
       "29  [-2.2112951, 1.746196, 0.9567291, 3.4731061, 1...   \n",
       "91  [-0.9071681, -0.7368922, -1.6848986, 1.1063786...   \n",
       "98  [0.43108544, -0.9880973, -1.7774414, -1.244703...   \n",
       "47  [-0.6836319, 2.3000085, 1.1964458, -3.9041483,...   \n",
       "\n",
       "                  Mutacion_add_sub-Bach2Frescobaldi  \n",
       "70  <roll.guoroll.GuoRoll object at 0x7f146b9d1910>  \n",
       "29  <roll.guoroll.GuoRoll object at 0x7f146b9e9610>  \n",
       "91  <roll.guoroll.GuoRoll object at 0x7f146b978c40>  \n",
       "98  <roll.guoroll.GuoRoll object at 0x7f146b996070>  \n",
       "47  <roll.guoroll.GuoRoll object at 0x7f146b936ac0>  "
      ]
     },
     "execution_count": 4,
     "metadata": {},
     "output_type": "execute_result"
    }
   ],
   "source": [
    "df_transferred = load_pickle(get_transferred_path('Bach', 'ragtime', \"brmf_4b\"))\n",
    "df_transferred.head()"
   ]
  },
  {
   "cell_type": "code",
   "execution_count": null,
   "metadata": {},
   "outputs": [],
   "source": [
    "h = df_transferred.head(1)\n",
    "for f in h.iterrows():\n",
    "    for c in f:\n",
    "        print(c)\n",
    "    print(\"-------------\\nSolo el estilo:\", c[\"Style\"])"
   ]
  },
  {
   "cell_type": "code",
   "execution_count": null,
   "metadata": {},
   "outputs": [],
   "source": [
    "for f in os.listdir(f\"{data_path}embeddings/brmf_4b\"):\n",
    "    if \"df_transferred\" in f:\n",
    "        df = load_pickle(f\"{data_path}embeddings/brmf_4b/{f}\")\n",
    "        save_midis(df, verbose=True)"
   ]
  },
  {
   "cell_type": "markdown",
   "metadata": {},
   "source": [
    "___"
   ]
  },
  {
   "cell_type": "code",
   "execution_count": 9,
   "metadata": {
    "scrolled": true
   },
   "outputs": [
    {
     "name": "stderr",
     "output_type": "stream",
     "text": [
      "/tmp/ipykernel_28521/1070315380.py:15: SettingWithCopyWarning: \n",
      "A value is trying to be set on a copy of a slice from a DataFrame.\n",
      "Try using .loc[row_indexer,col_indexer] = value instead\n",
      "\n",
      "See the caveats in the documentation: https://pandas.pydata.org/pandas-docs/stable/user_guide/indexing.html#returning-a-view-versus-a-copy\n",
      "  df_tsne[\"Type\"] = df.shape[0] * [\"Fragment\"]\n",
      "/tmp/ipykernel_28521/1070315380.py:18: SettingWithCopyWarning: \n",
      "A value is trying to be set on a copy of a slice from a DataFrame\n",
      "\n",
      "See the caveats in the documentation: https://pandas.pydata.org/pandas-docs/stable/user_guide/indexing.html#returning-a-view-versus-a-copy\n",
      "  df_tsne.loc[len(df_tsne.index)] = [style, emb, \"Style\"]\n",
      "/tmp/ipykernel_28521/1070315380.py:18: SettingWithCopyWarning: \n",
      "A value is trying to be set on a copy of a slice from a DataFrame\n",
      "\n",
      "See the caveats in the documentation: https://pandas.pydata.org/pandas-docs/stable/user_guide/indexing.html#returning-a-view-versus-a-copy\n",
      "  df_tsne.loc[len(df_tsne.index)] = [style, emb, \"Style\"]\n",
      "/home/urania/Documentos/Tesis/venv/lib/python3.8/site-packages/numpy/core/fromnumeric.py:3199: VisibleDeprecationWarning: Creating an ndarray from ragged nested sequences (which is a list-or-tuple of lists-or-tuples-or ndarrays with different lengths or shapes) is deprecated. If you meant to do this, you must specify 'dtype=object' when creating the ndarray.\n",
      "  return asarray(a).ndim\n"
     ]
    }
   ],
   "source": [
    "# %cd ..\n",
    "from model.embeddings.characteristics import obtain_characteristics\n",
    "from sklearn.manifold import TSNE\n",
    "import numpy as np\n",
    "from keras.saving.save import load_model\n",
    "from utils.files_utils import get_characteristics_path, get_emb_path\n",
    "from dodo import preprocessed_data_path\n",
    "import os\n",
    "\n",
    "model_name = 'brmf_4b'\n",
    "model_path = data_path + '/brmf_4b/vae'\n",
    "\n",
    "def df_characteristics(df, characteristics, plot_path, plot_name=\"characteristics\"):\n",
    "    df_tsne = df[[\"Style\", \"Embedding\"]]\n",
    "    df_tsne[\"Type\"] = df.shape[0] * [\"Fragment\"]\n",
    "\n",
    "    for style, emb in characteristics.items():\n",
    "        df_tsne.loc[len(df_tsne.index)] = [style, emb, \"Style\"]\n",
    "\n",
    "    tsne: np.ndarray = TSNE(n_components=2).fit_transform(list(df_tsne['Embedding']))\n",
    "\n",
    "    return df_tsne, tsne\n",
    "\n",
    "    # grid = plot_tsne(df, tsne, plot_path, plot_name, style=\"Type\", markers={\"Embedding\": '.', \"Fragment\": 'x'})\n",
    "    # return grid\n",
    "\n",
    "\n",
    "def do_embeddings(df_path, model_path, characteristics_path, emb_path, bars):\n",
    "    init(bars)\n",
    "    model = load_model(model_path)\n",
    "    plots_path = os.path.join(data_path, model_path, \"plots\")\n",
    "    df = load_pickle(df_path)\n",
    "\n",
    "    df_emb, styles_char = obtain_characteristics(df, model)\n",
    "    # tsne_emb = calculate_TSNEs(df_emb, column_discriminator=\"Style\")[0]\n",
    "\n",
    "    return df_characteristics(df_emb, styles_char, plots_path)\n",
    "\n",
    "\n",
    "df, tsne = do_embeddings(preprocessed_data_path(4), model_path, get_characteristics_path(model_name), get_emb_path(model_name), 4)"
   ]
  },
  {
   "cell_type": "code",
   "execution_count": 11,
   "metadata": {
    "scrolled": true
   },
   "outputs": [
    {
     "data": {
      "text/plain": [
       "(249, 2)"
      ]
     },
     "execution_count": 11,
     "metadata": {},
     "output_type": "execute_result"
    }
   ],
   "source": [
    "tsne: np.ndarray = TSNE(n_components=2).fit_transform(list(df['Embedding']))\n",
    "\n",
    "tsne.shape"
   ]
  },
  {
   "cell_type": "code",
   "execution_count": 13,
   "metadata": {},
   "outputs": [
    {
     "data": {
      "text/html": [
       "<div>\n",
       "<style scoped>\n",
       "    .dataframe tbody tr th:only-of-type {\n",
       "        vertical-align: middle;\n",
       "    }\n",
       "\n",
       "    .dataframe tbody tr th {\n",
       "        vertical-align: top;\n",
       "    }\n",
       "\n",
       "    .dataframe thead th {\n",
       "        text-align: right;\n",
       "    }\n",
       "</style>\n",
       "<table border=\"1\" class=\"dataframe\">\n",
       "  <thead>\n",
       "    <tr style=\"text-align: right;\">\n",
       "      <th></th>\n",
       "      <th>Style</th>\n",
       "      <th>Embedding</th>\n",
       "      <th>Type</th>\n",
       "      <th>dim_1</th>\n",
       "      <th>dim_2</th>\n",
       "    </tr>\n",
       "  </thead>\n",
       "  <tbody>\n",
       "    <tr>\n",
       "      <th>2747</th>\n",
       "      <td>ragtime</td>\n",
       "      <td>[1.7091504, 0.16362531, 0.5528342, 0.66308755,...</td>\n",
       "      <td>Fragment</td>\n",
       "      <td>-15.035623</td>\n",
       "      <td>0.491483</td>\n",
       "    </tr>\n",
       "    <tr>\n",
       "      <th>119</th>\n",
       "      <td>Bach</td>\n",
       "      <td>[0.67035353, 0.64418495, 2.1261027, 1.4352599,...</td>\n",
       "      <td>Fragment</td>\n",
       "      <td>17.619982</td>\n",
       "      <td>3.645020</td>\n",
       "    </tr>\n",
       "    <tr>\n",
       "      <th>274</th>\n",
       "      <td>Bach</td>\n",
       "      <td>[1.8708336, -0.077583656, -0.3342189, -0.85113...</td>\n",
       "      <td>Fragment</td>\n",
       "      <td>0.110676</td>\n",
       "      <td>-3.626946</td>\n",
       "    </tr>\n",
       "    <tr>\n",
       "      <th>455</th>\n",
       "      <td>Bach</td>\n",
       "      <td>[-1.5037862, 0.61034524, 0.3631019, 0.08908154...</td>\n",
       "      <td>Fragment</td>\n",
       "      <td>3.853758</td>\n",
       "      <td>7.847368</td>\n",
       "    </tr>\n",
       "    <tr>\n",
       "      <th>383</th>\n",
       "      <td>Bach</td>\n",
       "      <td>[-1.3077334, -0.0347018, -0.53865767, 0.714756...</td>\n",
       "      <td>Fragment</td>\n",
       "      <td>5.211201</td>\n",
       "      <td>9.301330</td>\n",
       "    </tr>\n",
       "    <tr>\n",
       "      <th>...</th>\n",
       "      <td>...</td>\n",
       "      <td>...</td>\n",
       "      <td>...</td>\n",
       "      <td>...</td>\n",
       "      <td>...</td>\n",
       "    </tr>\n",
       "    <tr>\n",
       "      <th>3215</th>\n",
       "      <td>ragtime</td>\n",
       "      <td>[0.6634819, 1.4469888, -2.0262504, -1.6675949,...</td>\n",
       "      <td>Fragment</td>\n",
       "      <td>-10.962152</td>\n",
       "      <td>-4.521760</td>\n",
       "    </tr>\n",
       "    <tr>\n",
       "      <th>2556</th>\n",
       "      <td>ragtime</td>\n",
       "      <td>[0.3593005, 0.69681, -2.8436573, 1.0776114, 1....</td>\n",
       "      <td>Fragment</td>\n",
       "      <td>-9.637630</td>\n",
       "      <td>4.409436</td>\n",
       "    </tr>\n",
       "    <tr>\n",
       "      <th>3703</th>\n",
       "      <td>ragtime</td>\n",
       "      <td>[0.5540268, 0.9899851, -1.4044183, -0.10276914...</td>\n",
       "      <td>Fragment</td>\n",
       "      <td>-9.057597</td>\n",
       "      <td>3.534801</td>\n",
       "    </tr>\n",
       "    <tr>\n",
       "      <th>247</th>\n",
       "      <td>Frescobaldi</td>\n",
       "      <td>[-0.19190997, 0.39909664, -0.25570345, -0.9977...</td>\n",
       "      <td>Style</td>\n",
       "      <td>0.845282</td>\n",
       "      <td>7.526373</td>\n",
       "    </tr>\n",
       "    <tr>\n",
       "      <th>248</th>\n",
       "      <td>Mozart</td>\n",
       "      <td>[1.3006682, 0.85701483, -0.73237634, -0.198805...</td>\n",
       "      <td>Style</td>\n",
       "      <td>-10.443456</td>\n",
       "      <td>3.754502</td>\n",
       "    </tr>\n",
       "  </tbody>\n",
       "</table>\n",
       "<p>249 rows × 5 columns</p>\n",
       "</div>"
      ],
      "text/plain": [
       "            Style                                          Embedding  \\\n",
       "2747      ragtime  [1.7091504, 0.16362531, 0.5528342, 0.66308755,...   \n",
       "119          Bach  [0.67035353, 0.64418495, 2.1261027, 1.4352599,...   \n",
       "274          Bach  [1.8708336, -0.077583656, -0.3342189, -0.85113...   \n",
       "455          Bach  [-1.5037862, 0.61034524, 0.3631019, 0.08908154...   \n",
       "383          Bach  [-1.3077334, -0.0347018, -0.53865767, 0.714756...   \n",
       "...           ...                                                ...   \n",
       "3215      ragtime  [0.6634819, 1.4469888, -2.0262504, -1.6675949,...   \n",
       "2556      ragtime  [0.3593005, 0.69681, -2.8436573, 1.0776114, 1....   \n",
       "3703      ragtime  [0.5540268, 0.9899851, -1.4044183, -0.10276914...   \n",
       "247   Frescobaldi  [-0.19190997, 0.39909664, -0.25570345, -0.9977...   \n",
       "248        Mozart  [1.3006682, 0.85701483, -0.73237634, -0.198805...   \n",
       "\n",
       "          Type      dim_1     dim_2  \n",
       "2747  Fragment -15.035623  0.491483  \n",
       "119   Fragment  17.619982  3.645020  \n",
       "274   Fragment   0.110676 -3.626946  \n",
       "455   Fragment   3.853758  7.847368  \n",
       "383   Fragment   5.211201  9.301330  \n",
       "...        ...        ...       ...  \n",
       "3215  Fragment -10.962152 -4.521760  \n",
       "2556  Fragment  -9.637630  4.409436  \n",
       "3703  Fragment  -9.057597  3.534801  \n",
       "247      Style   0.845282  7.526373  \n",
       "248      Style -10.443456  3.754502  \n",
       "\n",
       "[249 rows x 5 columns]"
      ]
     },
     "execution_count": 13,
     "metadata": {},
     "output_type": "execute_result"
    }
   ],
   "source": [
    "# \n",
    "\n",
    "df['dim_1'] = tsne[:, 0]\n",
    "df['dim_2'] = tsne[:, 1]\n",
    "# tsne.shape\n",
    "df"
   ]
  },
  {
   "cell_type": "code",
   "execution_count": 18,
   "metadata": {},
   "outputs": [
    {
     "data": {
      "text/plain": [
       "<seaborn.axisgrid.FacetGrid at 0x7f62b4b3c640>"
      ]
     },
     "execution_count": 18,
     "metadata": {},
     "output_type": "execute_result"
    },
    {
     "data": {
      "image/png": "[encoded data removed]",
      "text/plain": [
       "<Figure size 524.25x432 with 1 Axes>"
      ]
     },
     "metadata": {
      "image/png": {
       "height": 423,
       "width": 510
      }
     },
     "output_type": "display_data"
    }
   ],
   "source": [
    "import seaborn as sns\n",
    "\n",
    "sns.relplot(x='dim_1', \n",
    "            y='dim_2', \n",
    "            hue='Style', \n",
    "            data=df, \n",
    "            kind='scatter', \n",
    "            height=6, \n",
    "            style=\"Type\", \n",
    "           )"
   ]
  }
 ],
 "metadata": {
  "colab": {
   "collapsed_sections": [],
   "name": "style-transfer.ipynb",
   "provenance": []
  },
  "kernelspec": {
   "display_name": "Python 3 (ipykernel)",
   "language": "python",
   "name": "python3"
  },
  "language_info": {
   "codemirror_mode": {
    "name": "ipython",
    "version": 3
   },
   "file_extension": ".py",
   "mimetype": "text/x-python",
   "name": "python",
   "nbconvert_exporter": "python",
   "pygments_lexer": "ipython3",
   "version": "3.8.10"
  }
 },
 "nbformat": 4,
 "nbformat_minor": 1
}
