{
 "cells": [
  {
   "cell_type": "markdown",
   "metadata": {
    "collapsed": true,
    "pycharm": {
     "name": "#%% md\n"
    },
    "id": "BOVlmL9MGNLS"
   },
   "source": [
    "# Style transfer"
   ]
  },
  {
   "cell_type": "markdown",
   "metadata": {
    "id": "E_6nP393GNLc",
    "pycharm": {
     "name": "#%% md\n"
    }
   },
   "source": [
    "#### Setup"
   ]
  },
  {
   "cell_type": "code",
   "execution_count": 1,
   "metadata": {
    "pycharm": {
     "name": "#%%\n"
    },
    "id": "bprSm_piGNLZ"
   },
   "outputs": [
    {
     "name": "stdout",
     "output_type": "stream",
     "text": [
      "Running locally\n"
     ]
    }
   ],
   "source": [
    "import os\n",
    "\n",
    "try:\n",
    "    from google.colab import drive\n",
    "    drive.mount('/content/drive')\n",
    "\n",
    "    # Change the directory\n",
    "    os.chdir('/content/drive/MyDrive/ColabNotebooks/style-transfer')\n",
    "    is_colab = True\n",
    "    print(\"Running on Colab\")\n",
    "\n",
    "except:\n",
    "    is_colab = False\n",
    "    print(\"Running locally\")"
   ]
  },
  {
   "cell_type": "code",
   "execution_count": 5,
   "metadata": {
    "pycharm": {
     "name": "#%%\n"
    },
    "id": "7uP4gUbdGNLd"
   },
   "outputs": [],
   "source": [
    "# 35s\n",
    "if is_colab:\n",
    "    ! pip install pretty_midi\n",
    "    # ! apt-get install musescore\n",
    "    ! pip install dfply\n",
    "\n",
    "    # ! pip install pyfluidsynth\n",
    "    # ! apt install fluidsynth\n",
    "\n",
    "    # !cp /usr/share/sounds/sf2/FluidR3_GM.sf2 ./font.sf2"
   ]
  },
  {
   "cell_type": "code",
   "execution_count": 5,
   "metadata": {
    "pycharm": {
     "name": "#%%\n"
    },
    "id": "VOdmuzFuGNLg"
   },
   "outputs": [],
   "source": [
    "#3s\n",
    "import random\n",
    "random.seed(42)\n",
    "\n",
    "import glob\n",
    "import pandas as pd\n",
    "from utils.files_utils import save_pickle, load_pickle, data_path, preprocessed_data_path, datasets_path\n",
    "from utils.plots_utils import plot_train\n",
    "from utils.audio_management import save_audios\n",
    "from model.train import train_model\n",
    "from model.colab_tension_vae.params import init\n",
    "from pipeline_tests.test_training import test_reconstruction\n",
    "from preprocessing import preprocess_data\n",
    "from tensorflow import keras"
   ]
  },
  {
   "cell_type": "markdown",
   "metadata": {
    "id": "S3VWz_ViGNLi",
    "pycharm": {
     "name": "#%% md\n"
    }
   },
   "source": [
    "## Parámetros"
   ]
  },
  {
   "cell_type": "code",
   "execution_count": 12,
   "metadata": {
    "pycharm": {
     "name": "#%%\n"
    },
    "id": "UX18tHS0GNLj"
   },
   "outputs": [],
   "source": [
    "#@title Parámetros ajustables\n",
    "\n",
    "#@markdown Seleccionar directorios de los datasets\n",
    "dataset_name = \"bach-rag-moz-fres-4\" #@param {type:\"string\"}\n",
    "model_name = \"brmf_4b\" #@param {type:\"string\"}\n",
    "config_name = \"4bar\" #@param [\"8bar\", \"4bar\"]\n",
    "init(config_name)\n",
    "\n",
    "#@markdown ¿Entrenamos un nuevo modelo?\n",
    "if_train = False #@param {type:\"boolean\"}\n",
    "verbose = True #@param {type:\"boolean\"}\n",
    "\n",
    "#@markdown ¿Cuántas épocas? ¿Cada cuánto grabamos?\n",
    "epochs =  10#@param {type:\"integer\"}\n",
    "checkpt =  1#@param {type:\"integer\"}\n",
    "\n",
    "#@markdown Datasets:\n",
    "dataset1 = \"Bach/\" #@param {type:\"string\"}\n",
    "dataset2 = \"ragtime/\" #@param {type:\"string\"}\n",
    "dataset3 = \"Mozart/\" #@param {type:\"string\"}\n",
    "dataset4 = \"Frescobaldi/\" #@param {type:\"string\"}\n",
    "\n",
    "ds1_path = os.path.join(datasets_path, dataset1)\n",
    "ds2_path = os.path.join(datasets_path, dataset2)\n",
    "ds3_path = os.path.join(datasets_path, dataset3)\n",
    "ds4_path = os.path.join(datasets_path, dataset4)\n",
    "\n",
    "songs = {\n",
    "    dataset1[:-1]: [os.path.join(ds1_path, path) for path in os.listdir(ds1_path)],\n",
    "    dataset2[:-1]: [os.path.join(ds2_path, path) for path in os.listdir(ds2_path)],\n",
    "    dataset3[:-1]: [os.path.join(ds3_path, path) for path in os.listdir(ds3_path)],\n",
    "    dataset4[:-1]: [os.path.join(ds4_path, path) for path in os.listdir(ds4_path)],\n",
    "}"
   ]
  },
  {
   "cell_type": "code",
   "execution_count": null,
   "metadata": {
    "pycharm": {
     "name": "#%%\n"
    },
    "id": "_EdwiPlDGNLk"
   },
   "outputs": [],
   "source": [
    "#@title Transformar estilo\n",
    "ds_original = \"Bach\" #@param [\"Bach\", \"ragtime\", \"Mozart\", \"Frescobaldi\"]\n",
    "ds_objetivo = \"Mozart\" #@param [\"Bach\", \"ragtime\", \"Mozart\", \"Frescobaldi\"]\n",
    "\n",
    "nombre_pickle = ds_original+\"2\"+ds_objetivo"
   ]
  },
  {
   "cell_type": "markdown",
   "metadata": {
    "id": "KqcMEtA0GNLm",
    "pycharm": {
     "name": "#%% md\n"
    }
   },
   "source": [
    "____\n",
    "# Preprocessing and Model"
   ]
  },
  {
   "cell_type": "markdown",
   "metadata": {
    "id": "i6ILtS0xGNLn",
    "pycharm": {
     "name": "#%% md\n"
    }
   },
   "source": [
    "Se lo lleva al formato lista de:\n",
    "\n",
    "- $n$ canciones = lista de:\n",
    "- 2 voces = lista de:\n",
    "- $e$ eventos (notas, silencios, etc.)"
   ]
  },
  {
   "cell_type": "markdown",
   "metadata": {
    "id": "f3IEfUpUGNLo",
    "pycharm": {
     "name": "#%% md\n"
    }
   },
   "source": [
    "\n",
    "Armamos el DataFrame con el que manejamos las canciones. Cada fila es una canción y las columnas son:\n",
    "- `Autor`\n",
    "- `Título`\n",
    "- `Id roll`: qué matriz es de la canción\n",
    "- `Roll` objeto (GuoRoll) con:\n",
    "    - `matrix`: matriz de $16*n \\times 89$ con $n=$ la cantidad de compases\n",
    "    - `bars`: cantidad de compases por matriz (es el mismo para todo el dataset, con lo cual, podría eliminarse la redundancia en un trabajo futuro)\n",
    "    - `song`: referencia al objeto `song` al que pertenece si fue obtenido de ahí. Si fue obtenido desde un embedding, es `None` (en un trabajo futuro podría cambiárselo por un singleton).\n",
    "    - `score`: partitura obtenida a partir de la matriz\n",
    "    - `midi`: Pretty MIDI obtenido a partir de la matriz\n",
    "\n",
    "Luego le agregaremos:\n",
    "- `Embedding`: el vector resultado de encodear el roll"
   ]
  },
  {
   "cell_type": "markdown",
   "metadata": {
    "pycharm": {
     "name": "#%% md\n"
    },
    "id": "RtH2EhApGNLo"
   },
   "source": [
    "## Preprocessing"
   ]
  },
  {
   "cell_type": "code",
   "execution_count": 13,
   "metadata": {
    "pycharm": {
     "name": "#%%\n"
    },
    "scrolled": true,
    "id": "1uIx8PS0GNLp"
   },
   "outputs": [
    {
     "name": "stdout",
     "output_type": "stream",
     "text": [
      "Loaded file: <_io.BufferedReader name='/home/urania/Documentos/Tesis/src/style-transfer/data/preprocessed_data/bach-rag-moz-fres-4.pkl'>\n"
     ]
    }
   ],
   "source": [
    "try:\n",
    "    df_preprocessed = load_pickle(file_name=preprocessed_data_path+dataset_name, verbose=verbose)\n",
    "except:\n",
    "    print(\"Processing dataset\")\n",
    "    df_preprocessed = preprocess_data(songs)\n",
    "    save_pickle(df_preprocessed, file_name=preprocessed_data_path+dataset_name, verbose=verbose)"
   ]
  },
  {
   "cell_type": "markdown",
   "metadata": {
    "pycharm": {
     "name": "#%% md\n"
    },
    "id": "PqimGOhyGNLp"
   },
   "source": [
    "## Model"
   ]
  },
  {
   "cell_type": "code",
   "execution_count": null,
   "metadata": {
    "pycharm": {
     "name": "#%%\n"
    },
    "id": "z6aMetleGNLq"
   },
   "outputs": [],
   "source": [
    "if if_train:\n",
    "    vae = train_model(\n",
    "        df=df_preprocessed,\n",
    "        model_name=model_name,\n",
    "        final_epoch=epochs,\n",
    "        ckpt=checkpt,\n",
    "        verbose=verbose\n",
    "    )\n",
    "else:\n",
    "    vae = keras.models.load_model(data_path + f\"saved_models/{model_name}/\")"
   ]
  },
  {
   "cell_type": "code",
   "execution_count": null,
   "outputs": [],
   "source": [
    "glob.glob(rf\"{data_path}logs/{model_name}_*.csv\")"
   ],
   "metadata": {
    "pycharm": {
     "name": "#%%\n"
    },
    "id": "83KzT1dVIB3M"
   }
  },
  {
   "cell_type": "code",
   "execution_count": null,
   "metadata": {
    "pycharm": {
     "name": "#%%\n"
    },
    "id": "NEpu172wGNLr",
    "cellView": "form"
   },
   "outputs": [],
   "source": [
    "id_file =  790#@param {type:\"integer\"}\n",
    "\n",
    "callbacks = pd.read_csv(data_path + f\"logs/{model_name}_{id_file}.csv\")\n",
    "plot_train(callbacks, epochs)"
   ]
  },
  {
   "cell_type": "markdown",
   "source": [
    "## Test reconstruction"
   ],
   "metadata": {
    "id": "SWT0obzYdEfM",
    "pycharm": {
     "name": "#%% md\n"
    }
   }
  },
  {
   "cell_type": "code",
   "source": [
    "if is_colab:\n",
    "  ! sudo apt install lilypond\n",
    "\n",
    "test_reconstruction(df_preprocessed, vae, model_name, samples=5, inplace=False, verbose=verbose)"
   ],
   "metadata": {
    "id": "3Qdpjgz6dC0d",
    "pycharm": {
     "name": "#%%\n"
    }
   },
   "execution_count": null,
   "outputs": []
  },
  {
   "cell_type": "markdown",
   "source": [
    "# Working space"
   ],
   "metadata": {
    "id": "Li2cTF9ZGxoU",
    "pycharm": {
     "name": "#%% md\n"
    }
   }
  },
  {
   "cell_type": "code",
   "execution_count": 13,
   "outputs": [],
   "source": [
    "def save_midis(df, verbose=False):\n",
    "    rolls_generated = df[df.columns[-1]]\n",
    "    midis = [r.midi for r in rolls_generated]\n",
    "    save_audios(df['Titulo'], midis, verbose=verbose)\n"
   ],
   "metadata": {
    "collapsed": false,
    "pycharm": {
     "name": "#%%\n"
    }
   }
  },
  {
   "cell_type": "code",
   "execution_count": 14,
   "outputs": [
    {
     "data": {
      "text/plain": "  Autor   Titulo                                             roll\n0  Bach  bwv0401  <roll.guoroll.GuoRoll object at 0x7f1b20e39340>\n1  Bach  bwv0401  <roll.guoroll.GuoRoll object at 0x7f1b208fab50>\n2  Bach  bwv0401  <roll.guoroll.GuoRoll object at 0x7f1b20b54970>\n3  Bach  bwv0381  <roll.guoroll.GuoRoll object at 0x7f1b20b50b20>\n4  Bach  bwv0381  <roll.guoroll.GuoRoll object at 0x7f1b20a344f0>",
      "text/html": "<div>\n<style scoped>\n    .dataframe tbody tr th:only-of-type {\n        vertical-align: middle;\n    }\n\n    .dataframe tbody tr th {\n        vertical-align: top;\n    }\n\n    .dataframe thead th {\n        text-align: right;\n    }\n</style>\n<table border=\"1\" class=\"dataframe\">\n  <thead>\n    <tr style=\"text-align: right;\">\n      <th></th>\n      <th>Autor</th>\n      <th>Titulo</th>\n      <th>roll</th>\n    </tr>\n  </thead>\n  <tbody>\n    <tr>\n      <th>0</th>\n      <td>Bach</td>\n      <td>bwv0401</td>\n      <td>&lt;roll.guoroll.GuoRoll object at 0x7f1b20e39340&gt;</td>\n    </tr>\n    <tr>\n      <th>1</th>\n      <td>Bach</td>\n      <td>bwv0401</td>\n      <td>&lt;roll.guoroll.GuoRoll object at 0x7f1b208fab50&gt;</td>\n    </tr>\n    <tr>\n      <th>2</th>\n      <td>Bach</td>\n      <td>bwv0401</td>\n      <td>&lt;roll.guoroll.GuoRoll object at 0x7f1b20b54970&gt;</td>\n    </tr>\n    <tr>\n      <th>3</th>\n      <td>Bach</td>\n      <td>bwv0381</td>\n      <td>&lt;roll.guoroll.GuoRoll object at 0x7f1b20b50b20&gt;</td>\n    </tr>\n    <tr>\n      <th>4</th>\n      <td>Bach</td>\n      <td>bwv0381</td>\n      <td>&lt;roll.guoroll.GuoRoll object at 0x7f1b20a344f0&gt;</td>\n    </tr>\n  </tbody>\n</table>\n</div>"
     },
     "execution_count": 14,
     "metadata": {},
     "output_type": "execute_result"
    }
   ],
   "source": [
    "df_preprocessed.head()"
   ],
   "metadata": {
    "collapsed": false,
    "pycharm": {
     "name": "#%%\n"
    }
   }
  },
  {
   "cell_type": "code",
   "execution_count": 4,
   "outputs": [
    {
     "data": {
      "text/plain": "        Autor          Titulo  \\\n1866  ragtime  antoinette.mid   \n758   ragtime      breeze.mid   \n70       Bach     bwv0253.mid   \n29       Bach     bwv0254.mid   \n91       Bach     bwv0255.mid   \n\n                                                   roll  \\\n1866  <roll.guoroll.GuoRollSmall object at 0x7f0cd97...   \n758   <roll.guoroll.GuoRollSmall object at 0x7f0cd93...   \n70    <roll.guoroll.GuoRollSmall object at 0x7f0cd93...   \n29    <roll.guoroll.GuoRollSmall object at 0x7f0cd93...   \n91    <roll.guoroll.GuoRollSmall object at 0x7f0cd93...   \n\n                                              Embedding  \\\n1866  [-0.0043747313, 1.41698, -1.5279223, -0.020506...   \n758   [-0.051136367, 0.73456746, -0.91220284, -2.043...   \n70    [-0.6771048, -0.15007068, -0.12760165, 0.50512...   \n29    [-2.185468, 1.9231098, 1.0495294, 5.617977, 2....   \n91    [-0.8813409, -0.5599785, -1.5920982, 3.2512496...   \n\n                                    Embedding-NewRoll  \n1866  <roll.guoroll.GuoRoll object at 0x7f0cd8b51190>  \n758   <roll.guoroll.GuoRoll object at 0x7f0cd8b80220>  \n70    <roll.guoroll.GuoRoll object at 0x7f0cd8b39190>  \n29    <roll.guoroll.GuoRoll object at 0x7f0cd8add670>  \n91    <roll.guoroll.GuoRoll object at 0x7f0cd8aff6a0>  ",
      "text/html": "<div>\n<style scoped>\n    .dataframe tbody tr th:only-of-type {\n        vertical-align: middle;\n    }\n\n    .dataframe tbody tr th {\n        vertical-align: top;\n    }\n\n    .dataframe thead th {\n        text-align: right;\n    }\n</style>\n<table border=\"1\" class=\"dataframe\">\n  <thead>\n    <tr style=\"text-align: right;\">\n      <th></th>\n      <th>Autor</th>\n      <th>Titulo</th>\n      <th>roll</th>\n      <th>Embedding</th>\n      <th>Embedding-NewRoll</th>\n    </tr>\n  </thead>\n  <tbody>\n    <tr>\n      <th>1866</th>\n      <td>ragtime</td>\n      <td>antoinette.mid</td>\n      <td>&lt;roll.guoroll.GuoRollSmall object at 0x7f0cd97...</td>\n      <td>[-0.0043747313, 1.41698, -1.5279223, -0.020506...</td>\n      <td>&lt;roll.guoroll.GuoRoll object at 0x7f0cd8b51190&gt;</td>\n    </tr>\n    <tr>\n      <th>758</th>\n      <td>ragtime</td>\n      <td>breeze.mid</td>\n      <td>&lt;roll.guoroll.GuoRollSmall object at 0x7f0cd93...</td>\n      <td>[-0.051136367, 0.73456746, -0.91220284, -2.043...</td>\n      <td>&lt;roll.guoroll.GuoRoll object at 0x7f0cd8b80220&gt;</td>\n    </tr>\n    <tr>\n      <th>70</th>\n      <td>Bach</td>\n      <td>bwv0253.mid</td>\n      <td>&lt;roll.guoroll.GuoRollSmall object at 0x7f0cd93...</td>\n      <td>[-0.6771048, -0.15007068, -0.12760165, 0.50512...</td>\n      <td>&lt;roll.guoroll.GuoRoll object at 0x7f0cd8b39190&gt;</td>\n    </tr>\n    <tr>\n      <th>29</th>\n      <td>Bach</td>\n      <td>bwv0254.mid</td>\n      <td>&lt;roll.guoroll.GuoRollSmall object at 0x7f0cd93...</td>\n      <td>[-2.185468, 1.9231098, 1.0495294, 5.617977, 2....</td>\n      <td>&lt;roll.guoroll.GuoRoll object at 0x7f0cd8add670&gt;</td>\n    </tr>\n    <tr>\n      <th>91</th>\n      <td>Bach</td>\n      <td>bwv0255.mid</td>\n      <td>&lt;roll.guoroll.GuoRollSmall object at 0x7f0cd93...</td>\n      <td>[-0.8813409, -0.5599785, -1.5920982, 3.2512496...</td>\n      <td>&lt;roll.guoroll.GuoRoll object at 0x7f0cd8aff6a0&gt;</td>\n    </tr>\n  </tbody>\n</table>\n</div>"
     },
     "execution_count": 4,
     "metadata": {},
     "output_type": "execute_result"
    }
   ],
   "source": [
    "from utils.files_utils import get_transferred_path\n",
    "\n",
    "df_reconstructed = load_pickle(get_transferred_path('Bach', 'ragtime', \"brmf_4b\"))\n",
    "df_reconstructed.head()"
   ],
   "metadata": {
    "collapsed": false,
    "pycharm": {
     "name": "#%%\n"
    }
   }
  },
  {
   "cell_type": "code",
   "execution_count": 4,
   "outputs": [
    {
     "data": {
      "text/plain": "   Autor       Titulo                                             roll  \\\n70  Bach  bwv0253.mid  <roll.guoroll.GuoRoll object at 0x7f14725dca60>   \n29  Bach  bwv0254.mid  <roll.guoroll.GuoRoll object at 0x7f1471ab8070>   \n91  Bach  bwv0255.mid  <roll.guoroll.GuoRoll object at 0x7f1471a8de80>   \n98  Bach  bwv0256.mid  <roll.guoroll.GuoRoll object at 0x7f1471a6ba00>   \n47  Bach  bwv0258.mid  <roll.guoroll.GuoRoll object at 0x7f1471988ee0>   \n\n                                            Embedding  \\\n70  [-0.6771048, -0.15007068, -0.12760165, 0.50512...   \n29  [-2.185468, 1.9231098, 1.0495294, 5.617977, 2....   \n91  [-0.8813409, -0.5599785, -1.5920982, 3.2512496...   \n98  [0.45691258, -0.8111836, -1.684641, 0.9001678,...   \n47  [-0.6578047, 2.4769223, 1.2892462, -1.7592773,...   \n\n                                         Mutacion_add  \\\n70  [-0.9170938, -0.69383276, -1.194445, 1.6231658...   \n29  [-2.425457, 1.3793477, -0.017313957, 6.736017,...   \n91  [-1.12133, -1.1037406, -2.6589417, 4.36929, 1....   \n98  [0.21692352, -1.3549457, -2.7514844, 2.018208,...   \n47  [-0.89779377, 1.9331602, 0.22240281, -0.641237...   \n\n                                     Mutacion_add_sub  \\\n70  [-0.70293194, -0.3269844, -0.22040199, -1.6397...   \n29  [-2.2112951, 1.746196, 0.9567291, 3.4731061, 1...   \n91  [-0.9071681, -0.7368922, -1.6848986, 1.1063786...   \n98  [0.43108544, -0.9880973, -1.7774414, -1.244703...   \n47  [-0.6836319, 2.3000085, 1.1964458, -3.9041483,...   \n\n                  Mutacion_add_sub-Bach2Frescobaldi  \n70  <roll.guoroll.GuoRoll object at 0x7f146b9d1910>  \n29  <roll.guoroll.GuoRoll object at 0x7f146b9e9610>  \n91  <roll.guoroll.GuoRoll object at 0x7f146b978c40>  \n98  <roll.guoroll.GuoRoll object at 0x7f146b996070>  \n47  <roll.guoroll.GuoRoll object at 0x7f146b936ac0>  ",
      "text/html": "<div>\n<style scoped>\n    .dataframe tbody tr th:only-of-type {\n        vertical-align: middle;\n    }\n\n    .dataframe tbody tr th {\n        vertical-align: top;\n    }\n\n    .dataframe thead th {\n        text-align: right;\n    }\n</style>\n<table border=\"1\" class=\"dataframe\">\n  <thead>\n    <tr style=\"text-align: right;\">\n      <th></th>\n      <th>Autor</th>\n      <th>Titulo</th>\n      <th>roll</th>\n      <th>Embedding</th>\n      <th>Mutacion_add</th>\n      <th>Mutacion_add_sub</th>\n      <th>Mutacion_add_sub-Bach2Frescobaldi</th>\n    </tr>\n  </thead>\n  <tbody>\n    <tr>\n      <th>70</th>\n      <td>Bach</td>\n      <td>bwv0253.mid</td>\n      <td>&lt;roll.guoroll.GuoRoll object at 0x7f14725dca60&gt;</td>\n      <td>[-0.6771048, -0.15007068, -0.12760165, 0.50512...</td>\n      <td>[-0.9170938, -0.69383276, -1.194445, 1.6231658...</td>\n      <td>[-0.70293194, -0.3269844, -0.22040199, -1.6397...</td>\n      <td>&lt;roll.guoroll.GuoRoll object at 0x7f146b9d1910&gt;</td>\n    </tr>\n    <tr>\n      <th>29</th>\n      <td>Bach</td>\n      <td>bwv0254.mid</td>\n      <td>&lt;roll.guoroll.GuoRoll object at 0x7f1471ab8070&gt;</td>\n      <td>[-2.185468, 1.9231098, 1.0495294, 5.617977, 2....</td>\n      <td>[-2.425457, 1.3793477, -0.017313957, 6.736017,...</td>\n      <td>[-2.2112951, 1.746196, 0.9567291, 3.4731061, 1...</td>\n      <td>&lt;roll.guoroll.GuoRoll object at 0x7f146b9e9610&gt;</td>\n    </tr>\n    <tr>\n      <th>91</th>\n      <td>Bach</td>\n      <td>bwv0255.mid</td>\n      <td>&lt;roll.guoroll.GuoRoll object at 0x7f1471a8de80&gt;</td>\n      <td>[-0.8813409, -0.5599785, -1.5920982, 3.2512496...</td>\n      <td>[-1.12133, -1.1037406, -2.6589417, 4.36929, 1....</td>\n      <td>[-0.9071681, -0.7368922, -1.6848986, 1.1063786...</td>\n      <td>&lt;roll.guoroll.GuoRoll object at 0x7f146b978c40&gt;</td>\n    </tr>\n    <tr>\n      <th>98</th>\n      <td>Bach</td>\n      <td>bwv0256.mid</td>\n      <td>&lt;roll.guoroll.GuoRoll object at 0x7f1471a6ba00&gt;</td>\n      <td>[0.45691258, -0.8111836, -1.684641, 0.9001678,...</td>\n      <td>[0.21692352, -1.3549457, -2.7514844, 2.018208,...</td>\n      <td>[0.43108544, -0.9880973, -1.7774414, -1.244703...</td>\n      <td>&lt;roll.guoroll.GuoRoll object at 0x7f146b996070&gt;</td>\n    </tr>\n    <tr>\n      <th>47</th>\n      <td>Bach</td>\n      <td>bwv0258.mid</td>\n      <td>&lt;roll.guoroll.GuoRoll object at 0x7f1471988ee0&gt;</td>\n      <td>[-0.6578047, 2.4769223, 1.2892462, -1.7592773,...</td>\n      <td>[-0.89779377, 1.9331602, 0.22240281, -0.641237...</td>\n      <td>[-0.6836319, 2.3000085, 1.1964458, -3.9041483,...</td>\n      <td>&lt;roll.guoroll.GuoRoll object at 0x7f146b936ac0&gt;</td>\n    </tr>\n  </tbody>\n</table>\n</div>"
     },
     "execution_count": 4,
     "metadata": {},
     "output_type": "execute_result"
    }
   ],
   "source": [
    "df_transferred = load_pickle(get_transferred_path('Bach', 'ragtime', \"brmf_4b\"))\n",
    "df_transferred.head()"
   ],
   "metadata": {
    "collapsed": false,
    "pycharm": {
     "name": "#%%\n"
    }
   }
  },
  {
   "cell_type": "code",
   "execution_count": null,
   "outputs": [],
   "source": [
    "h = df_transferred.head(1)\n",
    "for f in h.iterrows():\n",
    "    for c in f:\n",
    "        print(c)\n",
    "    print(\"-------------\\nSolo el autor:\", c[\"Autor\"])"
   ],
   "metadata": {
    "collapsed": false,
    "pycharm": {
     "name": "#%%\n"
    }
   }
  },
  {
   "cell_type": "code",
   "execution_count": null,
   "outputs": [],
   "source": [
    "for f in os.listdir(f\"{data_path}embeddings/brmf_4b\"):\n",
    "    if \"df_transferred\" in f:\n",
    "        df = load_pickle(f\"{data_path}embeddings/brmf_4b/{f}\")\n",
    "        save_midis(df, verbose=True)"
   ],
   "metadata": {
    "collapsed": false,
    "pycharm": {
     "name": "#%%\n",
     "is_executing": true
    }
   }
  }
 ],
 "metadata": {
  "kernelspec": {
   "display_name": "Python 3 (ipykernel)",
   "language": "python",
   "name": "python3"
  },
  "language_info": {
   "codemirror_mode": {
    "name": "ipython",
    "version": 3
   },
   "file_extension": ".py",
   "mimetype": "text/x-python",
   "name": "python",
   "nbconvert_exporter": "python",
   "pygments_lexer": "ipython3",
   "version": "3.8.10"
  },
  "colab": {
   "name": "style-transfer.ipynb",
   "provenance": [],
   "collapsed_sections": []
  }
 },
 "nbformat": 4,
 "nbformat_minor": 0
}