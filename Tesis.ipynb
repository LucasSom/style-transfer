{
 "cells": [
  {
   "cell_type": "markdown",
   "metadata": {
    "id": "ze9u3Sm90Hpd"
   },
   "source": [
    "- `songs_preprocessed = [roll]`. El equivalente actual es `rolls_preprocessed = [r.matrix for r in df['roll']]`\n",
    "\n",
    "- `roll = ndarray(16*n,89)` donde `n` es la cantidad de compases\n",
    "\n",
    "Modelo Bach-ragtimes de 4 compases tardó 1000 épocas"
   ]
  },
  {
   "cell_type": "code",
   "execution_count": null,
   "outputs": [],
   "source": [
    "import os\n",
    "\n",
    "try:\n",
    "    from google.colab import drive\n",
    "    drive.mount('/content/drive')\n",
    "\n",
    "    # Change the directory\n",
    "    os.chdir('/content/drive/MyDrive/ColabNotebooks/')\n",
    "    is_colab = True\n",
    "    print(\"Running on Colab\")\n",
    "\n",
    "except:\n",
    "    is_colab = False\n",
    "    print(\"Running locally\")\n",
    "\n",
    "dataset_path = './data/'\n",
    "path_saved_models = './saved_models'"
   ],
   "metadata": {
    "collapsed": false,
    "pycharm": {
     "name": "#%%\n"
    }
   }
  },
  {
   "cell_type": "code",
   "execution_count": null,
   "metadata": {
    "cellView": "form",
    "id": "UvBlQD_HaiTI"
   },
   "outputs": [],
   "source": [
    "#@title ¿Entrenamos un nuevo modelo? - Seleccionar directorios de los datasets\n",
    "if_train = \"Si\" #@param [\"Si\", \"No\"]\n",
    "entrenar_nuevo = \"Si\" #@param [\"Si\", \"No\"]\n",
    "\n",
    "if entrenar_nuevo:\n",
    "  epoca_inicial =  0#@param {type:\"integer\"}\n",
    "\n",
    "epoca_final =  1#@param {type:\"integer\"}\n",
    "checkpt =  1#@param {type:\"integer\"}\n",
    "\n",
    "dataset1 = \"Bach/\" #@param {type:\"string\"}\n",
    "dataset2 = \"ragtime/\" #@param {type:\"string\"}\n",
    "dataset3 = \"Mozart/\" #@param {type:\"string\"}\n",
    "dataset4 = \"Frescobaldi/\" #@param {type:\"string\"}"
   ]
  },
  {
   "cell_type": "code",
   "execution_count": null,
   "metadata": {
    "cellView": "form",
    "id": "x6ZBj89r8McQ"
   },
   "outputs": [],
   "source": [
    "#@title Transformar estilo\n",
    "ds_original = \"Bach\" #@param [\"Bach\", \"ragtime\", \"Mozart\", \"Frescobaldi\"]\n",
    "ds_objetivo = \"Mozart\" #@param [\"Bach\", \"ragtime\", \"Mozart\", \"Frescobaldi\"]\n",
    "\n",
    "nombre_pickle = ds_original+\"2\"+ds_objetivo"
   ]
  },
  {
   "cell_type": "markdown",
   "metadata": {
    "id": "hZjAGMJm_kPp"
   },
   "source": [
    "#### Setup"
   ]
  },
  {
   "cell_type": "markdown",
   "metadata": {
    "id": "WPGa1qA50lqk"
   },
   "source": [
    "##### Bibliotecas y constantes"
   ]
  },
  {
   "cell_type": "code",
   "execution_count": null,
   "metadata": {
    "id": "QFa2l3EdBbwn"
   },
   "outputs": [],
   "source": [
    "# 35s\n",
    "if is_colab:\n",
    "    ! pip install pretty_midi\n",
    "    ! apt-get install musescore\n",
    "    ! sudo apt install lilypond\n",
    "    ! pip install dfply\n",
    "\n",
    "    ! pip install pyfluidsynth\n",
    "    ! apt install musescore fluidsynth\n",
    "\n",
    "    !cp /usr/share/sounds/sf2/FluidR3_GM.sf2 ./font.sf2"
   ]
  },
  {
   "cell_type": "code",
   "execution_count": null,
   "metadata": {
    "id": "GeAQu2FVZcdu"
   },
   "outputs": [],
   "source": [
    "#3s\n",
    "import random\n",
    "random.seed(42)"
   ]
  },
  {
   "cell_type": "code",
   "execution_count": null,
   "metadata": {
    "id": "L3q6tnAyYeHB"
   },
   "outputs": [],
   "source": [
    "from utils.files_utils  import save_pickle, load_pickle, datasets_name\n",
    "from utils.plots_utils import plot_train, calculate_TSNEs, plot_tsne\n",
    "from utils.utils import exp_disponibles, filter_column\n",
    "from display_audio import save_audios, display_audios, display_score\n",
    "from roll.guoroll import get_scores_from_roll"
   ]
  },
  {
   "cell_type": "markdown",
   "metadata": {
    "id": "M_dSkz8FS4AA"
   },
   "source": [
    "____\n",
    "# Music 21\n",
    "### No hace falta correrlo para entrenar, salvo que sea algo nuevo\n",
    "\n",
    "31s"
   ]
  },
  {
   "cell_type": "markdown",
   "metadata": {
    "id": "Efdk2oDkzrZY"
   },
   "source": [
    "## Preprocessing: Estandarización del dataset\n"
   ]
  },
  {
   "cell_type": "markdown",
   "metadata": {
    "id": "AvXwemOnUY-c"
   },
   "source": [
    "Se lo lleva al formato lista de:\n",
    "\n",
    "- $n$ canciones = lista de:\n",
    "- 2 voces = lista de:\n",
    "- $e$ eventos (notas, silencios, etc.)"
   ]
  },
  {
   "cell_type": "code",
   "execution_count": null,
   "metadata": {
    "id": "-LjebB9-7a-p"
   },
   "outputs": [],
   "source": [
    "songs = {\n",
    "    dataset1[:-1]: [dataset1+path for path in os.listdir(dataset_path+dataset1)],\n",
    "    dataset2[:-1]: [dataset2+path for path in os.listdir(dataset_path+dataset2)],\n",
    "    dataset3[:-1]: [dataset3+path for path in os.listdir(dataset_path+dataset3)],\n",
    "    dataset4[:-1]: [dataset4+path for path in os.listdir(dataset_path+dataset4)],\n",
    "}"
   ]
  },
  {
   "cell_type": "markdown",
   "metadata": {
    "id": "1qPNQmUUwqfj",
    "pycharm": {
     "name": "#%% md\n"
    }
   },
   "source": [
    "### Dataset con DataFrame"
   ]
  },
  {
   "cell_type": "markdown",
   "metadata": {
    "pycharm": {
     "name": "#%% md\n"
    }
   },
   "source": [
    "\n",
    "Armamos el DataFrame con el que manejamos las canciones. Cada fila es una canción y las columnas son:\n",
    "- `Autor`\n",
    "- `Título`\n",
    "- `Id roll`: qué matriz es de la canción\n",
    "- `Roll` matriz de $16*n \\times 89$ con $n=$ la cantidad de compases\n",
    "- `Old PM`: Pretty MIDI original\n",
    "\n",
    "Luego le agregaremos:\n",
    "- `Embedding`: el vector resultado de encodear el roll"
   ]
  },
  {
   "cell_type": "code",
   "execution_count": null,
   "metadata": {
    "pycharm": {
     "name": "#%%\n"
    }
   },
   "outputs": [],
   "source": [
    "from preprocessing import preprocess_data\n",
    "\n",
    "df_midi = preprocess_data(songs)"
   ]
  },
  {
   "cell_type": "code",
   "execution_count": null,
   "metadata": {
    "id": "lazuA5yakeZV"
   },
   "outputs": [],
   "source": [
    "save_pickle(df=df_midi, name='ragtime_mozart_df')"
   ]
  },
  {
   "cell_type": "code",
   "execution_count": null,
   "metadata": {
    "id": "OaP6k-ZlBoxq"
   },
   "outputs": [],
   "source": [
    "# (df >> dfply.group_by('Autor')\n",
    "#   >> dfply.summarise(count=dfply.X['Titulo'].unique().shape[0]))"
   ]
  },
  {
   "cell_type": "code",
   "execution_count": null,
   "metadata": {
    "id": "whwwrWW_MZAQ"
   },
   "outputs": [],
   "source": [
    "# (df >> dfply.group_by('Autor', 'Titulo')\n",
    "#   >> dfply.summarise(count=dfply.X['Id roll'].shape[0])\n",
    "#   >> dfply.group_by('Autor')\n",
    "#   >> dfply.summarise(count_autor=dfply.X['count'].mean())\n",
    "#   )"
   ]
  },
  {
   "cell_type": "markdown",
   "metadata": {
    "id": "Xe65QtgYTV6k"
   },
   "source": [
    "# Modelo de GUO \n"
   ]
  },
  {
   "cell_type": "markdown",
   "metadata": {
    "id": "u9sQNM6YxOLF"
   },
   "source": [
    "### Modelo (entrenamiento o carga)"
   ]
  },
  {
   "cell_type": "markdown",
   "metadata": {
    "id": "ddTlE_5m_FGP"
   },
   "source": [
    "Para ver la imagen de la partitura:\n",
    "- `lily = lily_conv.write(`**stream**`, fmt='lilypond', fp='file', subformats=['png'])`\n",
    "- `Image(str(lily))`"
   ]
  },
  {
   "cell_type": "code",
   "execution_count": null,
   "metadata": {
    "id": "wbyoEv4cHqX2"
   },
   "outputs": [],
   "source": [
    "from model.train import continue_training\n",
    "\n",
    "# rolls_preprocessed = np.stack([r.matrix for r in df_midi['roll']])\n",
    "# vae, callbacks = continue_training(rolls_preprocessed, if_train, entrenar_nuevo, epoca_final)\n",
    "vae, callbacks = continue_training(df_midi, if_train, entrenar_nuevo, epoca_final)"
   ]
  },
  {
   "cell_type": "code",
   "execution_count": null,
   "metadata": {
    "id": "34ZDT92_vMYa"
   },
   "outputs": [],
   "source": [
    "plot_train(callbacks, epoca_final)"
   ]
  },
  {
   "cell_type": "markdown",
   "metadata": {
    "id": "FP8kaNe9DYsV"
   },
   "source": [
    "___\n",
    "## Embeddings"
   ]
  },
  {
   "cell_type": "markdown",
   "metadata": {
    "id": "h7UVyq4OXDij"
   },
   "source": [
    "#### Cálculo de embeddings"
   ]
  },
  {
   "cell_type": "code",
   "execution_count": null,
   "metadata": {
    "colab": {
     "base_uri": "https://localhost:8080/",
     "height": 1000
    },
    "id": "7__hvmr5eS4q",
    "outputId": "009811f2-a6e9-4f49-dd07-8e1ada4075fc"
   },
   "outputs": [],
   "source": [
    "from model.embeddings import obtain_embeddings\n",
    "\n",
    "df_emb = obtain_embeddings(df_midi, vae)\n",
    "df_emb"
   ]
  },
  {
   "cell_type": "markdown",
   "metadata": {
    "id": "D8mwi9GCYkoc"
   },
   "source": [
    "### Vectores característicos"
   ]
  },
  {
   "cell_type": "code",
   "execution_count": null,
   "metadata": {
    "id": "733UoxI67fHw"
   },
   "outputs": [],
   "source": [
    "from model.embeddings import obtain_characteristics\n",
    "\n",
    "df_emb_car, df_caracteristicos, caracteristicos_de_autores = obtain_characteristics(df_emb)\n",
    "\n",
    "caracteristicos_pkl_name = 'df_car'+datasets_name(songs)\n",
    "save_pickle(df_caracteristicos, caracteristicos_pkl_name)\n",
    "save_pickle(caracteristicos_de_autores, 'caracteristicos_de_autores')"
   ]
  },
  {
   "cell_type": "markdown",
   "metadata": {
    "id": "0WcLLjtcteqL"
   },
   "source": [
    "### Creación de rolls y midis"
   ]
  },
  {
   "cell_type": "code",
   "execution_count": null,
   "metadata": {
    "id": "vpiZ6UAcVuqP"
   },
   "outputs": [],
   "source": [
    "decoder = vae.get_layer(name='decoder')"
   ]
  },
  {
   "cell_type": "markdown",
   "metadata": {
    "id": "18snC7lRFibf"
   },
   "source": [
    "## Transferir estilos"
   ]
  },
  {
   "cell_type": "code",
   "execution_count": null,
   "metadata": {
    "colab": {
     "base_uri": "https://localhost:8080/",
     "height": 418
    },
    "id": "iTQW-V_ZaHuH",
    "outputId": "e1e87edf-0bed-40e5-a4d3-83677199f44e"
   },
   "outputs": [],
   "source": [
    "from model.embeddings import cambiar_estilo, get_embeddings_roll_df\n",
    "\n",
    "#@title ¿Ya reconstruye? ¿Transferimos estilos o solo probamos la reconstrucción?\n",
    "transfer = False #@param {type:\"boolean\"}\n",
    "\n",
    "df_transfered = cambiar_estilo(df_emb_car, caracteristicos_de_autores, ds_original, ds_objetivo, escala=1) if transfer else df_emb_car\n",
    "# save_pickle(df_transfered, nombre_pickle)\n",
    "\n",
    "\n",
    "# TODO: Llegué hasta acá refactorizando\n",
    "exp_list = [e for e in exp_disponibles(df_transfered) if 'roll' not in e]\n",
    "print(\"Lista de experimentos:\")\n",
    "print(exp_list)\n",
    "\n",
    "for exp in exp_list:\n",
    "  get_embeddings_roll_df(df_transfered, vae, column=exp, inline=True)\n",
    "\n",
    "save_pickle(df_transfered, nombre_pickle)\n",
    "print(\"Guardado en \" + nombre_pickle + \".pkl\")"
   ]
  },
  {
   "cell_type": "markdown",
   "metadata": {
    "id": "g25IV2bkNPGI"
   },
   "source": [
    "___\n",
    "# Working space\n",
    "Por default, usar `ragtime_mozart_df`. Tiene:\n",
    "- Rolls\n",
    "- pretty_midis\n",
    "Entonces no hace falta correr Music 21."
   ]
  },
  {
   "cell_type": "code",
   "execution_count": null,
   "metadata": {
    "colab": {
     "base_uri": "https://localhost:8080/"
    },
    "id": "09z0p_ooSwy_",
    "outputId": "08776b7e-fb75-44b3-ebef-6e7f79d3268e"
   },
   "outputs": [],
   "source": [
    "# current_df = df_midi\n",
    "current_df = load_pickle('ragtime_mozart_df')\n",
    "current_df.columns"
   ]
  },
  {
   "cell_type": "code",
   "execution_count": null,
   "metadata": {
    "id": "FkFDtRzcKw80"
   },
   "outputs": [],
   "source": [
    "save_pickle(current_df['roll'][0].matrix.shape, 'roll_ejemplo')\n",
    "sonata545_df = load_pickle('sonata545')"
   ]
  },
  {
   "cell_type": "code",
   "execution_count": null,
   "metadata": {
    "colab": {
     "base_uri": "https://localhost:8080/"
    },
    "id": "m574tKVeENPi",
    "outputId": "6d86a47f-f4fc-4c4c-daad-89b7e818b41a"
   },
   "outputs": [],
   "source": [
    "# canciones_a_imprimir['stoptime.mid']\n",
    "df_emb = load_pickle('df_emb_car')\n",
    "\n",
    "# list(df_emb[df_emb['Autor']=='Mozart']['Titulo'])\n",
    "\n",
    "df_moz = df_emb[df_emb['Autor']=='Mozart']\n",
    "df_moz[df_moz['Titulo'].str.contains('sonata15')].head(2)\n",
    "\n",
    "save_pickle(df_moz[df_moz['Titulo'].str.contains('sonata15')].head(2), \"df_head\")\n",
    "\n",
    "dict_df = {}\n",
    "\n",
    "for nombre in current_df['Autor']:\n",
    "  cantidad = len(list(current_df[(current_df['Autor'] == nombre) & (current_df['Tipo'] == 'Titulo')]))\n",
    "  dict_df[nombre] = cantidad\n",
    "  # print(nombre, cantidad)\n",
    "\n",
    "dict_df"
   ]
  },
  {
   "cell_type": "code",
   "execution_count": null,
   "metadata": {
    "id": "zp9PH7Y9UkL2"
   },
   "outputs": [],
   "source": [
    "df_completo = get_embeddings_roll_df(df_emb, vae)"
   ]
  },
  {
   "cell_type": "code",
   "execution_count": null,
   "metadata": {
    "colab": {
     "base_uri": "https://localhost:8080/"
    },
    "id": "kA6s1ARNISb5",
    "outputId": "6a72ff1b-128f-485d-8f54-9cdf2bf7dca6"
   },
   "outputs": [],
   "source": [
    "# TODO: Celda probablemente deprecada\n",
    "from roll.guoroll import _roll_to_midi\n",
    "\n",
    "current_df['Roll midi'] = _roll_to_midi(current_df['roll'].matrix, current_df['Old PM'])\n",
    "# TODO: no va a funcionar la línea de arriba. Antes era roll_to_midi(current_df['Roll'], ...)current_df.columns"
   ]
  },
  {
   "cell_type": "code",
   "execution_count": null,
   "metadata": {
    "colab": {
     "base_uri": "https://localhost:8080/"
    },
    "id": "rX4s8gCV7Vy_",
    "outputId": "b8590d7b-6ec1-407f-f664-a0e73dced43b"
   },
   "outputs": [],
   "source": [
    "callbacks.history.items()"
   ]
  },
  {
   "cell_type": "markdown",
   "metadata": {
    "id": "7tDVpPNPDYRP"
   },
   "source": [
    "___\n",
    "# Visualizaciones"
   ]
  },
  {
   "cell_type": "markdown",
   "metadata": {
    "id": "bNxwFZK-lTlr"
   },
   "source": [
    "## Gráficos\n",
    "Visualización de embeddings"
   ]
  },
  {
   "cell_type": "code",
   "execution_count": null,
   "metadata": {
    "id": "7BGbK61Msx_U"
   },
   "outputs": [],
   "source": [
    "tsne_emb = calculate_TSNEs(current_df)\n",
    "\n",
    "# plot_tsnes_comparison(df_emb, tsne_emb[1:])\n",
    "plot_tsne(current_df, tsne_emb[0])"
   ]
  },
  {
   "cell_type": "markdown",
   "metadata": {
    "id": "PL8xCklAVIw-"
   },
   "source": [
    "## MIDIs"
   ]
  },
  {
   "cell_type": "markdown",
   "metadata": {
    "id": "GrAg9N9_DvtH"
   },
   "source": [
    "Tomamos las matrices generadas y las volvemos a convertir en midis"
   ]
  },
  {
   "cell_type": "code",
   "execution_count": null,
   "metadata": {
    "cellView": "form",
    "id": "3fFO-L4JvQEJ"
   },
   "outputs": [],
   "source": [
    "def emb_disponibles(df):\n",
    "  return [c[:-5] for c in df.columns if \"midi\" in c]\n",
    "\n",
    "#@title # Escuchar MIDIs\n",
    "pickle_df = \"ragtime2Mozart\" #@param [\"ragtime2bach\", \"bach2ragtime\", \"Bach2Mozart\", \"Mozart2Bach\", \"Mozart2Frescobaldi\", \"Mozart2ragtime\", \"ragtime2Mozart\", \"Frescobaldi2Mozart\", \"Frescobaldi2Bach\", \"ragtime2Frescobaldi\"]\n",
    "current_df = load_pickle(pickle_df)\n",
    "\n",
    "# @ markdown Opciones a escuchar:\n",
    "\n",
    "# for e in emb_disponibles(current_df):\n",
    "#   print(e)"
   ]
  },
  {
   "cell_type": "code",
   "execution_count": null,
   "metadata": {
    "colab": {
     "background_save": true,
     "base_uri": "https://localhost:8080/",
     "height": 318
    },
    "id": "vx7O109bTmuq",
    "outputId": "53b79bfd-500f-4e39-8ddd-cf2ff85b0295"
   },
   "outputs": [],
   "source": [
    "columna = \"Embedding\" #@param [\"Roll\", \"Embedding\", \"Mutacion_add\", \"Mutacion_add_sub\"]\n",
    "muestras = 2 #@param {type:\"slider\", min:0, max:10, step:1}\n",
    "\n",
    "midis = list(zip(current_df['Titulo'], current_df['Id roll'], current_df[columna+' midi'], current_df['Roll midi']))[:muestras]\n",
    "\n",
    "# #@markdown # ¿Eliminar midis viejos?\n",
    "# eliminar = True #@param {type:\"boolean\"}\n",
    "# if eliminar:\n",
    "#   !rm -rf /content/drive/MyDrive/ColabNotebooks/MIDIs_Generados/Guo/*\n",
    "# cancion = input(\"Nombre de los archivos nuevos:\")\n",
    "\n",
    "save_audios(midis)\n",
    "display_audios(midis)"
   ]
  },
  {
   "cell_type": "code",
   "execution_count": null,
   "metadata": {
    "cellView": "form",
    "colab": {
     "base_uri": "https://localhost:8080/",
     "height": 739
    },
    "id": "fbh9w_wrWlt_",
    "outputId": "d958df93-500f-4b6d-bdb6-8c85e625420d"
   },
   "outputs": [],
   "source": [
    "columna = \"Embedding\" #@param [\"Roll\", \"Embedding\", \"Mutacion_add\", \"Mutacion_add_sub\"]\n",
    "muestras = 5 #@param {type:\"slider\", min:0, max:10, step:1}\n",
    "\n",
    "midis = list(zip(current_df['Titulo'], current_df['Id roll'], current_df[columna+' midis'], current_df['Roll midis']))[:muestras]\n",
    "\n",
    "save_audios(midis)\n",
    "display_audios(midis)"
   ]
  },
  {
   "cell_type": "code",
   "execution_count": null,
   "metadata": {
    "cellView": "form",
    "colab": {
     "base_uri": "https://localhost:8080/",
     "height": 739
    },
    "id": "nvXWyozjWu9s",
    "outputId": "6ed731dc-9376-449f-8a02-284fd7a02a43"
   },
   "outputs": [],
   "source": [
    "columna = \"Mutacion_add_sub\" #@param [\"Roll\", \"Embedding\", \"Mutacion_add\", \"Mutacion_add_sub\"]\n",
    "muestras = 5 #@param {type:\"slider\", min:0, max:10, step:1}\n",
    "\n",
    "midis = list(zip(current_df['Titulo'], current_df['Id roll'], current_df[columna+' midis'], current_df['Roll midis']))[:muestras]\n",
    "\n",
    "save_audios(midis)\n",
    "display_audios(midis)"
   ]
  },
  {
   "cell_type": "markdown",
   "metadata": {
    "id": "5_IJ10MEC0Pm"
   },
   "source": [
    "## Partituras (falta actualizar; hoy no funciona)\n",
    "Asignar a `canciones_a_imprimir` el diccionario `{nombre: roll}`"
   ]
  },
  {
   "cell_type": "markdown",
   "metadata": {
    "id": "PGLavG3xwU_K"
   },
   "source": [
    "#### Imprimir"
   ]
  },
  {
   "cell_type": "code",
   "execution_count": null,
   "metadata": {
    "pycharm": {
     "name": "#%%\n"
    }
   },
   "outputs": [],
   "source": [
    "# [nombre for nombre, roll in canciones_a_imprimir]\n",
    "\n",
    "canciones_a_imprimir = filter_column(current_df, 'roll')\n",
    "embeddings_a_imprimir = filter_column(current_df, 'Embedding')"
   ]
  },
  {
   "cell_type": "code",
   "execution_count": null,
   "metadata": {
    "colab": {
     "base_uri": "https://localhost:8080/",
     "height": 349
    },
    "id": "ABNUa95ZC76k",
    "outputId": "1d9eb21a-4af8-4ea4-9795-f57224c7c665",
    "pycharm": {
     "is_executing": true
    }
   },
   "outputs": [],
   "source": [
    "# def get_scores_from_roll(roll):\n",
    "#   return roll_to_score(roll.T)\n",
    "\n",
    "# noised_scores = get_scores_from_roll(noised_roll)\n",
    "# dup_scores = get_scores_from_roll(dup_roll)\n",
    "# sigma_scores = get_scores_from_roll(sigma_roll)\n",
    "# progression_scores = get_scores_from_roll(dup_progression_roll)\n",
    "\n",
    "# all_scores = [noised_scores, dup_scores, sigma_scores, progression_scores]\n",
    "scores =  { nombre: get_scores_from_roll(roll)\n",
    "    for nombre, roll in canciones_a_imprimir.items()}"
   ]
  },
  {
   "cell_type": "code",
   "execution_count": null,
   "metadata": {
    "id": "TtJMRjvwyoBW"
   },
   "outputs": [],
   "source": [
    "# lily = lily_conv.write(original_score, fmt='lilypond', fp='file', subformats=['png'])\n",
    "# display(Image(str(lily)))"
   ]
  },
  {
   "cell_type": "code",
   "execution_count": null,
   "metadata": {
    "id": "yQEKLVAcJ1wB",
    "pycharm": {
     "name": "#%%\n"
    }
   },
   "outputs": [],
   "source": [
    "for nombre, score in scores.items():\n",
    "  print(nombre)\n",
    "  for i,s in enumerate(score):\n",
    "    print(i)\n",
    "    display_score(s)"
   ]
  }
 ],
 "metadata": {
  "colab": {
   "collapsed_sections": [
    "WPGa1qA50lqk",
    "M_dSkz8FS4AA",
    "Efdk2oDkzrZY",
    "FP8kaNe9DYsV",
    "h7UVyq4OXDij",
    "D8mwi9GCYkoc",
    "0WcLLjtcteqL",
    "18snC7lRFibf",
    "bNxwFZK-lTlr",
    "CxVSac9whrfj"
   ],
   "name": "Tesis.ipynb",
   "provenance": []
  },
  "kernelspec": {
   "display_name": "Python 3",
   "language": "python",
   "name": "python3"
  },
  "language_info": {
   "codemirror_mode": {
    "name": "ipython",
    "version": 3
   },
   "file_extension": ".py",
   "mimetype": "text/x-python",
   "name": "python",
   "nbconvert_exporter": "python",
   "pygments_lexer": "ipython3",
   "version": "3.7.3"
  }
 },
 "nbformat": 4,
 "nbformat_minor": 1
}